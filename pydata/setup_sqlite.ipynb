{
 "cells": [
  {
   "cell_type": "code",
   "execution_count": 1,
   "id": "f6be97d6-30e9-47ae-b6df-6627dbf46ca3",
   "metadata": {},
   "outputs": [],
   "source": [
    "import sqlite3\n",
    "from sqlite3 import OperationalError"
   ]
  },
  {
   "cell_type": "code",
   "execution_count": 2,
   "id": "89a1f2f6-9b3f-4a73-928b-ab7c1515d973",
   "metadata": {},
   "outputs": [],
   "source": [
    "con = sqlite3.connect(\"rat_data.db\")\n",
    "con.execute(\"PRAGMA foreign_keys=1\")\n",
    "cur = con.cursor()"
   ]
  },
  {
   "cell_type": "code",
   "execution_count": 8,
   "id": "e7682099-aa6d-42f3-a86e-86fafb1689b3",
   "metadata": {},
   "outputs": [],
   "source": [
    "def drop_tables():\n",
    "    con.execute(\"DROP TABLE IF EXISTS sightings\")\n",
    "    con.execute(\"DROP TABLE IF EXISTS stations\")\n",
    "\n",
    "def create_tables():\n",
    "    cur.execute('''\n",
    "    CREATE TABLE IF NOT EXISTS stations(\n",
    "    station_id INTEGER PRIMARY KEY, \n",
    "    station_name TEXT,\n",
    "    lines_served TEXT,\n",
    "    lat TEXT DEFAULT NULL,\n",
    "    long TEXT DEFAULT NULL\n",
    "    )\n",
    "    ''')\n",
    "    \n",
    "    cur.execute('''\n",
    "    CREATE TABLE IF NOT EXISTS sightings(\n",
    "    station_id INTEGER, \n",
    "    so_many INTEGER, \n",
    "    one_or_two INTEGER, \n",
    "    none INTEGER, \n",
    "    date_start TEXT, \n",
    "    date_end TEXT,\n",
    "    PRIMARY KEY (station_id, date_start, date_end),\n",
    "    FOREIGN KEY (station_id) REFERENCES stations(station_id)\n",
    "    )\n",
    "    ''')\n",
    "    con.commit()\n"
   ]
  },
  {
   "cell_type": "code",
   "execution_count": 4,
   "id": "190d923f-04ed-4564-9947-dea6a15734f0",
   "metadata": {},
   "outputs": [],
   "source": [
    "# def insert_rows(rows):\n",
    "#     cur.executemany(\"INSERT INTO sightings VALUES(?, ?, ?, ?, ?, ?, ?)\", rows)\n",
    "#     con.commit()\n",
    "# def insert_row(row):\n",
    "#     cur.execute(\"INSERT INTO sightings VALUES(?, ?, ?, ?, ?, ?, ?)\", row)\n",
    "#     con.commit()\n",
    "\n",
    "def insert_stations(rows):\n",
    "    cur.executemany(\"INSERT OR IGNORE INTO stations VALUES(?, ?, ?, ?, ?)\", rows)\n",
    "    con.commit()\n",
    "\n",
    "def insert_sightings(rows):\n",
    "    cur.executemany(\"INSERT OR IGNORE INTO sightings VALUES(?, ?, ?, ?, ?, ?)\", rows)\n",
    "    con.commit()\n",
    "\n",
    "def update_latlong(rows):\n",
    "    cur.executemany(\"UPDATE stations SET lat=(?), long=(?) WHERE station_id=(?)\", rows)\n",
    "    con.commit()"
   ]
  },
  {
   "cell_type": "code",
   "execution_count": 5,
   "id": "caed005a-c024-4c3f-bd64-11bd7e43a47c",
   "metadata": {},
   "outputs": [],
   "source": [
    "def get_table_name(id):\n",
    "    res = cur.execute(f\"SELECT station_name FROM stations WHERE station_id={id}\")\n",
    "    return res.fetchall()"
   ]
  },
  {
   "cell_type": "code",
   "execution_count": 6,
   "id": "858324c2-3a56-4220-bf28-123363f9c899",
   "metadata": {},
   "outputs": [],
   "source": [
    "def get_connector():\n",
    "    return con\n",
    "\n",
    "def get_cursor():\n",
    "    return cur"
   ]
  }
 ],
 "metadata": {
  "kernelspec": {
   "display_name": "Python 3 (ipykernel)",
   "language": "python",
   "name": "python3"
  },
  "language_info": {
   "codemirror_mode": {
    "name": "ipython",
    "version": 3
   },
   "file_extension": ".py",
   "mimetype": "text/x-python",
   "name": "python",
   "nbconvert_exporter": "python",
   "pygments_lexer": "ipython3",
   "version": "3.9.13"
  }
 },
 "nbformat": 4,
 "nbformat_minor": 5
}
