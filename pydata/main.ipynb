{
 "cells": [
  {
   "cell_type": "code",
   "execution_count": 14,
   "id": "9757decc",
   "metadata": {},
   "outputs": [
    {
     "data": {
      "text/plain": [
       "<contextlib.ExitStack at 0x1cd1107ea30>"
      ]
     },
     "execution_count": 14,
     "metadata": {},
     "output_type": "execute_result"
    }
   ],
   "source": [
    "import os\n",
    "from datetime import datetime\n",
    "\n",
    "import matplotlib.pyplot as plt\n",
    "import numpy as np\n",
    "import pandas as pd\n",
    "import plotly.express as px\n",
    "import plotly.graph_objects as go\n",
    "import plotly.io as pio\n",
    "import scipy.stats\n",
    "import seaborn as sns\n",
    "import statsmodels.api as sm\n",
    "from dateutil.relativedelta import relativedelta\n",
    "from plotly.subplots import make_subplots\n",
    "from scipy.stats import normaltest\n",
    "from sklearn import preprocessing\n",
    "\n",
    "pd.set_option(\"display.max_columns\", None)\n",
    "pd.set_option(\"display.width\", 1000)\n",
    "pd.options.mode.chained_assignment = None\n",
    "# seaborn.set(rc={'figure.figsize': (30, 10)})\n",
    "plt.ion()"
   ]
  },
  {
   "cell_type": "markdown",
   "id": "14ebc5d7-7462-4050-abe5-5d02106a3e5f",
   "metadata": {},
   "source": [
    "# SQLite database setup\n"
   ]
  },
  {
   "cell_type": "code",
   "execution_count": 15,
   "id": "29d3b3e9-f1ec-42d1-aeee-3aa19a2c61e9",
   "metadata": {},
   "outputs": [],
   "source": [
    "import import_ipynb\n",
    "import setup_sqlite\n",
    "# %run setup_sqlite.ipynb"
   ]
  },
  {
   "cell_type": "code",
   "execution_count": 16,
   "id": "df891677-6d4d-4093-b8bb-fb1fff4d0c10",
   "metadata": {},
   "outputs": [],
   "source": [
    "setup_sqlite.drop_tables()\n",
    "setup_sqlite.create_tables()"
   ]
  },
  {
   "cell_type": "markdown",
   "id": "7237be39-596b-498a-ae9a-9de82ff1d7ac",
   "metadata": {},
   "source": [
    "# Data Acquisition\n",
    "\n",
    "Some of the data was retrieved manually from the Transitapp website (usually the earlier dates in this project's record).\n",
    "\n",
    "Most of the data was retrieved from https://transitapp.com/rats.csv at 6:00PM EST via a cronjob. This may mean that the dataset name might be mismatched from what the website actually gives you (typically off by one day).\n",
    "\n",
    "However all of the datasets are non-overlapping.\n"
   ]
  },
  {
   "cell_type": "markdown",
   "id": "432aca8b-781a-4d0e-9cf2-26edd03e0459",
   "metadata": {},
   "source": [
    "## Reformatting raw data files from cloud server storage\n"
   ]
  },
  {
   "cell_type": "code",
   "execution_count": 17,
   "id": "3464a96e-bc6d-40a2-9e28-a7f519ed38bc",
   "metadata": {},
   "outputs": [
    {
     "name": "stdout",
     "output_type": "stream",
     "text": [
      "CONFLICT -- rats 2023-11-11.csv, Transit app rat reports - 2023-10-12 to 2023-11-11.csv\n",
      "CONFLICT -- rats 2023-11-12.csv, Transit app rat reports - 2023-10-13 to 2023-11-12.csv\n"
     ]
    }
   ],
   "source": [
    "root_data_dir = \"rat_data\"\n",
    "\n",
    "data_files = os.listdir(root_data_dir)\n",
    "formatted_files = []\n",
    "\n",
    "# Remove helper sh files\n",
    "for file in data_files:\n",
    "    if file.endswith(\".sh\"):\n",
    "        data_files.remove(file)\n",
    "\n",
    "# Standardize name of files and remove conflicting ones\n",
    "for i, file in enumerate(data_files):\n",
    "    if file.startswith(\"rats\"):\n",
    "        date = file.split(\" \")[1].split(\".\")[0]\n",
    "        dt_end = datetime.strptime(date, \"%Y-%m-%d\")\n",
    "        dt_start = dt_end - relativedelta(days=30)\n",
    "\n",
    "        new_name = f\"Transit app rat reports - {dt_start.strftime('%Y-%m-%d')} to {dt_end.strftime('%Y-%m-%d')}.csv\"\n",
    "        old_path = os.path.join(\"rat_data\", file)\n",
    "        new_path = os.path.join(\"rat_data\", new_name)\n",
    "\n",
    "        if new_name in data_files:\n",
    "            print(f\"CONFLICT -- {file}, {data_files[data_files.index(new_name)]}\")\n",
    "        else:\n",
    "            print(f\"{old_path} --> {new_path}\")\n",
    "            os.rename(old_path, new_path)\n",
    "            formatted_files.append(new_name)\n",
    "    else:\n",
    "        formatted_files.append(file)\n",
    "\n",
    "formatted_files = sorted(formatted_files)"
   ]
  },
  {
   "cell_type": "markdown",
   "id": "375e18a9-30c0-4a51-89d9-d9f7906a9aef",
   "metadata": {},
   "source": [
    "## Collation of datasets and adding some addition columns of information\n"
   ]
  },
  {
   "cell_type": "code",
   "execution_count": 18,
   "id": "4c12c6dd",
   "metadata": {},
   "outputs": [
    {
     "name": "stdout",
     "output_type": "stream",
     "text": [
      "     station_id          station_name  so_many  one_or_two  none lines_served\n",
      "0         17496                191 St        3           7     2            1\n",
      "1         17700              Grant Av        5           8     3            A\n",
      "2         17497                181 St        9          21    10            1\n",
      "3         17872                Bowery        8           6     5          J Z\n",
      "4         20055   Kingston-Throop Avs       16          10    11          A C\n",
      "..          ...                   ...      ...         ...   ...          ...\n",
      "375       17820           Beach 25 St        0           0    11            A\n",
      "376       17864             Seneca Av        0           0    11            M\n",
      "377       17919              Annadale        0           0    10          SIR\n",
      "378       20085  Astoria-Ditmars Blvd        0           0    20          N W\n",
      "379       20161      75 St-Elderts Ln        0           0    12          J Z\n",
      "\n",
      "[380 rows x 6 columns]\n",
      "     station_id          station_name  so_many  one_or_two  none lines_served\n",
      "0         17496                191 St        3           7     2            1\n",
      "1         17700              Grant Av        5           8     3            A\n",
      "2         17872                Bowery        8           6     5          J Z\n",
      "3         17549                116 St       10          12     9          2 3\n",
      "4         20055   Kingston-Throop Avs       16          10    11          A C\n",
      "..          ...                   ...      ...         ...   ...          ...\n",
      "377       17716                 71 St        0           0    12            D\n",
      "378       17779              Bay Pkwy        0           0    12            F\n",
      "379       17864             Seneca Av        0           0    11            M\n",
      "380       20085  Astoria-Ditmars Blvd        0           0    23          N W\n",
      "381       20161      75 St-Elderts Ln        0           0    13          J Z\n",
      "\n",
      "[382 rows x 6 columns]\n",
      "     station_id          station_name  so_many  one_or_two  none lines_served\n",
      "0         17496                191 St        3           6     2            1\n",
      "1         17700              Grant Av        5           8     3            A\n",
      "2         17879             Kings Hwy        5           4     3      D N Q W\n",
      "3         17549                116 St       10          13     9          2 3\n",
      "4         17872                Bowery        9           6     6          J Z\n",
      "..          ...                   ...      ...         ...   ...          ...\n",
      "382       17716                 71 St        0           0    12            D\n",
      "383       17779              Bay Pkwy        0           0    12            F\n",
      "384       17864             Seneca Av        0           0    11            M\n",
      "385       20085  Astoria-Ditmars Blvd        0           0    25          N W\n",
      "386       20161      75 St-Elderts Ln        0           0    13          J Z\n",
      "\n",
      "[387 rows x 6 columns]\n",
      "     station_id          station_name  so_many  one_or_two  none lines_served\n",
      "0         17496                191 St        3           7     2            1\n",
      "1         17700              Grant Av        4           8     3            A\n",
      "2         20017   137 St-City College        6           3     3            1\n",
      "3         17921           Great Kills        8          12     7          SIR\n",
      "4         20055   Kingston-Throop Avs       17           8    10          A C\n",
      "..          ...                   ...      ...         ...   ...          ...\n",
      "385       17716                 71 St        0           0    11            D\n",
      "386       17779              Bay Pkwy        0           0    13            F\n",
      "387       17864             Seneca Av        0           0    11            M\n",
      "388       20085  Astoria-Ditmars Blvd        0           0    23          N W\n",
      "389       20161      75 St-Elderts Ln        0           0    14          J Z\n",
      "\n",
      "[390 rows x 6 columns]\n",
      "     station_id          station_name  so_many  one_or_two  none lines_served\n",
      "0         17496                191 St        3           7     2            1\n",
      "1         17700              Grant Av        4           8     3            A\n",
      "2         20017   137 St-City College        6           3     3            1\n",
      "3         17921           Great Kills        8          12     7          SIR\n",
      "4         17500                145 St        3           5     3            1\n",
      "..          ...                   ...      ...         ...   ...          ...\n",
      "383       17716                 71 St        0           0    11            D\n",
      "384       17779              Bay Pkwy        0           0    13            F\n",
      "385       17864             Seneca Av        0           0    12            M\n",
      "386       20085  Astoria-Ditmars Blvd        0           0    23          N W\n",
      "387       20161      75 St-Elderts Ln        0           0    12          J Z\n",
      "\n",
      "[388 rows x 6 columns]\n",
      "     station_id          station_name  so_many  one_or_two  none lines_served\n",
      "0         17496                191 St        3           7     2            1\n",
      "1         17700              Grant Av        4           8     3            A\n",
      "2         20017   137 St-City College        5           3     3            1\n",
      "3         20055   Kingston-Throop Avs       16           6     9          A C\n",
      "4         17500                145 St        2           5     3            1\n",
      "..          ...                   ...      ...         ...   ...          ...\n",
      "377       17716                 71 St        0           0    11            D\n",
      "378       17779              Bay Pkwy        0           0    13            F\n",
      "379       17864             Seneca Av        0           0    11            M\n",
      "380       20085  Astoria-Ditmars Blvd        0           0    24          N W\n",
      "381       20161      75 St-Elderts Ln        0           0    10          J Z\n",
      "\n",
      "[382 rows x 6 columns]\n",
      "     station_id            station_name  so_many  one_or_two  none lines_served\n",
      "0         17496                  191 St        3           7     2            1\n",
      "1         17876                   18 Av        1           7     2      D N Q W\n",
      "2         17700                Grant Av        4           7     3            A\n",
      "3         20017     137 St-City College        5           3     3            1\n",
      "4         20055     Kingston-Throop Avs       15           6     8          A C\n",
      "..          ...                     ...      ...         ...   ...          ...\n",
      "373       20083  Canarsie-Rockaway Pkwy        0           1    23            L\n",
      "374       17716                   71 St        0           0    11            D\n",
      "375       17779                Bay Pkwy        0           0    11            F\n",
      "376       17864               Seneca Av        0           0    11            M\n",
      "377       20085    Astoria-Ditmars Blvd        0           0    24          N W\n",
      "\n",
      "[378 rows x 6 columns]\n",
      "     station_id            station_name  so_many  one_or_two  none lines_served\n",
      "0         17496                  191 St        3           7     2            1\n",
      "1         17876                   18 Av        1           7     2      D N Q W\n",
      "2         17700                Grant Av        4           7     3            A\n",
      "3         20017     137 St-City College        5           3     3            1\n",
      "4         20055     Kingston-Throop Avs       15           6     8          A C\n",
      "..          ...                     ...      ...         ...   ...          ...\n",
      "373       20083  Canarsie-Rockaway Pkwy        0           1    23            L\n",
      "374       17716                   71 St        0           0    11            D\n",
      "375       17779                Bay Pkwy        0           0    11            F\n",
      "376       17864               Seneca Av        0           0    11            M\n",
      "377       20085    Astoria-Ditmars Blvd        0           0    24          N W\n",
      "\n",
      "[378 rows x 6 columns]\n",
      "     station_id          station_name  so_many  one_or_two  none lines_served\n",
      "0         17496                191 St        3           6     2            1\n",
      "1         17700              Grant Av        5           7     3            A\n",
      "2         17876                 18 Av        1           7     2      D N Q W\n",
      "3         20055   Kingston-Throop Avs       16           6     7          A C\n",
      "4         17566             Church Av        9           7     6          2 5\n",
      "..          ...                   ...      ...         ...   ...          ...\n",
      "379       17716                 71 St        0           0    11            D\n",
      "380       17779              Bay Pkwy        0           0    11            F\n",
      "381       17864             Seneca Av        0           0    11            M\n",
      "382       20085  Astoria-Ditmars Blvd        0           0    23          N W\n",
      "383       20161      75 St-Elderts Ln        0           0    10          J Z\n",
      "\n",
      "[384 rows x 6 columns]\n",
      "     station_id          station_name  so_many  one_or_two  none lines_served\n",
      "0         17704                104 St        1           8     1            A\n",
      "1         17700              Grant Av        6           9     3            A\n",
      "2         17496                191 St        3           6     2            1\n",
      "3         17876                 18 Av        1           7     2      D N Q W\n",
      "4         20017   137 St-City College        5           3     2            1\n",
      "..          ...                   ...      ...         ...   ...          ...\n",
      "384       17716                 71 St        0           0    11            D\n",
      "385       17779              Bay Pkwy        0           0    11            F\n",
      "386       17864             Seneca Av        0           0    11            M\n",
      "387       20085  Astoria-Ditmars Blvd        0           0    23          N W\n",
      "388       20161      75 St-Elderts Ln        0           0    10          J Z\n",
      "\n",
      "[389 rows x 6 columns]\n",
      "     station_id          station_name  so_many  one_or_two  none lines_served\n",
      "0         17732                155 St        7           7     3          B D\n",
      "1         20055   Kingston-Throop Avs       16           6     5          A C\n",
      "2         17496                191 St        2           6     2            1\n",
      "3         17876                 18 Av        0           8     2      D N Q W\n",
      "4         17699             Euclid Av       23          26    16          A C\n",
      "..          ...                   ...      ...         ...   ...          ...\n",
      "371       17522           Franklin St        0           0    11          1 2\n",
      "372       17716                 71 St        0           0    10            D\n",
      "373       17749              Avenue U        0           0    18            Q\n",
      "374       17864             Seneca Av        0           0    11            M\n",
      "375       20085  Astoria-Ditmars Blvd        0           0    23          N W\n",
      "\n",
      "[376 rows x 6 columns]\n",
      "     station_id          station_name  so_many  one_or_two  none lines_served\n",
      "0         17732                155 St        7           7     3          B D\n",
      "1         20055   Kingston-Throop Avs       16           6     5          A C\n",
      "2         17496                191 St        2           6     2            1\n",
      "3         17876                 18 Av        0           8     2      D N Q W\n",
      "4         17699             Euclid Av       23          26    16          A C\n",
      "..          ...                   ...      ...         ...   ...          ...\n",
      "371       17522           Franklin St        0           0    11          1 2\n",
      "372       17716                 71 St        0           0    10            D\n",
      "373       17749              Avenue U        0           0    18            Q\n",
      "374       17864             Seneca Av        0           0    11            M\n",
      "375       20085  Astoria-Ditmars Blvd        0           0    23          N W\n",
      "\n",
      "[376 rows x 6 columns]\n",
      "     station_id          station_name  so_many  one_or_two  none lines_served\n",
      "0         17732                155 St        8           8     2          B D\n",
      "1         20055   Kingston-Throop Avs       14           6     4          A C\n",
      "2         17496                191 St        2           6     2            1\n",
      "3         17758          Parsons Blvd        7          14     6          E F\n",
      "4         17699             Euclid Av       23          27    15          A C\n",
      "..          ...                   ...      ...         ...   ...          ...\n",
      "319       17522           Franklin St        0           0    11          1 2\n",
      "320       17716                 71 St        0           0    10            D\n",
      "321       17749              Avenue U        0           0    17            Q\n",
      "322       17864             Seneca Av        0           0    10            M\n",
      "323       20085  Astoria-Ditmars Blvd        0           0    22          N W\n",
      "\n",
      "[324 rows x 6 columns]\n",
      "     station_id          station_name  so_many  one_or_two  none lines_served\n",
      "0         17732                155 St        8           8     2          B D\n",
      "1         20055   Kingston-Throop Avs       15           6     3          A C\n",
      "2         17700              Grant Av        6           8     4            A\n",
      "3         17699             Euclid Av       23          26    15          A C\n",
      "4         17758          Parsons Blvd        5          14     6          E F\n",
      "..          ...                   ...      ...         ...   ...          ...\n",
      "375       20079     85 St-Forest Pkwy        0           1    21          J Z\n",
      "376       17522           Franklin St        0           0    11          1 2\n",
      "377       17716                 71 St        0           0    10            D\n",
      "378       17864             Seneca Av        0           0    10            M\n",
      "379       20085  Astoria-Ditmars Blvd        0           0    20          N W\n",
      "\n",
      "[380 rows x 6 columns]\n",
      "     station_id           station_name  so_many  one_or_two  none lines_served\n",
      "0         17732                 155 St        9           8     2          B D\n",
      "1         20055    Kingston-Throop Avs       15           6     3          A C\n",
      "2         17758           Parsons Blvd        5          14     5          E F\n",
      "3         17700               Grant Av        6           8     4            A\n",
      "4         20072  Myrtle-Willoughby Avs        4           6     3            G\n",
      "..          ...                    ...      ...         ...   ...          ...\n",
      "375       20079      85 St-Forest Pkwy        0           1    21          J Z\n",
      "376       17522            Franklin St        0           0    11          1 2\n",
      "377       17716                  71 St        0           0    10            D\n",
      "378       17864              Seneca Av        0           0    11            M\n",
      "379       20085   Astoria-Ditmars Blvd        0           0    21          N W\n",
      "\n",
      "[380 rows x 6 columns]\n",
      "     station_id           station_name  so_many  one_or_two  none lines_served\n",
      "0         17732                 155 St        8           8     2          B D\n",
      "1         20055    Kingston-Throop Avs       14           5     3          A C\n",
      "2         20072  Myrtle-Willoughby Avs        4           7     2            G\n",
      "3         17758           Parsons Blvd        4          13     5          E F\n",
      "4         17700               Grant Av        6           8     5            A\n",
      "..          ...                    ...      ...         ...   ...          ...\n",
      "371       20032    Eastchester-Dyre Av        0           1    16            5\n",
      "372       17816            Beach 67 St        0           1    17            A\n",
      "373       17834             Norwood Av        1           0    17          J Z\n",
      "374       17522            Franklin St        0           0    10          1 2\n",
      "375       20085   Astoria-Ditmars Blvd        0           0    20          N W\n",
      "\n",
      "[376 rows x 6 columns]\n",
      "     station_id           station_name  so_many  one_or_two  none lines_served\n",
      "0         17732                 155 St        8           7     2          B D\n",
      "1         20055    Kingston-Throop Avs       14           3     3          A C\n",
      "2         20072  Myrtle-Willoughby Avs        4           6     2            G\n",
      "3         17700               Grant Av        7           8     4            A\n",
      "4         17758           Parsons Blvd        4          13     5          E F\n",
      "..          ...                    ...      ...         ...   ...          ...\n",
      "368       17886           Astoria Blvd        1           1    31          N W\n",
      "369       17834             Norwood Av        1           0    17          J Z\n",
      "370       17816            Beach 67 St        0           1    18            A\n",
      "371       17522            Franklin St        0           0    10          1 2\n",
      "372       20085   Astoria-Ditmars Blvd        0           0    20          N W\n",
      "\n",
      "[373 rows x 6 columns]\n",
      "     station_id           station_name  so_many  one_or_two  none lines_served\n",
      "0         17732                 155 St        7           6     2          B D\n",
      "1         17740            Parkside Av        5           5     2            Q\n",
      "2         20072  Myrtle-Willoughby Avs        4           6     2            G\n",
      "3         20055    Kingston-Throop Avs       11           3     3          A C\n",
      "4         17496                 191 St        2           6     2            1\n",
      "..          ...                    ...      ...         ...   ...          ...\n",
      "365       17816            Beach 67 St        0           1    18            A\n",
      "366       17522            Franklin St        0           0    10          1 2\n",
      "367       17803              Nassau Av        0           0    10            G\n",
      "368       17866             Central Av        0           0    13            M\n",
      "369       20085   Astoria-Ditmars Blvd        0           0    19          N W\n",
      "\n",
      "[370 rows x 6 columns]\n",
      "     station_id           station_name  so_many  one_or_two  none lines_served\n",
      "0         17732                 155 St        7           6     2          B D\n",
      "1         17740            Parkside Av        6           6     2            Q\n",
      "2         20072  Myrtle-Willoughby Avs        4           6     2            G\n",
      "3         20055    Kingston-Throop Avs       11           2     3          A C\n",
      "4         17697          Van Siclen Av        4           4     2          A C\n",
      "..          ...                    ...      ...         ...   ...          ...\n",
      "363       17816            Beach 67 St        0           1    18            A\n",
      "364       17522            Franklin St        0           0    10          1 2\n",
      "365       17866             Central Av        0           0    13            M\n",
      "366       20016     Marble Hill-225 St        0           0    11            1\n",
      "367       20085   Astoria-Ditmars Blvd        0           0    19          N W\n",
      "\n",
      "[368 rows x 6 columns]\n",
      "     station_id           station_name  so_many  one_or_two  none lines_served\n",
      "0         17740            Parkside Av        6           7     2            Q\n",
      "1         17732                 155 St        6           5     2          B D\n",
      "2         20072  Myrtle-Willoughby Avs        4           6     2            G\n",
      "3         17697          Van Siclen Av        4           4     2          A C\n",
      "4         17758           Parsons Blvd        4          12     4          E F\n",
      "..          ...                    ...      ...         ...   ...          ...\n",
      "364       17522            Franklin St        0           0    10          1 2\n",
      "365       17803              Nassau Av        0           0    10            G\n",
      "366       17866             Central Av        0           0    13            M\n",
      "367       20016     Marble Hill-225 St        0           0    11            1\n",
      "368       20085   Astoria-Ditmars Blvd        0           0    19          N W\n",
      "\n",
      "[369 rows x 6 columns]\n",
      "     station_id           station_name  so_many  one_or_two  none lines_served\n",
      "0         17740            Parkside Av        6           7     2            Q\n",
      "1         17732                 155 St        6           5     2          B D\n",
      "2         20072  Myrtle-Willoughby Avs        4           6     2            G\n",
      "3         17758           Parsons Blvd        4          12     4          E F\n",
      "4         17699              Euclid Av       24          18    12          A C\n",
      "..          ...                    ...      ...         ...   ...          ...\n",
      "363       17834             Norwood Av        1           0    18          J Z\n",
      "364       17529                 233 St        0           0    10          2 5\n",
      "365       17866             Central Av        0           0    13            M\n",
      "366       20016     Marble Hill-225 St        0           0    11            1\n",
      "367       20085   Astoria-Ditmars Blvd        0           0    15          N W\n",
      "\n",
      "[368 rows x 6 columns]\n",
      "     station_id           station_name  so_many  one_or_two  none lines_served\n",
      "0         17732                 155 St        6           5     1          B D\n",
      "1         17740            Parkside Av        7           8     2            Q\n",
      "2         20072  Myrtle-Willoughby Avs        4           5     2            G\n",
      "3         17700               Grant Av        7           6     3            A\n",
      "4         17758           Parsons Blvd        4          12     4          E F\n",
      "..          ...                    ...      ...         ...   ...          ...\n",
      "364       17747               Avenue M        1           0    17            Q\n",
      "365       17834             Norwood Av        1           0    17          J Z\n",
      "366       17866             Central Av        0           0    14            M\n",
      "367       20016     Marble Hill-225 St        0           0    12            1\n",
      "368       20085   Astoria-Ditmars Blvd        0           0    15          N W\n",
      "\n",
      "[369 rows x 6 columns]\n",
      "     station_id           station_name  so_many  one_or_two  none lines_served\n",
      "0         17732                 155 St        6           5     1          B D\n",
      "1         17740            Parkside Av        7           8     2            Q\n",
      "2         17758           Parsons Blvd        4          12     3          E F\n",
      "3         20072  Myrtle-Willoughby Avs        4           5     2            G\n",
      "4         17699              Euclid Av       26          18    10          A C\n",
      "..          ...                    ...      ...         ...   ...          ...\n",
      "360       20566         61 St-Woodside        0           1    15            7\n",
      "361       17747               Avenue M        1           0    16            Q\n",
      "362       17866             Central Av        0           0    15            M\n",
      "363       20016     Marble Hill-225 St        0           0    12            1\n",
      "364       20085   Astoria-Ditmars Blvd        0           0    16          N W\n",
      "\n",
      "[365 rows x 6 columns]\n",
      "     station_id                  station_name  so_many  one_or_two  none lines_served\n",
      "0         17732                        155 St        6           5     1          B D\n",
      "1         17758                  Parsons Blvd        5          11     2          E F\n",
      "2         17700                      Grant Av        6           5     2            A\n",
      "3         17740                   Parkside Av        7           8     3            Q\n",
      "4         20072         Myrtle-Willoughby Avs        4           5     2            G\n",
      "..          ...                           ...      ...         ...   ...          ...\n",
      "358       17747                      Avenue M        1           0    17            Q\n",
      "359       17866                    Central Av        0           0    15            M\n",
      "360       20016            Marble Hill-225 St        0           0    12            1\n",
      "361       20025  Eastern Pkwy-Brooklyn Museum        0           0    11        2 3 4\n",
      "362       20085          Astoria-Ditmars Blvd        0           0    16          N W\n",
      "\n",
      "[363 rows x 6 columns]\n",
      "     station_id                  station_name  so_many  one_or_two  none lines_served\n",
      "0         17732                        155 St        6           5     1          B D\n",
      "1         17758                  Parsons Blvd        4          10     2          E F\n",
      "2         17700                      Grant Av        6           5     2            A\n",
      "3         17699                     Euclid Av       24          17     8          A C\n",
      "4         20072         Myrtle-Willoughby Avs        4           4     2            G\n",
      "..          ...                           ...      ...         ...   ...          ...\n",
      "352       17857                    Livonia Av        0           0    13            L\n",
      "353       17866                    Central Av        0           0    15            M\n",
      "354       20016            Marble Hill-225 St        0           0    12            1\n",
      "355       20025  Eastern Pkwy-Brooklyn Museum        0           0    13        2 3 4\n",
      "356       20085          Astoria-Ditmars Blvd        0           0    16          N W\n",
      "\n",
      "[357 rows x 6 columns]\n",
      "     station_id                  station_name  so_many  one_or_two  none lines_served\n",
      "0         17732                        155 St        6           5     1          B D\n",
      "1         17699                     Euclid Av       23          17     8          A C\n",
      "2         17700                      Grant Av        5           5     2            A\n",
      "3         17758                  Parsons Blvd        4           9     3          E F\n",
      "4         17496                        191 St        2           6     2            1\n",
      "..          ...                           ...      ...         ...   ...          ...\n",
      "350       17747                      Avenue M        0           0    18            Q\n",
      "351       17857                    Livonia Av        0           0    12            L\n",
      "352       20016            Marble Hill-225 St        0           0    12            1\n",
      "353       20025  Eastern Pkwy-Brooklyn Museum        0           0    15        2 3 4\n",
      "354       20085          Astoria-Ditmars Blvd        0           0    16          N W\n",
      "\n",
      "[355 rows x 6 columns]\n",
      "     station_id                  station_name  so_many  one_or_two  none lines_served\n",
      "0         17732                        155 St        5           6     1          B D\n",
      "1         17699                     Euclid Av       23          17     7          A C\n",
      "2         17700                      Grant Av        4           5     2            A\n",
      "3         17550   Central Park North (110 St)        6          10     4          2 3\n",
      "4         17697                 Van Siclen Av        5           3     2          A C\n",
      "..          ...                           ...      ...         ...   ...          ...\n",
      "350       17747                      Avenue M        0           0    20            Q\n",
      "351       17857                    Livonia Av        0           0    12            L\n",
      "352       20016            Marble Hill-225 St        0           0    12            1\n",
      "353       20025  Eastern Pkwy-Brooklyn Museum        0           0    15        2 3 4\n",
      "354       20085          Astoria-Ditmars Blvd        0           0    20          N W\n",
      "\n",
      "[355 rows x 6 columns]\n",
      "     station_id                  station_name  so_many  one_or_two  none lines_served\n",
      "0         17732                        155 St        5           6     1          B D\n",
      "1         17700                      Grant Av        4           5     2            A\n",
      "2         17699                     Euclid Av       22          18     9          A C\n",
      "3         17550   Central Park North (110 St)        6          10     4          2 3\n",
      "4         17740                   Parkside Av        6           8     4            Q\n",
      "..          ...                           ...      ...         ...   ...          ...\n",
      "350       17747                      Avenue M        0           0    23            Q\n",
      "351       17857                    Livonia Av        0           0    11            L\n",
      "352       20016            Marble Hill-225 St        0           0    12            1\n",
      "353       20025  Eastern Pkwy-Brooklyn Museum        0           0    14        2 3 4\n",
      "354       20085          Astoria-Ditmars Blvd        0           0    20          N W\n",
      "\n",
      "[355 rows x 6 columns]\n",
      "     station_id                  station_name  so_many  one_or_two  none lines_served\n",
      "0         17732                        155 St        5           6     1          B D\n",
      "1         17700                      Grant Av        4           6     2            A\n",
      "2         17699                     Euclid Av       21          17     9          A C\n",
      "3         17550   Central Park North (110 St)        6          10     4          2 3\n",
      "4         20024                   3 Av-149 St       18          15     9          2 5\n",
      "..          ...                           ...      ...         ...   ...          ...\n",
      "345       17747                      Avenue M        0           0    19            Q\n",
      "346       17857                    Livonia Av        0           0    11            L\n",
      "347       20016            Marble Hill-225 St        0           0    11            1\n",
      "348       20025  Eastern Pkwy-Brooklyn Museum        0           0    14        2 3 4\n",
      "349       20085          Astoria-Ditmars Blvd        0           0    18          N W\n",
      "\n",
      "[350 rows x 6 columns]\n",
      "     station_id                  station_name  so_many  one_or_two  none lines_served\n",
      "0         17732                        155 St        5           6     1          B D\n",
      "1         17700                      Grant Av        4           6     2            A\n",
      "2         20024                   3 Av-149 St       17          15     9          2 5\n",
      "3         17550   Central Park North (110 St)        6           8     4          2 3\n",
      "4         17699                     Euclid Av       22          15    11          A C\n",
      "..          ...                           ...      ...         ...   ...          ...\n",
      "345       17494                        207 St        0           0    19            1\n",
      "346       17857                    Livonia Av        0           0    11            L\n",
      "347       20016            Marble Hill-225 St        0           0    13            1\n",
      "348       20025  Eastern Pkwy-Brooklyn Museum        0           0    14        2 3 4\n",
      "349       20085          Astoria-Ditmars Blvd        0           0    16          N W\n",
      "\n",
      "[350 rows x 6 columns]\n",
      "     station_id                  station_name  so_many  one_or_two  none lines_served\n",
      "0         17732                        155 St        5           6     1          B D\n",
      "1         17617                    Cypress Av        8           2     2            6\n",
      "2         17700                      Grant Av        4           6     2            A\n",
      "3         17758                  Parsons Blvd        3          11     4          E F\n",
      "4         20024                   3 Av-149 St       19          12     9          2 5\n",
      "..          ...                           ...      ...         ...   ...          ...\n",
      "348       17494                        207 St        0           0    18            1\n",
      "349       17857                    Livonia Av        0           0    11            L\n",
      "350       20016            Marble Hill-225 St        0           0    13            1\n",
      "351       20025  Eastern Pkwy-Brooklyn Museum        0           0    14        2 3 4\n",
      "352       20085          Astoria-Ditmars Blvd        0           0    18          N W\n",
      "\n",
      "[353 rows x 6 columns]\n",
      "     station_id                  station_name  so_many  one_or_two  none lines_served\n",
      "0         17732                        155 St        5           6     1          B D\n",
      "1         17617                    Cypress Av        8           2     2            6\n",
      "2         17700                      Grant Av        4           6     2            A\n",
      "3         17758                  Parsons Blvd        3          11     4          E F\n",
      "4         20024                   3 Av-149 St       19          12     9          2 5\n",
      "..          ...                           ...      ...         ...   ...          ...\n",
      "346       20085          Astoria-Ditmars Blvd        1           0    18          N W\n",
      "347       17857                    Livonia Av        0           0    10            L\n",
      "348       20016            Marble Hill-225 St        0           0    13            1\n",
      "349       20025  Eastern Pkwy-Brooklyn Museum        0           0    12        2 3 4\n",
      "350       20032           Eastchester-Dyre Av        0           0    10            5\n",
      "\n",
      "[351 rows x 6 columns]\n",
      "     station_id                  station_name  so_many  one_or_two  none lines_served\n",
      "0         17732                        155 St        4           6     1          B D\n",
      "1         17621                        116 St        6           4     2          4 6\n",
      "2         17700                      Grant Av        4           6     2            A\n",
      "3         17617                    Cypress Av        7           2     2            6\n",
      "4         17666                        155 St        5           7     3          A C\n",
      "..          ...                           ...      ...         ...   ...          ...\n",
      "345       17743                  Cortelyou Rd        0           1    15            Q\n",
      "346       17494                        207 St        1           0    18            1\n",
      "347       17857                    Livonia Av        0           0    10            L\n",
      "348       20016            Marble Hill-225 St        0           0    10            1\n",
      "349       20025  Eastern Pkwy-Brooklyn Museum        0           0    12        2 3 4\n",
      "\n",
      "[350 rows x 6 columns]\n",
      "     station_id        station_name  so_many  one_or_two  none lines_served\n",
      "0         17732              155 St        4           6     1          B D\n",
      "1         17621              116 St        6           4     2          4 6\n",
      "2         17617          Cypress Av        7           2     2            6\n",
      "3         17666              155 St        5           7     3          A C\n",
      "4         20024         3 Av-149 St       18          15     9          2 5\n",
      "..          ...                 ...      ...         ...   ...          ...\n",
      "345       17888            Broadway        0           1    13          N W\n",
      "346       17711                9 Av        0           1    14            D\n",
      "347       17494              207 St        1           0    18            1\n",
      "348       17901            Union St        0           1    18      D N R W\n",
      "349       20016  Marble Hill-225 St        0           0    10            1\n",
      "\n",
      "[350 rows x 6 columns]\n",
      "     station_id        station_name  so_many  one_or_two  none lines_served\n",
      "0         17732              155 St        3           6     1          B D\n",
      "1         17617          Cypress Av        7           2     2            6\n",
      "2         17666              155 St        5           7     3          A C\n",
      "3         17567          Beverly Rd        4           7     3          2 5\n",
      "4         17700            Grant Av        4           6     3            A\n",
      "..          ...                 ...      ...         ...   ...          ...\n",
      "348       17743        Cortelyou Rd        0           1    14            Q\n",
      "349       17494              207 St        1           0    18            1\n",
      "350       17705              111 St        0           0    10            A\n",
      "351       17838         Chauncey St        0           0    10          J Z\n",
      "352       20016  Marble Hill-225 St        0           0    10            1\n",
      "\n",
      "[353 rows x 6 columns]\n",
      "     station_id           station_name  so_many  one_or_two  none lines_served\n",
      "0         17732                 155 St        5           5     1          B D\n",
      "1         17617             Cypress Av        7           2     2            6\n",
      "2         17666                 155 St        5           7     3          A C\n",
      "3         20072  Myrtle-Willoughby Avs        4           7     3            G\n",
      "4         17567             Beverly Rd        4           6     3          2 5\n",
      "..          ...                    ...      ...         ...   ...          ...\n",
      "344       17711                   9 Av        0           1    15            D\n",
      "345       17494                 207 St        1           0    16            1\n",
      "346       17705                 111 St        0           0    10            A\n",
      "347       17838            Chauncey St        0           0    11          J Z\n",
      "348       20016     Marble Hill-225 St        0           0    10            1\n",
      "\n",
      "[349 rows x 6 columns]\n",
      "     station_id           station_name  so_many  one_or_two  none lines_served\n",
      "0         17732                 155 St        5           5     1          B D\n",
      "1         17666                 155 St        6           7     2          A C\n",
      "2         20072  Myrtle-Willoughby Avs        4           7     2            G\n",
      "3         17617             Cypress Av        8           2     3            6\n",
      "4         20024            3 Av-149 St       18          14    10          2 5\n",
      "..          ...                    ...      ...         ...   ...          ...\n",
      "341       17743           Cortelyou Rd        0           1    13            Q\n",
      "342       17494                 207 St        1           0    14            1\n",
      "343       17711                   9 Av        0           1    14            D\n",
      "344       17705                 111 St        0           0    11            A\n",
      "345       17838            Chauncey St        0           0    12          J Z\n",
      "\n",
      "[346 rows x 6 columns]\n",
      "     station_id           station_name  so_many  one_or_two  none lines_served\n",
      "0         17732                 155 St        5           5     1          B D\n",
      "1         17666                 155 St        6           7     2          A C\n",
      "2         20072  Myrtle-Willoughby Avs        4           7     2            G\n",
      "3         17617             Cypress Av        8           2     3            6\n",
      "4         20024            3 Av-149 St       18          14    10          2 5\n",
      "..          ...                    ...      ...         ...   ...          ...\n",
      "341       17743           Cortelyou Rd        0           1    13            Q\n",
      "342       17494                 207 St        1           0    14            1\n",
      "343       17711                   9 Av        0           1    14            D\n",
      "344       17705                 111 St        0           0    11            A\n",
      "345       17838            Chauncey St        0           0    12          J Z\n",
      "\n",
      "[346 rows x 6 columns]\n",
      "     station_id           station_name  so_many  one_or_two  none lines_served\n",
      "0         17732                 155 St        6           6     1          B D\n",
      "1         17666                 155 St        5           8     3          A C\n",
      "2         17617             Cypress Av        6           2     2            6\n",
      "3         20024            3 Av-149 St       18          13     8          2 5\n",
      "4         20072  Myrtle-Willoughby Avs        3           7     3            G\n",
      "..          ...                    ...      ...         ...   ...          ...\n",
      "339       17743           Cortelyou Rd        0           1    13            Q\n",
      "340       17711                   9 Av        0           1    15            D\n",
      "341       17554               Clark St        0           0    10          2 3\n",
      "342       17705                 111 St        0           0    11            A\n",
      "343       17838            Chauncey St        0           0    11          J Z\n",
      "\n",
      "[344 rows x 6 columns]\n",
      "     station_id                 station_name  so_many  one_or_two  none lines_served\n",
      "0         17732                       155 St        6           6     0          B D\n",
      "1         20024                  3 Av-149 St       18          13     6          2 5\n",
      "2         17617                   Cypress Av        6           2     2            6\n",
      "3         17550  Central Park North (110 St)        9           9     6          2 3\n",
      "4         17567                   Beverly Rd        4           8     4          2 5\n",
      "..          ...                          ...      ...         ...   ...          ...\n",
      "340       17716                        71 St        1           0    14            D\n",
      "341       17711                         9 Av        0           1    15            D\n",
      "342       17705                       111 St        0           0    11            A\n",
      "343       17713                        50 St        0           0    11            D\n",
      "344       17838                  Chauncey St        0           0    10          J Z\n",
      "\n",
      "[345 rows x 6 columns]\n",
      "     station_id                 station_name  so_many  one_or_two  none lines_served\n",
      "0         17732                       155 St        6           6     0          B D\n",
      "1         20024                  3 Av-149 St       18          15     5          2 5\n",
      "2         17617                   Cypress Av        6           3     2            6\n",
      "3         17550  Central Park North (110 St)       10           8     6          2 3\n",
      "4         17567                   Beverly Rd        4           8     4          2 5\n",
      "..          ...                          ...      ...         ...   ...          ...\n",
      "344       17802                Greenpoint Av        0           1    16            G\n",
      "345       17705                       111 St        0           0    11            A\n",
      "346       17713                        50 St        0           0    11            D\n",
      "347       17838                  Chauncey St        0           0    10          J Z\n",
      "348       20016           Marble Hill-225 St        0           0    10            1\n",
      "\n",
      "[349 rows x 6 columns]\n",
      "     station_id                 station_name  so_many  one_or_two  none lines_served\n",
      "0         17732                       155 St        6           6     0          B D\n",
      "1         20024                  3 Av-149 St       18          16     6          2 5\n",
      "2         17617                   Cypress Av        5           3     2            6\n",
      "3         17666                       155 St        4           8     3          A C\n",
      "4         17550  Central Park North (110 St)       10           8     6          2 3\n",
      "..          ...                          ...      ...         ...   ...          ...\n",
      "346       17711                         9 Av        0           1    16            D\n",
      "347       17705                       111 St        0           0    11            A\n",
      "348       17713                        50 St        0           0    12            D\n",
      "349       17743                 Cortelyou Rd        0           0    15            Q\n",
      "350       17838                  Chauncey St        0           0    10          J Z\n",
      "\n",
      "[351 rows x 6 columns]\n",
      "     station_id   station_name  so_many  one_or_two  none lines_served\n",
      "0         17732         155 St        5           5     0          B D\n",
      "1         20024    3 Av-149 St       18          15     6          2 5\n",
      "2         17617     Cypress Av        5           3     2            6\n",
      "3         17666         155 St        4           8     3          A C\n",
      "4         17517          18 St        4           5     3          1 2\n",
      "..          ...            ...      ...         ...   ...          ...\n",
      "345       17716          71 St        1           0    14            D\n",
      "346       17743   Cortelyou Rd        1           0    14            Q\n",
      "347       17802  Greenpoint Av        0           1    14            G\n",
      "348       17711           9 Av        0           1    15            D\n",
      "349       17713          50 St        0           0    12            D\n",
      "\n",
      "[350 rows x 6 columns]\n",
      "     station_id                  station_name  so_many  one_or_two  none lines_served\n",
      "0         17732                        155 St        5           5     0          B D\n",
      "1         20024                   3 Av-149 St       17          15     6          2 5\n",
      "2         17617                    Cypress Av        5           3     2            6\n",
      "3         17666                        155 St        4           8     3          A C\n",
      "4         17727                   182-183 Sts        4           9     4          B D\n",
      "..          ...                           ...      ...         ...   ...          ...\n",
      "346       20025  Eastern Pkwy-Brooklyn Museum        1           0    13        2 3 4\n",
      "347       17743                  Cortelyou Rd        1           0    14            Q\n",
      "348       17802                 Greenpoint Av        0           1    14            G\n",
      "349       17716                         71 St        1           0    16            D\n",
      "350       17713                         50 St        0           0    12            D\n",
      "\n",
      "[351 rows x 6 columns]\n",
      "     station_id                  station_name  so_many  one_or_two  none lines_served\n",
      "0         20024                   3 Av-149 St       14          15     6          2 5\n",
      "1         17617                    Cypress Av        5           3     2            6\n",
      "2         17666                        155 St        4           8     3          A C\n",
      "3         17620                        125 St       33          29    20        4 5 6\n",
      "4         17727                   182-183 Sts        4           8     4          B D\n",
      "..          ...                           ...      ...         ...   ...          ...\n",
      "341       20025  Eastern Pkwy-Brooklyn Museum        1           0    14        2 3 4\n",
      "342       17802                 Greenpoint Av        0           1    15            G\n",
      "343       17716                         71 St        1           0    16            D\n",
      "344       17713                         50 St        0           0    12            D\n",
      "345       17888                      Broadway        0           0    12          N W\n",
      "\n",
      "[346 rows x 6 columns]\n",
      "     station_id                  station_name  so_many  one_or_two  none lines_served\n",
      "0         20024                   3 Av-149 St       14          15     6          2 5\n",
      "1         17617                    Cypress Av        5           3     2            6\n",
      "2         17666                        155 St        4           8     3          A C\n",
      "3         17620                        125 St       33          29    20        4 5 6\n",
      "4         17727                   182-183 Sts        4           8     4          B D\n",
      "..          ...                           ...      ...         ...   ...          ...\n",
      "341       20025  Eastern Pkwy-Brooklyn Museum        1           0    14        2 3 4\n",
      "342       17802                 Greenpoint Av        0           1    15            G\n",
      "343       17716                         71 St        1           0    16            D\n",
      "344       17713                         50 St        0           0    12            D\n",
      "345       17888                      Broadway        0           0    12          N W\n",
      "\n",
      "[346 rows x 6 columns]\n",
      "     station_id                  station_name  so_many  one_or_two  none lines_served\n",
      "0         17732                        155 St        4           5     1          B D\n",
      "1         20024                   3 Av-149 St       16          15     5          2 5\n",
      "2         17666                        155 St        4           7     3          A C\n",
      "3         17727                   182-183 Sts        5           9     4          B D\n",
      "4         17620                        125 St       36          32    21        4 5 6\n",
      "..          ...                           ...      ...         ...   ...          ...\n",
      "337       20025  Eastern Pkwy-Brooklyn Museum        1           0    15        2 3 4\n",
      "338       17716                         71 St        1           0    16            D\n",
      "339       17713                         50 St        0           0    12            D\n",
      "340       17888                      Broadway        0           0    10          N W\n",
      "341       20044                46 St-Bliss St        0           0    10            7\n",
      "\n",
      "[342 rows x 6 columns]\n",
      "     station_id    station_name  so_many  one_or_two  none lines_served\n",
      "0         20024     3 Av-149 St       16          15     5          2 5\n",
      "1         17732          155 St        4           4     2          B D\n",
      "2         17620          125 St       36          33    19        4 5 6\n",
      "3         17666          155 St        3           7     3          A C\n",
      "4         17727     182-183 Sts        5          10     5          B D\n",
      "..          ...             ...      ...         ...   ...          ...\n",
      "345       17716           71 St        1           0    16            D\n",
      "346       17604   Middletown Rd        0           0    10            6\n",
      "347       17713           50 St        0           0    10            D\n",
      "348       17888        Broadway        0           0    10          N W\n",
      "349       20044  46 St-Bliss St        0           0    10            7\n",
      "\n",
      "[350 rows x 6 columns]\n",
      "     station_id    station_name  so_many  one_or_two  none lines_served\n",
      "0         20024     3 Av-149 St       17          16     5          2 5\n",
      "1         17732          155 St        4           4     2          B D\n",
      "2         17620          125 St       37          33    21        4 5 6\n",
      "3         17666          155 St        3           7     3          A C\n",
      "4         17727     182-183 Sts        5          10     5          B D\n",
      "..          ...             ...      ...         ...   ...          ...\n",
      "346       17716           71 St        1           0    18            D\n",
      "347       17604   Middletown Rd        0           0    11            6\n",
      "348       17713           50 St        0           0    10            D\n",
      "349       17888        Broadway        0           0    11          N W\n",
      "350       20044  46 St-Bliss St        0           0    10            7\n",
      "\n",
      "[351 rows x 6 columns]\n",
      "     station_id            station_name  so_many  one_or_two  none lines_served\n",
      "0         20024             3 Av-149 St       19          16     5          2 5\n",
      "1         17666                  155 St        3           7     3          A C\n",
      "2         20054  Clinton-Washington Avs        5           5     3          A C\n",
      "3         17620                  125 St       37          33    23        4 5 6\n",
      "4         17727             182-183 Sts        5          10     5          B D\n",
      "..          ...                     ...      ...         ...   ...          ...\n",
      "342       20032     Eastchester-Dyre Av        0           1    16            5\n",
      "343       17716                   71 St        1           0    19            D\n",
      "344       17604           Middletown Rd        0           0    11            6\n",
      "345       17888                Broadway        0           0    12          N W\n",
      "346       20086       39 Av-Dutch Kills        0           0    13          N W\n",
      "\n",
      "[347 rows x 6 columns]\n",
      "     station_id         station_name  so_many  one_or_two  none lines_served\n",
      "0         20024          3 Av-149 St       21          16     5          2 5\n",
      "1         17727          182-183 Sts        5          10     5          B D\n",
      "2         17758         Parsons Blvd        4           8     4          E F\n",
      "3         17620               125 St       38          33    24        4 5 6\n",
      "4         17904                36 St       11          39    17      D N R W\n",
      "..          ...                  ...      ...         ...   ...          ...\n",
      "342       20032  Eastchester-Dyre Av        0           1    16            5\n",
      "343       17716                71 St        1           0    20            D\n",
      "344       17604        Middletown Rd        0           0    12            6\n",
      "345       17888             Broadway        0           0    12          N W\n",
      "346       20086    39 Av-Dutch Kills        0           0    11          N W\n",
      "\n",
      "[347 rows x 6 columns]\n",
      "     station_id           station_name  so_many  one_or_two  none lines_served\n",
      "0         20024            3 Av-149 St       19          14     6          2 5\n",
      "1         17758           Parsons Blvd        4           8     4          E F\n",
      "2         17567             Beverly Rd        4          10     5          2 5\n",
      "3         17500                 145 St        5           6     4            1\n",
      "4         20072  Myrtle-Willoughby Avs        5           6     4            G\n",
      "..          ...                    ...      ...         ...   ...          ...\n",
      "341       17716                  71 St        1           0    20            D\n",
      "342       17604          Middletown Rd        0           0    12            6\n",
      "343       17888               Broadway        0           0    14          N W\n",
      "344       20086      39 Av-Dutch Kills        0           0    11          N W\n",
      "345       20161       75 St-Elderts Ln        0           0    10          J Z\n",
      "\n",
      "[346 rows x 6 columns]\n",
      "     station_id           station_name  so_many  one_or_two  none lines_served\n",
      "0         20024            3 Av-149 St       19          14     6          2 5\n",
      "1         17623                 103 St        5           8     3          4 6\n",
      "2         17666                 155 St        1           8     3          A C\n",
      "3         17758           Parsons Blvd        4           8     4          E F\n",
      "4         20072  Myrtle-Willoughby Avs        5           6     4            G\n",
      "..          ...                    ...      ...         ...   ...          ...\n",
      "339       17539                 174 St        1           0    16          2 5\n",
      "340       17716                  71 St        1           0    16            D\n",
      "341       17604          Middletown Rd        0           0    12            6\n",
      "342       17888               Broadway        0           0    13          N W\n",
      "343       20086      39 Av-Dutch Kills        0           0    11          N W\n",
      "\n",
      "[344 rows x 6 columns]\n",
      "     station_id         station_name  so_many  one_or_two  none lines_served\n",
      "0         20024          3 Av-149 St       18          14     5          2 5\n",
      "1         17623               103 St        5           8     3        4 5 6\n",
      "2         17548               125 St        9          16     8          2 3\n",
      "3         17758         Parsons Blvd        4          10     5          E F\n",
      "4         17904                36 St       12          35    17      D N R W\n",
      "..          ...                  ...      ...         ...   ...          ...\n",
      "340       17926         Jefferson Av        0           1    15          SIR\n",
      "341       20032  Eastchester-Dyre Av        0           1    15            5\n",
      "342       17604        Middletown Rd        0           0    11            6\n",
      "343       17888             Broadway        0           0    12          N W\n",
      "344       20086    39 Av-Dutch Kills        0           0    11          N W\n",
      "\n",
      "[345 rows x 6 columns]\n",
      "     station_id         station_name  so_many  one_or_two  none lines_served\n",
      "0         17623               103 St        6           9     2          4 6\n",
      "1         20024          3 Av-149 St       19          14     5          2 5\n",
      "2         17548               125 St        9          16     8          2 3\n",
      "3         17904                36 St       12          35    16      D N R W\n",
      "4         17758         Parsons Blvd        4          10     5          E F\n",
      "..          ...                  ...      ...         ...   ...          ...\n",
      "342       20032  Eastchester-Dyre Av        0           1    16            5\n",
      "343       17887                30 Av        1           1    36          N W\n",
      "344       17604        Middletown Rd        0           0    10            6\n",
      "345       17802        Greenpoint Av        0           0    12            G\n",
      "346       20086    39 Av-Dutch Kills        0           0    11          N W\n",
      "\n",
      "[347 rows x 6 columns]\n",
      "     station_id       station_name  so_many  one_or_two  none lines_served\n",
      "0         17623             103 St        6           9     2          4 6\n",
      "1         20024        3 Av-149 St       20          14     6          2 5\n",
      "2         17904              36 St       12          37    14      D N R W\n",
      "3         17758       Parsons Blvd        4          10     5          E F\n",
      "4         17548             125 St        9          15     9          2 3\n",
      "..          ...                ...      ...         ...   ...          ...\n",
      "346       17887              30 Av        1           1    36          N W\n",
      "347       17604      Middletown Rd        0           0    11            6\n",
      "348       17802      Greenpoint Av        0           0    13            G\n",
      "349       17880           Avenue U        0           0    10          N W\n",
      "350       20086  39 Av-Dutch Kills        0           0    11          N W\n",
      "\n",
      "[351 rows x 6 columns]\n",
      "     station_id           station_name  so_many  one_or_two  none lines_served\n",
      "0         20024            3 Av-149 St       19          15     6          2 5\n",
      "1         17623                 103 St        6           9     3          4 6\n",
      "2         17904                  36 St       13          39    14      D N R W\n",
      "3         20072  Myrtle-Willoughby Avs        5           7     4            G\n",
      "4         17758           Parsons Blvd        4          10     5          E F\n",
      "..          ...                    ...      ...         ...   ...          ...\n",
      "348       17604          Middletown Rd        0           0    10            6\n",
      "349       17802          Greenpoint Av        0           0    12            G\n",
      "350       17880               Avenue U        0           0    10          N W\n",
      "351       20022       Wakefield-241 St        0           0    10            2\n",
      "352       20086      39 Av-Dutch Kills        0           0    11          N W\n",
      "\n",
      "[353 rows x 6 columns]\n",
      "     station_id           station_name  so_many  one_or_two  none lines_served\n",
      "0         20024            3 Av-149 St       17          14     6          2 5\n",
      "1         17623                 103 St        6           9     3          4 6\n",
      "2         17758           Parsons Blvd        4          10     4          E F\n",
      "3         17904                  36 St       13          36    15      D N R W\n",
      "4         20072  Myrtle-Willoughby Avs        6           6     4            G\n",
      "..          ...                    ...      ...         ...   ...          ...\n",
      "344       17604          Middletown Rd        0           0    10            6\n",
      "345       17802          Greenpoint Av        0           0    12            G\n",
      "346       17832          Cypress Hills        0           0    14          J Z\n",
      "347       20022       Wakefield-241 St        0           0    10            2\n",
      "348       20086      39 Av-Dutch Kills        0           0    11          N W\n",
      "\n",
      "[349 rows x 6 columns]\n",
      "     station_id           station_name  so_many  one_or_two  none lines_served\n",
      "0         20024            3 Av-149 St       17          14     6          2 5\n",
      "1         17623                 103 St        6           9     3          4 6\n",
      "2         17758           Parsons Blvd        4          10     4          E F\n",
      "3         17904                  36 St       13          36    15      D N R W\n",
      "4         20072  Myrtle-Willoughby Avs        6           6     4            G\n",
      "..          ...                    ...      ...         ...   ...          ...\n",
      "344       17604          Middletown Rd        0           0    10            6\n",
      "345       17802          Greenpoint Av        0           0    12            G\n",
      "346       17832          Cypress Hills        0           0    14          J Z\n",
      "347       20022       Wakefield-241 St        0           0    10            2\n",
      "348       20086      39 Av-Dutch Kills        0           0    11          N W\n",
      "\n",
      "[349 rows x 6 columns]\n",
      "     station_id           station_name  so_many  one_or_two  none lines_served\n",
      "0         20024            3 Av-149 St       16          14     6          2 5\n",
      "1         17623                 103 St        5           7     3          4 6\n",
      "2         17758           Parsons Blvd        4          11     4          E F\n",
      "3         17904                  36 St       13          39    15      D N R W\n",
      "4         20072  Myrtle-Willoughby Avs        6           6     4            G\n",
      "..          ...                    ...      ...         ...   ...          ...\n",
      "340       20032    Eastchester-Dyre Av        0           1    17            5\n",
      "341       17539                 174 St        1           0    19          2 5\n",
      "342       17604          Middletown Rd        0           0    11            6\n",
      "343       17802          Greenpoint Av        0           0    11            G\n",
      "344       17837             Alabama Av        0           0    12          J Z\n",
      "\n",
      "[345 rows x 6 columns]\n",
      "     station_id      station_name  so_many  one_or_two  none lines_served\n",
      "0         20024       3 Av-149 St       16          14     6          2 5\n",
      "1         17623            103 St        5           7     3          4 6\n",
      "2         17758      Parsons Blvd        4          11     4          E F\n",
      "3         17904             36 St       13          38    16      D N R W\n",
      "4         17499            157 St        6           6     4            1\n",
      "..          ...               ...      ...         ...   ...          ...\n",
      "344       17713             50 St        0           0    10            D\n",
      "345       17802     Greenpoint Av        0           0    12            G\n",
      "346       17837        Alabama Av        0           0    13          J Z\n",
      "347       17880          Avenue U        0           0    11          N W\n",
      "348       20022  Wakefield-241 St        0           0    10            2\n",
      "\n",
      "[349 rows x 6 columns]\n",
      "     station_id       station_name  so_many  one_or_two  none lines_served\n",
      "0         17499             157 St        7           6     2            1\n",
      "1         20024        3 Av-149 St       14          13     7          2 5\n",
      "2         17724  Bedford Park Blvd        4           9     4          B D\n",
      "3         17758       Parsons Blvd        4           9     4          E F\n",
      "4         17517              18 St        4           5     3          1 2\n",
      "..          ...                ...      ...         ...   ...          ...\n",
      "345       17713              50 St        0           0    10            D\n",
      "346       17802      Greenpoint Av        0           0    13            G\n",
      "347       17837         Alabama Av        0           0    13          J Z\n",
      "348       17880           Avenue U        0           0    10          N W\n",
      "349       20022   Wakefield-241 St        0           0    10            2\n",
      "\n",
      "[350 rows x 6 columns]\n",
      "     station_id       station_name  so_many  one_or_two  none lines_served\n",
      "0         17499             157 St        7           6     2            1\n",
      "1         20024        3 Av-149 St       14          12     7          2 5\n",
      "2         17724  Bedford Park Blvd        4           9     4          B D\n",
      "3         17758       Parsons Blvd        4           9     4          E F\n",
      "4         17517              18 St        4           5     3          1 2\n",
      "..          ...                ...      ...         ...   ...          ...\n",
      "349       17802      Greenpoint Av        0           0    12            G\n",
      "350       17837         Alabama Av        0           0    13          J Z\n",
      "351       17880           Avenue U        0           0    11          N W\n",
      "352       17926       Jefferson Av        0           0    14          SIR\n",
      "353       20022   Wakefield-241 St        0           0    11            2\n",
      "\n",
      "[354 rows x 6 columns]\n",
      "     station_id         station_name  so_many  one_or_two  none lines_served\n",
      "0         17499               157 St        7           6     2            1\n",
      "1         20024          3 Av-149 St       16          12     7          2 5\n",
      "2         17758         Parsons Blvd        4          10     4          E F\n",
      "3         17517                18 St        4           5     3          1 2\n",
      "4         17548               125 St        9           9     6          2 3\n",
      "..          ...                  ...      ...         ...   ...          ...\n",
      "347       17837           Alabama Av        0           0    13          J Z\n",
      "348       17880             Avenue U        0           0    12          N W\n",
      "349       17926         Jefferson Av        0           0    13          SIR\n",
      "350       20022     Wakefield-241 St        0           0    11            2\n",
      "351       20032  Eastchester-Dyre Av        0           0    18            5\n",
      "\n",
      "[352 rows x 6 columns]\n",
      "     station_id         station_name  so_many  one_or_two  none lines_served\n",
      "0         17499               157 St        9           5     2            1\n",
      "1         20024          3 Av-149 St       15          12     7          2 5\n",
      "2         17548               125 St       11           8     6          2 3\n",
      "3         17500               145 St        5           7     4            1\n",
      "4         17517                18 St        4           5     3          1 2\n",
      "..          ...                  ...      ...         ...   ...          ...\n",
      "348       17777                18 Av        0           0    10            F\n",
      "349       17837           Alabama Av        0           0    11          J Z\n",
      "350       17880             Avenue U        0           0    12          N W\n",
      "351       20022     Wakefield-241 St        0           0    12            2\n",
      "352       20032  Eastchester-Dyre Av        0           0    17            5\n",
      "\n",
      "[353 rows x 6 columns]\n",
      "     station_id         station_name  so_many  one_or_two  none lines_served\n",
      "0         20024          3 Av-149 St       15          12     5          2 5\n",
      "1         17499               157 St        9           6     3            1\n",
      "2         17500               145 St        4           8     4            1\n",
      "3         17517                18 St        4           5     3        1 2 3\n",
      "4         17548               125 St       10           8     6          2 3\n",
      "..          ...                  ...      ...         ...   ...          ...\n",
      "344       17777                18 Av        0           0    10            F\n",
      "345       17837           Alabama Av        0           0    10          J Z\n",
      "346       17880             Avenue U        0           0    11          N W\n",
      "347       20022     Wakefield-241 St        0           0    12            2\n",
      "348       20032  Eastchester-Dyre Av        0           0    15            5\n",
      "\n",
      "[349 rows x 6 columns]\n",
      "     station_id         station_name  so_many  one_or_two  none lines_served\n",
      "0         17499               157 St        9           6     3            1\n",
      "1         20024          3 Av-149 St       15          10     5          2 5\n",
      "2         17500               145 St        4           8     3            1\n",
      "3         17758         Parsons Blvd        4          10     4          E F\n",
      "4         17666               155 St        5           4     3          A C\n",
      "..          ...                  ...      ...         ...   ...          ...\n",
      "337       17540           Freeman St        0           0    14          2 5\n",
      "338       17777                18 Av        0           0    13            F\n",
      "339       17837           Alabama Av        0           0    10          J Z\n",
      "340       20022     Wakefield-241 St        0           0    14            2\n",
      "341       20032  Eastchester-Dyre Av        0           0    15            5\n",
      "\n",
      "[342 rows x 6 columns]\n",
      "     station_id         station_name  so_many  one_or_two  none lines_served\n",
      "0         17499               157 St        9           6     3            1\n",
      "1         20024          3 Av-149 St       15          10     5          2 5\n",
      "2         17500               145 St        4           8     3            1\n",
      "3         17758         Parsons Blvd        4          10     4          E F\n",
      "4         17666               155 St        5           4     3          A C\n",
      "..          ...                  ...      ...         ...   ...          ...\n",
      "337       17540           Freeman St        0           0    14          2 5\n",
      "338       17777                18 Av        0           0    13            F\n",
      "339       17837           Alabama Av        0           0    10          J Z\n",
      "340       20022     Wakefield-241 St        0           0    14            2\n",
      "341       20032  Eastchester-Dyre Av        0           0    15            5\n",
      "\n",
      "[342 rows x 6 columns]\n",
      "     station_id         station_name  so_many  one_or_two  none lines_served\n",
      "0         17500               145 St        4           8     2            1\n",
      "1         17499               157 St        9           5     3            1\n",
      "2         20024          3 Av-149 St       14           9     5          2 5\n",
      "3         17872               Bowery        6          10     4          J Z\n",
      "4         17548               125 St       11           4     4          2 3\n",
      "..          ...                  ...      ...         ...   ...          ...\n",
      "335       17540           Freeman St        0           0    13          2 5\n",
      "336       17722            Bay 50 St        0           0    18            D\n",
      "337       17777                18 Av        0           0    13            F\n",
      "338       20022     Wakefield-241 St        0           0    13            2\n",
      "339       20032  Eastchester-Dyre Av        0           0    16            5\n",
      "\n",
      "[340 rows x 6 columns]\n",
      "     station_id         station_name  so_many  one_or_two  none lines_served\n",
      "0         20024          3 Av-149 St       14          10     5          2 5\n",
      "1         17500               145 St        4           9     3            1\n",
      "2         17499               157 St        9           6     4            1\n",
      "3         17872               Bowery        6           8     4          J Z\n",
      "4         17906                53 St        1           9     3        N R W\n",
      "..          ...                  ...      ...         ...   ...          ...\n",
      "338       17722            Bay 50 St        0           0    19            D\n",
      "339       17777                18 Av        0           0    13            F\n",
      "340       17880             Avenue U        0           0    10          N W\n",
      "341       20022     Wakefield-241 St        0           0    13            2\n",
      "342       20032  Eastchester-Dyre Av        0           0    17            5\n",
      "\n",
      "[343 rows x 6 columns]\n",
      "     station_id         station_name  so_many  one_or_two  none lines_served\n",
      "0         17500               145 St        6           9     3            1\n",
      "1         20024          3 Av-149 St       15          11     6          2 5\n",
      "2         17499               157 St        9           6     4            1\n",
      "3         17758         Parsons Blvd        5           9     4          E F\n",
      "4         17872               Bowery        6           8     4          J Z\n",
      "..          ...                  ...      ...         ...   ...          ...\n",
      "338       17722            Bay 50 St        0           0    16            D\n",
      "339       17777                18 Av        0           0    14            F\n",
      "340       17880             Avenue U        0           0    10          N W\n",
      "341       20022     Wakefield-241 St        0           0    13            2\n",
      "342       20032  Eastchester-Dyre Av        0           0    18            5\n",
      "\n",
      "[343 rows x 6 columns]\n",
      "     station_id         station_name  so_many  one_or_two  none lines_served\n",
      "0         17906                53 St        1          10     2        N R W\n",
      "1         17500               145 St        6           8     3            1\n",
      "2         20024          3 Av-149 St       15          10     6          2 5\n",
      "3         17727          182-183 Sts        8           7     4          B D\n",
      "4         17499               157 St        8           6     4            1\n",
      "..          ...                  ...      ...         ...   ...          ...\n",
      "334       17777                18 Av        0           0    14            F\n",
      "335       17880             Avenue U        0           0    10          N W\n",
      "336       20022     Wakefield-241 St        0           0    13            2\n",
      "337       20032  Eastchester-Dyre Av        0           0    18            5\n",
      "338       20086    39 Av-Dutch Kills        0           0    10          N W\n",
      "\n",
      "[339 rows x 6 columns]\n",
      "     station_id         station_name  so_many  one_or_two  none lines_served\n",
      "0         17906                53 St        1          10     2        N R W\n",
      "1         17500               145 St        6           8     3            1\n",
      "2         20024          3 Av-149 St       15          10     6          2 5\n",
      "3         17727          182-183 Sts        8           7     4          B D\n",
      "4         17499               157 St        8           6     4            1\n",
      "..          ...                  ...      ...         ...   ...          ...\n",
      "334       17777                18 Av        0           0    14            F\n",
      "335       17880             Avenue U        0           0    10          N W\n",
      "336       20022     Wakefield-241 St        0           0    13            2\n",
      "337       20032  Eastchester-Dyre Av        0           0    18            5\n",
      "338       20086    39 Av-Dutch Kills        0           0    10          N W\n",
      "\n",
      "[339 rows x 6 columns]\n",
      "     station_id         station_name  so_many  one_or_two  none lines_served\n",
      "0         17906                53 St        1          10     2        N R W\n",
      "1         17500               145 St        6           9     3            1\n",
      "2         17872               Bowery        6           7     3          J Z\n",
      "3         17758         Parsons Blvd        4          13     4          E F\n",
      "4         20024          3 Av-149 St       14          10     6          2 5\n",
      "..          ...                  ...      ...         ...   ...          ...\n",
      "332       17777                18 Av        0           0    13            F\n",
      "333       17880             Avenue U        0           0    11          N W\n",
      "334       20022     Wakefield-241 St        0           0    14            2\n",
      "335       20032  Eastchester-Dyre Av        0           0    19            5\n",
      "336       20086    39 Av-Dutch Kills        0           0    10          N W\n",
      "\n",
      "[337 rows x 6 columns]\n",
      "     station_id         station_name  so_many  one_or_two  none lines_served\n",
      "0         17906                53 St        1          10     2        N R W\n",
      "1         17500               145 St        6           9     3            1\n",
      "2         17872               Bowery        6           8     3          J Z\n",
      "3         20024          3 Av-149 St       16          10     6          2 5\n",
      "4         17758         Parsons Blvd        4          13     4          E F\n",
      "..          ...                  ...      ...         ...   ...          ...\n",
      "331       17777                18 Av        0           0    12            F\n",
      "332       17880             Avenue U        0           0    11          N W\n",
      "333       20022     Wakefield-241 St        0           0    14            2\n",
      "334       20032  Eastchester-Dyre Av        0           0    19            5\n",
      "335       20086    39 Av-Dutch Kills        0           0    10          N W\n",
      "\n",
      "[336 rows x 6 columns]\n",
      "     station_id         station_name  so_many  one_or_two  none lines_served\n",
      "0         17872               Bowery        6           8     3          J Z\n",
      "1         20024          3 Av-149 St       18          10     6          2 5\n",
      "2         17906                53 St        1           8     2        N R W\n",
      "3         17500               145 St        5           7     3            1\n",
      "4         20017  137 St-City College        3           5     2            1\n",
      "..          ...                  ...      ...         ...   ...          ...\n",
      "337       17722            Bay 50 St        0           0    17            D\n",
      "338       17880             Avenue U        0           0    11          N W\n",
      "339       20022     Wakefield-241 St        0           0    14            2\n",
      "340       20032  Eastchester-Dyre Av        0           0    19            5\n",
      "341       20086    39 Av-Dutch Kills        0           0    10          N W\n",
      "\n",
      "[342 rows x 6 columns]\n",
      "     station_id         station_name  so_many  one_or_two  none lines_served\n",
      "0         17872               Bowery        6           8     3          J Z\n",
      "1         17499               157 St        7           6     3            1\n",
      "2         17668               135 St        1           7     2        A C B\n",
      "3         20024          3 Av-149 St       18          13     8          2 5\n",
      "4         17758         Parsons Blvd        3          12     4          E F\n",
      "..          ...                  ...      ...         ...   ...          ...\n",
      "340       17560     Grand Army Plaza        0           0    11        2 3 4\n",
      "341       17722            Bay 50 St        0           0    17            D\n",
      "342       20022     Wakefield-241 St        0           0    13            2\n",
      "343       20032  Eastchester-Dyre Av        0           0    18            5\n",
      "344       20086    39 Av-Dutch Kills        0           0    10          N W\n",
      "\n",
      "[345 rows x 6 columns]\n",
      "     station_id             station_name  so_many  one_or_two  none lines_served\n",
      "0         17564              Sterling St        3           5     2          2 5\n",
      "1         17668                   135 St        1           7     2        A C B\n",
      "2         17758             Parsons Blvd        3          12     4          E F\n",
      "3         17700                 Grant Av        3           8     3            A\n",
      "4         17906                    53 St        2           9     3        N R W\n",
      "..          ...                      ...      ...         ...   ...          ...\n",
      "343       17504  Cathedral Pkwy (110 St)        0           0    12            1\n",
      "344       17560         Grand Army Plaza        0           0    13        2 3 4\n",
      "345       17722                Bay 50 St        0           0    17            D\n",
      "346       20022         Wakefield-241 St        0           0    14            2\n",
      "347       20032      Eastchester-Dyre Av        0           0    19            5\n",
      "\n",
      "[348 rows x 6 columns]\n",
      "     station_id             station_name  so_many  one_or_two  none lines_served\n",
      "0         17700                 Grant Av        4           9     2            A\n",
      "1         17564              Sterling St        3           5     2          2 5\n",
      "2         17727              182-183 Sts        7           5     3          B D\n",
      "3         20024              3 Av-149 St       17          13     9          2 5\n",
      "4         17758             Parsons Blvd        3          10     4          E F\n",
      "..          ...                      ...      ...         ...   ...          ...\n",
      "342       17504  Cathedral Pkwy (110 St)        0           0    12            1\n",
      "343       17560         Grand Army Plaza        0           0    13        2 3 4\n",
      "344       17722                Bay 50 St        0           0    15            D\n",
      "345       20022         Wakefield-241 St        0           0    14            2\n",
      "346       20032      Eastchester-Dyre Av        0           0    18            5\n",
      "\n",
      "[347 rows x 6 columns]\n",
      "     station_id                    station_name  so_many  one_or_two  none lines_served\n",
      "0         17700                        Grant Av        3           8     2            A\n",
      "1         17564                     Sterling St        3           5     2          2 5\n",
      "2         17727                     182-183 Sts        7           5     3          B D\n",
      "3         17906                           53 St        2           8     3      N Q R W\n",
      "4         20017             137 St-City College        4           6     3            1\n",
      "..          ...                             ...      ...         ...   ...          ...\n",
      "342       17722                       Bay 50 St        0           0    15            D\n",
      "343       17745                        Avenue H        0           0    23            Q\n",
      "344       20022                Wakefield-241 St        0           0    13            2\n",
      "345       20032             Eastchester-Dyre Av        0           0    18          2 5\n",
      "346       20084  Middle Village-Metropolitan Av        0           0    12            M\n",
      "\n",
      "[347 rows x 6 columns]\n",
      "     station_id                    station_name  so_many  one_or_two  none lines_served\n",
      "0         17700                        Grant Av        3           8     2            A\n",
      "1         17564                     Sterling St        3           5     2          2 5\n",
      "2         17727                     182-183 Sts        7           5     3          B D\n",
      "3         17906                           53 St        2           8     3        N R W\n",
      "4         20017             137 St-City College        4           6     3            1\n",
      "..          ...                             ...      ...         ...   ...          ...\n",
      "339       17745                        Avenue H        0           0    22            Q\n",
      "340       17902                     Prospect Av        0           0    11      D N R W\n",
      "341       20022                Wakefield-241 St        0           0    13            2\n",
      "342       20032             Eastchester-Dyre Av        0           0    16          2 5\n",
      "343       20084  Middle Village-Metropolitan Av        0           0    12            M\n",
      "\n",
      "[344 rows x 6 columns]\n",
      "     station_id                    station_name  so_many  one_or_two  none lines_served\n",
      "0         17700                        Grant Av        2           9     2            A\n",
      "1         17727                     182-183 Sts        8           5     3          B D\n",
      "2         17906                           53 St        3           8     3        N R W\n",
      "3         17794                     Elmhurst Av        9           8     5      E F M R\n",
      "4         17872                          Bowery        6           9     5          J Z\n",
      "..          ...                             ...      ...         ...   ...          ...\n",
      "341       17745                        Avenue H        0           0    22            Q\n",
      "342       17902                     Prospect Av        0           0    11      D N R W\n",
      "343       20022                Wakefield-241 St        0           0    13            2\n",
      "344       20032             Eastchester-Dyre Av        0           0    17            5\n",
      "345       20084  Middle Village-Metropolitan Av        0           0    11            M\n",
      "\n",
      "[346 rows x 6 columns]\n",
      "     station_id                    station_name  so_many  one_or_two  none lines_served\n",
      "0         17700                        Grant Av        2           9     2            A\n",
      "1         17564                     Sterling St        3           5     2          2 5\n",
      "2         17727                     182-183 Sts        7           5     3          B D\n",
      "3         17906                           53 St        3           8     3        N R W\n",
      "4         17872                          Bowery        7           9     5          J Z\n",
      "..          ...                             ...      ...         ...   ...          ...\n",
      "345       17745                        Avenue H        0           0    26            Q\n",
      "346       17902                     Prospect Av        0           0    12      D N R W\n",
      "347       20022                Wakefield-241 St        0           0    13            2\n",
      "348       20032             Eastchester-Dyre Av        0           0    16            5\n",
      "349       20084  Middle Village-Metropolitan Av        0           0    13            M\n",
      "\n",
      "[350 rows x 6 columns]\n",
      "     station_id                    station_name  so_many  one_or_two  none lines_served\n",
      "0         17700                        Grant Av        2           9     2            A\n",
      "1         17564                     Sterling St        5           5     2          2 5\n",
      "2         17727                     182-183 Sts        7           6     3          B D\n",
      "3         17906                           53 St        3           8     3        N R W\n",
      "4         17740                     Parkside Av       10          11     7            Q\n",
      "..          ...                             ...      ...         ...   ...          ...\n",
      "348       17745                        Avenue H        0           0    25            Q\n",
      "349       17902                     Prospect Av        0           0    13      D N R W\n",
      "350       20022                Wakefield-241 St        0           0    14            2\n",
      "351       20032             Eastchester-Dyre Av        0           0    17            5\n",
      "352       20084  Middle Village-Metropolitan Av        0           0    15            M\n",
      "\n",
      "[353 rows x 6 columns]\n",
      "     station_id                    station_name  so_many  one_or_two  none lines_served\n",
      "0         17727                     182-183 Sts        7           6     2          B D\n",
      "1         17906                           53 St        3           8     2        N R W\n",
      "2         17700                        Grant Av        2           8     2            A\n",
      "3         17564                     Sterling St        5           4     2          2 5\n",
      "4         17548                          125 St        9           6     4          2 3\n",
      "..          ...                             ...      ...         ...   ...          ...\n",
      "343       17902                     Prospect Av        0           0    16      D N R W\n",
      "344       17916                 Pleasant Plains        0           0    11          SIR\n",
      "345       20022                Wakefield-241 St        0           0    13            2\n",
      "346       20032             Eastchester-Dyre Av        0           0    17            5\n",
      "347       20084  Middle Village-Metropolitan Av        0           0    15            M\n",
      "\n",
      "[348 rows x 6 columns]\n",
      "     station_id                    station_name  so_many  one_or_two  none lines_served\n",
      "0         17727                     182-183 Sts        7           6     2          B D\n",
      "1         17906                           53 St        3           8     2        N R W\n",
      "2         17700                        Grant Av        2           8     2            A\n",
      "3         17564                     Sterling St        5           4     2          2 5\n",
      "4         17548                          125 St        9           6     4          2 3\n",
      "..          ...                             ...      ...         ...   ...          ...\n",
      "343       17902                     Prospect Av        0           0    16      D N R W\n",
      "344       17916                 Pleasant Plains        0           0    11          SIR\n",
      "345       20022                Wakefield-241 St        0           0    13            2\n",
      "346       20032             Eastchester-Dyre Av        0           0    17            5\n",
      "347       20084  Middle Village-Metropolitan Av        0           0    15            M\n",
      "\n",
      "[348 rows x 6 columns]\n",
      "     station_id                station_name  so_many  one_or_two  none lines_served\n",
      "0         17727                 182-183 Sts        5           7     1          B D\n",
      "1         17700                    Grant Av        3           8     1            A\n",
      "2         17906                       53 St        3           9     2        N R W\n",
      "3         17548                      125 St        9           6     3          2 3\n",
      "4         17564                 Sterling St        7           3     2          2 5\n",
      "..          ...                         ...      ...         ...   ...          ...\n",
      "344       17902                 Prospect Av        0           0    18      D N R W\n",
      "345       17916             Pleasant Plains        0           0    11          SIR\n",
      "346       20018  116 St-Columbia University        0           0    10            1\n",
      "347       20022            Wakefield-241 St        0           0    11            2\n",
      "348       20032         Eastchester-Dyre Av        0           0    18            5\n",
      "\n",
      "[349 rows x 6 columns]\n",
      "     station_id         station_name  so_many  one_or_two  none lines_served\n",
      "0         17727          182-183 Sts        5           6     1          B D\n",
      "1         17906                53 St        2          10     2        N R W\n",
      "2         17700             Grant Av        3           8     2            A\n",
      "3         17564          Sterling St        7           3     2          2 5\n",
      "4         17548               125 St        9           7     4          2 3\n",
      "..          ...                  ...      ...         ...   ...          ...\n",
      "335       17722            Bay 50 St        0           0    17            D\n",
      "336       17902          Prospect Av        0           0    18      D N R W\n",
      "337       17916      Pleasant Plains        0           0    10          SIR\n",
      "338       20022     Wakefield-241 St        0           0    10            2\n",
      "339       20032  Eastchester-Dyre Av        0           0    16            5\n",
      "\n",
      "[340 rows x 6 columns]\n",
      "     station_id         station_name  so_many  one_or_two  none lines_served\n",
      "0         17727          182-183 Sts        5           6     1          B D\n",
      "1         17906                53 St        2          10     2        N R W\n",
      "2         17700             Grant Av        3           8     2            A\n",
      "3         17564          Sterling St        7           3     2          2 5\n",
      "4         17548               125 St        9           7     4          2 3\n",
      "..          ...                  ...      ...         ...   ...          ...\n",
      "335       17722            Bay 50 St        0           0    17            D\n",
      "336       17902          Prospect Av        0           0    18      D N R W\n",
      "337       17916      Pleasant Plains        0           0    10          SIR\n",
      "338       20022     Wakefield-241 St        0           0    10            2\n",
      "339       20032  Eastchester-Dyre Av        0           0    16            5\n",
      "\n",
      "[340 rows x 6 columns]\n",
      "     station_id         station_name  so_many  one_or_two  none lines_served\n",
      "0         17727          182-183 Sts        5           6     1          B D\n",
      "1         17668               135 St        2          10     2        A C B\n",
      "2         17700             Grant Av        3           9     2            A\n",
      "3         17906                53 St        2          12     3        N R W\n",
      "4         20159          3 Av-138 St        3           6     2            6\n",
      "..          ...                  ...      ...         ...   ...          ...\n",
      "342       17577      Pennsylvania Av        0           0    14      2 3 4 5\n",
      "343       17717                79 St        0           0    17            D\n",
      "344       17722            Bay 50 St        0           0    18            D\n",
      "345       17902          Prospect Av        0           0    19      D N R W\n",
      "346       20032  Eastchester-Dyre Av        0           0    14            5\n",
      "\n",
      "[347 rows x 6 columns]\n",
      "     station_id         station_name  so_many  one_or_two  none lines_served\n",
      "0         17668               135 St        2          10     2        A C B\n",
      "1         17700             Grant Av        3           8     2            A\n",
      "2         17727          182-183 Sts        4           7     2          B D\n",
      "3         17906                53 St        2          12     3        N R W\n",
      "4         20159          3 Av-138 St        3           6     2            6\n",
      "..          ...                  ...      ...         ...   ...          ...\n",
      "340       17609       St Lawrence Av        0           0    10            6\n",
      "341       17717                79 St        0           0    16            D\n",
      "342       17722            Bay 50 St        0           0    19            D\n",
      "343       17902          Prospect Av        0           0    19      D N R W\n",
      "344       20032  Eastchester-Dyre Av        0           0    14            5\n",
      "\n",
      "[345 rows x 6 columns]\n",
      "     station_id         station_name  so_many  one_or_two  none lines_served\n",
      "0         17668               135 St        2          10     2      A C B D\n",
      "1         17700             Grant Av        3           8     2            A\n",
      "2         17727          182-183 Sts        4           7     2          B D\n",
      "3         17906                53 St        2          13     3        N R W\n",
      "4         20159          3 Av-138 St        3           6     2            6\n",
      "..          ...                  ...      ...         ...   ...          ...\n",
      "343       17577      Pennsylvania Av        0           0    15      2 3 4 5\n",
      "344       17609       St Lawrence Av        0           0    10            6\n",
      "345       17717                79 St        0           0    16            D\n",
      "346       17722            Bay 50 St        0           0    18            D\n",
      "347       20032  Eastchester-Dyre Av        0           0    15            5\n",
      "\n",
      "[348 rows x 6 columns]\n",
      "     station_id         station_name  so_many  one_or_two  none lines_served\n",
      "0         17727          182-183 Sts        5           6     1          B D\n",
      "1         20159          3 Av-138 St        3           6     1            6\n",
      "2         17668               135 St        2          10     2      A C B D\n",
      "3         17906                53 St        2          14     3        N R W\n",
      "4         17700             Grant Av        4           8     3            A\n",
      "..          ...                  ...      ...         ...   ...          ...\n",
      "344       17536      Bronx Park East        0           0    12          2 5\n",
      "345       17609       St Lawrence Av        0           0    11            6\n",
      "346       17717                79 St        0           0    16            D\n",
      "347       17722            Bay 50 St        0           0    17            D\n",
      "348       20032  Eastchester-Dyre Av        0           0    15            5\n",
      "\n",
      "[349 rows x 6 columns]\n",
      "     station_id         station_name  so_many  one_or_two  none lines_served\n",
      "0         17727          182-183 Sts        4           6     1          B D\n",
      "1         20159          3 Av-138 St        3           6     1            6\n",
      "2         17668               135 St        2          10     2      A C B D\n",
      "3         17906                53 St        2          13     3        N R W\n",
      "4         17500               145 St       10          10     5            1\n",
      "..          ...                  ...      ...         ...   ...          ...\n",
      "345       17536      Bronx Park East        0           0    12          2 5\n",
      "346       17609       St Lawrence Av        0           0    10            6\n",
      "347       17717                79 St        0           0    15            D\n",
      "348       17722            Bay 50 St        0           0    17            D\n",
      "349       20032  Eastchester-Dyre Av        0           0    15            5\n",
      "\n",
      "[350 rows x 6 columns]\n",
      "     station_id         station_name  so_many  one_or_two  none lines_served\n",
      "0         17727          182-183 Sts        4           6     1          B D\n",
      "1         20159          3 Av-138 St        3           6     1            6\n",
      "2         17668               135 St        2          10     2      A C B D\n",
      "3         17906                53 St        2          13     3        N R W\n",
      "4         17500               145 St       10          10     5            1\n",
      "..          ...                  ...      ...         ...   ...          ...\n",
      "345       17536      Bronx Park East        0           0    12          2 5\n",
      "346       17609       St Lawrence Av        0           0    10            6\n",
      "347       17717                79 St        0           0    15            D\n",
      "348       17722            Bay 50 St        0           0    17            D\n",
      "349       20032  Eastchester-Dyre Av        0           0    15            5\n",
      "\n",
      "[350 rows x 6 columns]\n",
      "     station_id         station_name  so_many  one_or_two  none lines_served\n",
      "0         17727          182-183 Sts        4           6     1          B D\n",
      "1         17668               135 St        2           9     2      A C B D\n",
      "2         17906                53 St        2          13     3        N R W\n",
      "3         20159          3 Av-138 St        3           6     2            6\n",
      "4         17564          Sterling St        9           3     3          2 5\n",
      "..          ...                  ...      ...         ...   ...          ...\n",
      "351       17560     Grand Army Plaza        0           0    11        2 3 4\n",
      "352       17609       St Lawrence Av        0           0    10            6\n",
      "353       17717                79 St        0           0    16            D\n",
      "354       17722            Bay 50 St        0           0    15            D\n",
      "355       20032  Eastchester-Dyre Av        0           0    14            5\n",
      "\n",
      "[356 rows x 6 columns]\n",
      "     station_id         station_name  so_many  one_or_two  none lines_served\n",
      "0         17727          182-183 Sts        4           5     1          B D\n",
      "1         17700             Grant Av        4           8     2            A\n",
      "2         17906                53 St        2          13     3        N R W\n",
      "3         20159          3 Av-138 St        3           6     2            6\n",
      "4         17564          Sterling St        9           3     3          2 5\n",
      "..          ...                  ...      ...         ...   ...          ...\n",
      "351       17609       St Lawrence Av        0           0    10            6\n",
      "352       17682            Spring St        0           0    17        A C E\n",
      "353       17722            Bay 50 St        0           0    15            D\n",
      "354       17743         Cortelyou Rd        0           0    10            Q\n",
      "355       20032  Eastchester-Dyre Av        0           0    14            5\n",
      "\n",
      "[356 rows x 6 columns]\n",
      "     station_id          station_name  so_many  one_or_two  none lines_served\n",
      "0         17700              Grant Av        4           8     2            A\n",
      "1         17906                 53 St        2          13     3        N R W\n",
      "2         20159           3 Av-138 St        3           6     2            6\n",
      "3         20019  66 St-Lincoln Center        3          13     4          1 2\n",
      "4         17564           Sterling St        8           2     3          2 5\n",
      "..          ...                   ...      ...         ...   ...          ...\n",
      "354       17560      Grand Army Plaza        0           0    10        2 3 4\n",
      "355       17609        St Lawrence Av        0           0    10            6\n",
      "356       17682             Spring St        0           0    13        A C E\n",
      "357       17743          Cortelyou Rd        0           0    11            Q\n",
      "358       20032   Eastchester-Dyre Av        0           0    15            5\n",
      "\n",
      "[359 rows x 6 columns]\n",
      "     station_id          station_name  so_many  one_or_two  none lines_served\n",
      "0         17906                 53 St        3          12     3        N R W\n",
      "1         20159           3 Av-138 St        3           6     2            6\n",
      "2         20019  66 St-Lincoln Center        3          12     4          1 2\n",
      "3         17727           182-183 Sts        4           6     3          B D\n",
      "4         17700              Grant Av        4           9     4            A\n",
      "..          ...                   ...      ...         ...   ...          ...\n",
      "352       17530                225 St        0           1    21          2 5\n",
      "353       17560      Grand Army Plaza        0           0    10        2 3 4\n",
      "354       17682             Spring St        0           0    13        A C E\n",
      "355       17743          Cortelyou Rd        0           0    10            Q\n",
      "356       20032   Eastchester-Dyre Av        0           0    15            5\n",
      "\n",
      "[357 rows x 6 columns]\n",
      "     station_id         station_name  so_many  one_or_two  none lines_served\n",
      "0         17906                53 St        3          11     3        N R W\n",
      "1         20159          3 Av-138 St        3           6     2            6\n",
      "2         17727          182-183 Sts        4           7     3          B D\n",
      "3         17500               145 St        9           8     5            1\n",
      "4         17700             Grant Av        4           8     4            A\n",
      "..          ...                  ...      ...         ...   ...          ...\n",
      "358       17776            Ditmas Av        0           1    20            F\n",
      "359       17560     Grand Army Plaza        0           0    12        2 3 4\n",
      "360       17682            Spring St        0           0    13        A C E\n",
      "361       17743         Cortelyou Rd        0           0    10            Q\n",
      "362       20032  Eastchester-Dyre Av        0           0    13            5\n",
      "\n",
      "[363 rows x 6 columns]\n",
      "     station_id          station_name  so_many  one_or_two  none lines_served\n",
      "0         17906                 53 St        3          11     3        N R W\n",
      "1         20159           3 Av-138 St        3           5     2            6\n",
      "2         17500                145 St        9           7     5            1\n",
      "3         17727           182-183 Sts        3           6     3          B D\n",
      "4         20019  66 St-Lincoln Center        2          12     5          1 2\n",
      "..          ...                   ...      ...         ...   ...          ...\n",
      "362       17560      Grand Army Plaza        0           0    12        2 3 4\n",
      "363       17609        St Lawrence Av        0           0    10            6\n",
      "364       17682             Spring St        0           0    13        A C E\n",
      "365       17743          Cortelyou Rd        0           0    10            Q\n",
      "366       20032   Eastchester-Dyre Av        0           0    12            5\n",
      "\n",
      "[367 rows x 6 columns]\n",
      "     station_id         station_name  so_many  one_or_two  none lines_served\n",
      "0         20159          3 Av-138 St        3           5     2            6\n",
      "1         17906                53 St        3          11     4        N R W\n",
      "2         17727          182-183 Sts        3           6     3          B D\n",
      "3         17848            Morgan Av        3           6     3            L\n",
      "4         17500               145 St        7           7     5            1\n",
      "..          ...                  ...      ...         ...   ...          ...\n",
      "361       17776            Ditmas Av        0           1    20            F\n",
      "362       17560     Grand Army Plaza        0           0    10        2 3 4\n",
      "363       17682            Spring St        0           0    13        A C E\n",
      "364       17743         Cortelyou Rd        0           0    10            Q\n",
      "365       20032  Eastchester-Dyre Av        0           0    10            5\n",
      "\n",
      "[366 rows x 6 columns]\n",
      "     station_id         station_name  so_many  one_or_two  none lines_served\n",
      "0         17906                53 St        3          10     4        N R W\n",
      "1         17727          182-183 Sts        3           6     3          B D\n",
      "2         17848            Morgan Av        3           6     3            L\n",
      "3         17500               145 St        7           7     5            1\n",
      "4         17700             Grant Av        5           9     5            A\n",
      "..          ...                  ...      ...         ...   ...          ...\n",
      "360       17776            Ditmas Av        0           1    21            F\n",
      "361       17560     Grand Army Plaza        0           0    10        2 3 4\n",
      "362       17682            Spring St        0           0    13        A C E\n",
      "363       17712   Fort Hamilton Pkwy        0           0    10            D\n",
      "364       20032  Eastchester-Dyre Av        0           0    10            5\n",
      "\n",
      "[365 rows x 6 columns]\n",
      "     station_id         station_name  so_many  one_or_two  none lines_served\n",
      "0         17906                53 St        3          10     4        N R W\n",
      "1         17727          182-183 Sts        3           6     3          B D\n",
      "2         17848            Morgan Av        3           6     3            L\n",
      "3         17500               145 St        7           7     5            1\n",
      "4         17700             Grant Av        5           9     5            A\n",
      "..          ...                  ...      ...         ...   ...          ...\n",
      "360       17776            Ditmas Av        0           1    21            F\n",
      "361       17560     Grand Army Plaza        0           0    10        2 3 4\n",
      "362       17682            Spring St        0           0    13        A C E\n",
      "363       17712   Fort Hamilton Pkwy        0           0    10            D\n",
      "364       20032  Eastchester-Dyre Av        0           0    10            5\n",
      "\n",
      "[365 rows x 6 columns]\n",
      "     station_id    station_name  so_many  one_or_two  none lines_served\n",
      "0         17727     182-183 Sts        3           7     3          B D\n",
      "1         17906           53 St        4          12     5        N R W\n",
      "2         17497          181 St        9          13     7            1\n",
      "3         17700        Grant Av        5          10     5            A\n",
      "4         17848       Morgan Av        3           5     3            L\n",
      "..          ...             ...      ...         ...   ...          ...\n",
      "361       17722       Bay 50 St        0           1    14          D N\n",
      "362       17832   Cypress Hills        0           1    14          J Z\n",
      "363       17932   Tompkinsville        0           1    15          SIR\n",
      "364       17609  St Lawrence Av        0           0    10            6\n",
      "365       17682       Spring St        0           0    13      A C E F\n",
      "\n",
      "[366 rows x 6 columns]\n",
      "     station_id               station_name  so_many  one_or_two  none lines_served\n",
      "0         17497                     181 St       10          15     6            1\n",
      "1         17727                182-183 Sts        4           7     3          B D\n",
      "2         17700                   Grant Av        5          10     5            A\n",
      "3         17906                      53 St        4          12     6        N R W\n",
      "4         17500                     145 St        6           7     5            1\n",
      "..          ...                        ...      ...         ...   ...          ...\n",
      "354       17932              Tompkinsville        0           1    17          SIR\n",
      "355       17609             St Lawrence Av        0           0    10            6\n",
      "356       17682                  Spring St        0           0    14      A C E F\n",
      "357       17743               Cortelyou Rd        0           0    10            Q\n",
      "358       20015  Van Cortlandt Park-242 St        0           0    13            1\n",
      "\n",
      "[359 rows x 6 columns]\n",
      "     station_id               station_name  so_many  one_or_two  none lines_served\n",
      "0         17497                     181 St       11          14     7            1\n",
      "1         17547                     135 St        8          14     7          2 3\n",
      "2         17500                     145 St        8           7     5            1\n",
      "3         17906                      53 St        4          13     6        N R W\n",
      "4         17700                   Grant Av        5           9     5            A\n",
      "..          ...                        ...      ...         ...   ...          ...\n",
      "354       17932              Tompkinsville        0           1    16          SIR\n",
      "355       20161           75 St-Elderts Ln        1           0    16          J Z\n",
      "356       17682                  Spring St        0           0    14      A C E F\n",
      "357       17832              Cypress Hills        0           0    14          J Z\n",
      "358       20015  Van Cortlandt Park-242 St        0           0    13            1\n",
      "\n",
      "[359 rows x 6 columns]\n",
      "     station_id               station_name  so_many  one_or_two  none lines_served\n",
      "0         17906                      53 St        4          16     5        N R W\n",
      "1         17497                     181 St       11          14     7            1\n",
      "2         17500                     145 St        6           7     4            1\n",
      "3         17547                     135 St        8          14     7          2 3\n",
      "4         17700                   Grant Av        5           9     5            A\n",
      "..          ...                        ...      ...         ...   ...          ...\n",
      "354       17530                     225 St        0           1    15          2 5\n",
      "355       20161           75 St-Elderts Ln        1           0    16          J Z\n",
      "356       17682                  Spring St        0           0    14      A C E F\n",
      "357       17832              Cypress Hills        0           0    14          J Z\n",
      "358       20015  Van Cortlandt Park-242 St        0           0    13            1\n",
      "\n",
      "[359 rows x 6 columns]\n",
      "     station_id               station_name  so_many  one_or_two  none lines_served\n",
      "0         17497                     181 St       12          14     7            1\n",
      "1         17906                      53 St        3          15     5        N R W\n",
      "2         17500                     145 St        6           7     4            1\n",
      "3         17547                     135 St        8          14     7          2 3\n",
      "4         17690                Nostrand Av       22          23    16          A C\n",
      "..          ...                        ...      ...         ...   ...          ...\n",
      "355       17530                     225 St        0           1    15          2 5\n",
      "356       17682                  Spring St        0           0    14      A C E F\n",
      "357       17743               Cortelyou Rd        0           0    10            Q\n",
      "358       17832              Cypress Hills        0           0    14          J Z\n",
      "359       20015  Van Cortlandt Park-242 St        0           0    12            1\n",
      "\n",
      "[360 rows x 6 columns]\n",
      "     station_id               station_name  so_many  one_or_two  none lines_served\n",
      "0         17906                      53 St        3          15     4        N R W\n",
      "1         17497                     181 St       12          14     7            1\n",
      "2         17500                     145 St        6           7     4            1\n",
      "3         17547                     135 St        7          13     7          2 3\n",
      "4         17668                     135 St        1           7     3        A C B\n",
      "..          ...                        ...      ...         ...   ...          ...\n",
      "356       17776                  Ditmas Av        1           0    16            F\n",
      "357       17609             St Lawrence Av        0           0    10            6\n",
      "358       17682                  Spring St        0           0    13      A C E F\n",
      "359       17832              Cypress Hills        0           0    13          J Z\n",
      "360       20015  Van Cortlandt Park-242 St        0           0    12            1\n",
      "\n",
      "[361 rows x 6 columns]\n",
      "     station_id               station_name  so_many  one_or_two  none lines_served\n",
      "0         17906                      53 St        3          15     4        N R W\n",
      "1         17497                     181 St       12          14     7            1\n",
      "2         17500                     145 St        6           7     4            1\n",
      "3         17547                     135 St        7          13     7          2 3\n",
      "4         17668                     135 St        1           7     3        A C B\n",
      "..          ...                        ...      ...         ...   ...          ...\n",
      "356       17776                  Ditmas Av        1           0    16            F\n",
      "357       17609             St Lawrence Av        0           0    10            6\n",
      "358       17682                  Spring St        0           0    13      A C E F\n",
      "359       17832              Cypress Hills        0           0    13          J Z\n",
      "360       20015  Van Cortlandt Park-242 St        0           0    12            1\n",
      "\n",
      "[361 rows x 6 columns]\n",
      "     station_id    station_name  so_many  one_or_two  none lines_served\n",
      "0         17906           53 St        4          18     5      D N R W\n",
      "1         17729     174-175 Sts        2           8     3          B D\n",
      "2         17500          145 St        6           7     4            1\n",
      "3         17497          181 St       11          13     8            1\n",
      "4         17693        Ralph Av        9          10     8          A C\n",
      "..          ...             ...      ...         ...   ...          ...\n",
      "357       17507           86 St        0           0    14          1 2\n",
      "358       17609  St Lawrence Av        0           0    10            6\n",
      "359       17743    Cortelyou Rd        0           0    11            Q\n",
      "360       17832   Cypress Hills        0           0    13          J Z\n",
      "361       17930         Clifton        0           0    13          SIR\n",
      "\n",
      "[362 rows x 6 columns]\n",
      "     station_id   station_name  so_many  one_or_two  none lines_served\n",
      "0         17500         145 St        6           7     3            1\n",
      "1         17906          53 St        3          18     6      D N R W\n",
      "2         17729    174-175 Sts        2           8     3          B D\n",
      "3         17693       Ralph Av        9          10     7          A C\n",
      "4         17497         181 St       10          13     9            1\n",
      "..          ...            ...      ...         ...   ...          ...\n",
      "354       17507          86 St        0           0    15          1 2\n",
      "355       17682      Spring St        0           0    10        A C E\n",
      "356       17743   Cortelyou Rd        0           0    11            Q\n",
      "357       17832  Cypress Hills        0           0    12          J Z\n",
      "358       17930        Clifton        0           0    15          SIR\n",
      "\n",
      "[359 rows x 6 columns]\n",
      "     station_id            station_name  so_many  one_or_two  none lines_served\n",
      "0         17500                  145 St        6           7     3            1\n",
      "1         17906                   53 St        3          21     6      D N R W\n",
      "2         17497                  181 St       10          13     8            1\n",
      "3         17797                   46 St        0          22     8      E F M R\n",
      "4         20047  Vernon Blvd-Jackson Av        0           7     3            7\n",
      "..          ...                     ...      ...         ...   ...          ...\n",
      "357       17682               Spring St        0           0    10        A C E\n",
      "358       17743            Cortelyou Rd        0           0    12            Q\n",
      "359       17832           Cypress Hills        0           0    11          J Z\n",
      "360       17856               Sutter Av        0           0    13            L\n",
      "361       17930                 Clifton        0           0    17          SIR\n",
      "\n",
      "[362 rows x 6 columns]\n",
      "     station_id     station_name  so_many  one_or_two  none lines_served\n",
      "0         17500           145 St        6           8     2            1\n",
      "1         17729      174-175 Sts        2           7     2          B D\n",
      "2         17906            53 St        3          21     6    D N Q R W\n",
      "3         20070  63 Dr-Rego Park        4          11     5      E F M R\n",
      "4         17797            46 St        0          22     8      E F M R\n",
      "..          ...              ...      ...         ...   ...          ...\n",
      "353       17533         Burke Av        0           0    10          2 5\n",
      "354       17682        Spring St        0           0    10        A C E\n",
      "355       17743     Cortelyou Rd        0           0    12            Q\n",
      "356       17856        Sutter Av        0           0    13            L\n",
      "357       17930          Clifton        0           0    17          SIR\n",
      "\n",
      "[358 rows x 6 columns]\n",
      "     station_id     station_name  so_many  one_or_two  none lines_served\n",
      "0         17500           145 St        6           8     2            1\n",
      "1         17906            53 St        3          21     7    D N Q R W\n",
      "2         20070  63 Dr-Rego Park        3          11     5      E F M R\n",
      "3         17797            46 St        0          22     8      E F M R\n",
      "4         17729      174-175 Sts        2           6     3          B D\n",
      "..          ...              ...      ...         ...   ...          ...\n",
      "350       17776        Ditmas Av        1           0    18            F\n",
      "351       17533         Burke Av        0           0    10          2 5\n",
      "352       17743     Cortelyou Rd        0           0    12            Q\n",
      "353       17856        Sutter Av        0           0    13            L\n",
      "354       17930          Clifton        0           0    17          SIR\n",
      "\n",
      "[355 rows x 6 columns]\n"
     ]
    }
   ],
   "source": [
    "for file in formatted_files:\n",
    "    if file.endswith(\".csv\"):\n",
    "        full_path = os.path.join(root_data_dir, file)\n",
    "        tokens = full_path.split(\" \")\n",
    "\n",
    "        date_start = tokens[-3]\n",
    "        date_end = tokens[-1].split(\".\")[0]\n",
    "\n",
    "        rat_sv = pd.read_csv(full_path)\n",
    "        rat_sv[\"station_name\"] = rat_sv[\"station_name\"].replace(r'\\s+', ' ', regex=True)\n",
    "        print(rat_sv)\n",
    "        # rat_sv = rat_sv.drop([\"lines_served\"], axis=1)\n",
    "\n",
    "        stations_rows = []\n",
    "        sightings_rows = []\n",
    "\n",
    "        for index, row in rat_sv.iterrows():\n",
    "            stations_rows.append(\n",
    "                [row[\"station_id\"], row[\"station_name\"], row[\"lines_served\"], None, None]\n",
    "            )\n",
    "            sightings_rows.append(\n",
    "                [\n",
    "                    row[\"station_id\"],\n",
    "                    row[\"so_many\"],\n",
    "                    row[\"one_or_two\"],\n",
    "                    row[\"none\"],\n",
    "                    date_start,\n",
    "                    date_end,\n",
    "                ]\n",
    "            )\n",
    "\n",
    "        setup_sqlite.insert_stations(stations_rows)\n",
    "        setup_sqlite.insert_sightings(sightings_rows)"
   ]
  },
  {
   "cell_type": "code",
   "execution_count": 19,
   "id": "4b44e4eb",
   "metadata": {},
   "outputs": [
    {
     "name": "stdout",
     "output_type": "stream",
     "text": [
      "<class 'pandas.core.frame.DataFrame'>\n",
      "RangeIndex: 496 entries, 0 to 495\n",
      "Data columns (total 18 columns):\n",
      " #   Column                 Non-Null Count  Dtype  \n",
      "---  ------                 --------------  -----  \n",
      " 0   GTFS Stop ID           496 non-null    object \n",
      " 1   Station ID             496 non-null    int64  \n",
      " 2   Complex ID             496 non-null    int64  \n",
      " 3   Division               496 non-null    object \n",
      " 4   Line                   496 non-null    object \n",
      " 5   Stop Name              496 non-null    object \n",
      " 6   Borough                496 non-null    object \n",
      " 7   Daytime Routes         496 non-null    object \n",
      " 8   Structure              496 non-null    object \n",
      " 9   GTFS Latitude          496 non-null    float64\n",
      " 10  GTFS Longitude         496 non-null    float64\n",
      " 11  North Direction Label  496 non-null    object \n",
      " 12  South Direction Label  496 non-null    object \n",
      " 13  ADA                    496 non-null    int64  \n",
      " 14  ADA Northbound         496 non-null    int64  \n",
      " 15  ADA Southbound         496 non-null    int64  \n",
      " 16  ADA Notes              8 non-null      object \n",
      " 17  Georeference           496 non-null    object \n",
      "dtypes: float64(2), int64(5), object(11)\n",
      "memory usage: 69.9+ KB\n"
     ]
    }
   ],
   "source": [
    "mta_all_stations = pd.read_csv(\"MTA_Subway_Stations_20240304.csv\")\n",
    "mta_all_stations.info()"
   ]
  },
  {
   "cell_type": "code",
   "execution_count": 20,
   "id": "23d20275",
   "metadata": {},
   "outputs": [
    {
     "data": {
      "text/html": [
       "<div>\n",
       "<style scoped>\n",
       "    .dataframe tbody tr th:only-of-type {\n",
       "        vertical-align: middle;\n",
       "    }\n",
       "\n",
       "    .dataframe tbody tr th {\n",
       "        vertical-align: top;\n",
       "    }\n",
       "\n",
       "    .dataframe thead th {\n",
       "        text-align: right;\n",
       "    }\n",
       "</style>\n",
       "<table border=\"1\" class=\"dataframe\">\n",
       "  <thead>\n",
       "    <tr style=\"text-align: right;\">\n",
       "      <th></th>\n",
       "      <th>GTFS Stop ID</th>\n",
       "      <th>Station ID</th>\n",
       "      <th>Complex ID</th>\n",
       "      <th>Division</th>\n",
       "      <th>Line</th>\n",
       "      <th>Stop Name</th>\n",
       "      <th>Borough</th>\n",
       "      <th>Daytime Routes</th>\n",
       "      <th>Structure</th>\n",
       "      <th>GTFS Latitude</th>\n",
       "      <th>GTFS Longitude</th>\n",
       "      <th>North Direction Label</th>\n",
       "      <th>South Direction Label</th>\n",
       "      <th>ADA</th>\n",
       "      <th>ADA Northbound</th>\n",
       "      <th>ADA Southbound</th>\n",
       "      <th>ADA Notes</th>\n",
       "      <th>Georeference</th>\n",
       "    </tr>\n",
       "  </thead>\n",
       "  <tbody>\n",
       "    <tr>\n",
       "      <th>7</th>\n",
       "      <td>R13</td>\n",
       "      <td>8</td>\n",
       "      <td>8</td>\n",
       "      <td>BMT</td>\n",
       "      <td>Astoria</td>\n",
       "      <td>5 Av/59 St</td>\n",
       "      <td>M</td>\n",
       "      <td>N R W</td>\n",
       "      <td>Subway</td>\n",
       "      <td>40.764811</td>\n",
       "      <td>-73.973347</td>\n",
       "      <td>Queens</td>\n",
       "      <td>Downtown</td>\n",
       "      <td>0</td>\n",
       "      <td>0</td>\n",
       "      <td>0</td>\n",
       "      <td>NaN</td>\n",
       "      <td>POINT (-73.973347 40.764811)</td>\n",
       "    </tr>\n",
       "    <tr>\n",
       "      <th>68</th>\n",
       "      <td>B22</td>\n",
       "      <td>69</td>\n",
       "      <td>69</td>\n",
       "      <td>BMT</td>\n",
       "      <td>West End</td>\n",
       "      <td>25 Av</td>\n",
       "      <td>Bk</td>\n",
       "      <td>D</td>\n",
       "      <td>Elevated</td>\n",
       "      <td>40.597704</td>\n",
       "      <td>-73.986829</td>\n",
       "      <td>Manhattan</td>\n",
       "      <td>Coney Island</td>\n",
       "      <td>0</td>\n",
       "      <td>0</td>\n",
       "      <td>0</td>\n",
       "      <td>NaN</td>\n",
       "      <td>POINT (-73.986829 40.597704)</td>\n",
       "    </tr>\n",
       "    <tr>\n",
       "      <th>260</th>\n",
       "      <td>F07</td>\n",
       "      <td>260</td>\n",
       "      <td>260</td>\n",
       "      <td>IND</td>\n",
       "      <td>Queens Blvd</td>\n",
       "      <td>75 Av</td>\n",
       "      <td>Q</td>\n",
       "      <td>E F</td>\n",
       "      <td>Subway</td>\n",
       "      <td>40.718331</td>\n",
       "      <td>-73.837324</td>\n",
       "      <td>Jamaica</td>\n",
       "      <td>Manhattan</td>\n",
       "      <td>0</td>\n",
       "      <td>0</td>\n",
       "      <td>0</td>\n",
       "      <td>NaN</td>\n",
       "      <td>POINT (-73.837324 40.718331)</td>\n",
       "    </tr>\n",
       "    <tr>\n",
       "      <th>276</th>\n",
       "      <td>F12</td>\n",
       "      <td>276</td>\n",
       "      <td>276</td>\n",
       "      <td>IND</td>\n",
       "      <td>Queens Blvd</td>\n",
       "      <td>5 Av/53 St</td>\n",
       "      <td>M</td>\n",
       "      <td>E M</td>\n",
       "      <td>Subway</td>\n",
       "      <td>40.760167</td>\n",
       "      <td>-73.975224</td>\n",
       "      <td>Queens</td>\n",
       "      <td>Downtown</td>\n",
       "      <td>0</td>\n",
       "      <td>0</td>\n",
       "      <td>0</td>\n",
       "      <td>NaN</td>\n",
       "      <td>POINT (-73.975224 40.760167)</td>\n",
       "    </tr>\n",
       "    <tr>\n",
       "      <th>467</th>\n",
       "      <td>724</td>\n",
       "      <td>466</td>\n",
       "      <td>609</td>\n",
       "      <td>IRT</td>\n",
       "      <td>Flushing</td>\n",
       "      <td>5 Av</td>\n",
       "      <td>M</td>\n",
       "      <td>7</td>\n",
       "      <td>Subway</td>\n",
       "      <td>40.753821</td>\n",
       "      <td>-73.981963</td>\n",
       "      <td>Queens</td>\n",
       "      <td>Hudson Yards</td>\n",
       "      <td>0</td>\n",
       "      <td>0</td>\n",
       "      <td>0</td>\n",
       "      <td>NaN</td>\n",
       "      <td>POINT (-73.981963 40.753821)</td>\n",
       "    </tr>\n",
       "  </tbody>\n",
       "</table>\n",
       "</div>"
      ],
      "text/plain": [
       "    GTFS Stop ID  Station ID  Complex ID Division         Line   Stop Name Borough Daytime Routes Structure  GTFS Latitude  GTFS Longitude North Direction Label South Direction Label  ADA  ADA Northbound  ADA Southbound ADA Notes                  Georeference\n",
       "7            R13           8           8      BMT      Astoria  5 Av/59 St       M          N R W    Subway      40.764811      -73.973347                Queens              Downtown    0               0               0       NaN  POINT (-73.973347 40.764811)\n",
       "68           B22          69          69      BMT     West End       25 Av      Bk              D  Elevated      40.597704      -73.986829             Manhattan          Coney Island    0               0               0       NaN  POINT (-73.986829 40.597704)\n",
       "260          F07         260         260      IND  Queens Blvd       75 Av       Q            E F    Subway      40.718331      -73.837324               Jamaica             Manhattan    0               0               0       NaN  POINT (-73.837324 40.718331)\n",
       "276          F12         276         276      IND  Queens Blvd  5 Av/53 St       M            E M    Subway      40.760167      -73.975224                Queens              Downtown    0               0               0       NaN  POINT (-73.975224 40.760167)\n",
       "467          724         466         609      IRT     Flushing        5 Av       M              7    Subway      40.753821      -73.981963                Queens          Hudson Yards    0               0               0       NaN  POINT (-73.981963 40.753821)"
      ]
     },
     "execution_count": 20,
     "metadata": {},
     "output_type": "execute_result"
    }
   ],
   "source": [
    "mta_all_stations[(mta_all_stations[\"Stop Name\"].str.contains(\"5 Av\"))]"
   ]
  },
  {
   "cell_type": "code",
   "execution_count": 21,
   "id": "9ee4d830",
   "metadata": {},
   "outputs": [
    {
     "name": "stdout",
     "output_type": "stream",
     "text": [
      "0\n"
     ]
    }
   ],
   "source": [
    "cur = setup_sqlite.get_cursor()\n",
    "\n",
    "station_latlongs = []\n",
    "not_found_cnt = 0\n",
    "\n",
    "for station_id, station_name, station_lines, _, _ in cur.execute(\"SELECT * from stations\"):\n",
    "    # station_tokens = station_name.split(\" \")\n",
    "\n",
    "    # if station_tokens[0].isnumeric():\n",
    "    #     # Modify station name to have the numeric suffixes if applicable\n",
    "    #     if station_tokens[0][-1] == \"1\":\n",
    "    #         station_tokens[0] += \"st\"\n",
    "    #     elif station_tokens[0][-1] == \"2\":\n",
    "    #         station_tokens[0] += \"nd\"\n",
    "    #     elif station_tokens[0][-1] == \"3\":\n",
    "    #         station_tokens[0] += \"rd\"\n",
    "    #     else:\n",
    "    #         station_tokens[0] += \"th\"\n",
    "\n",
    "    # # Translate certain stations\n",
    "    # if \"Washington Hts\" in station_name:\n",
    "    #     station_tokens = [\"168th St - Washington Heights\"]\n",
    "    # elif \"Cathedral Pkwy\" in station_name:\n",
    "    #     station_tokens = [\"Cathedral Parkway-110th St\"]\n",
    "    # elif \"Columbus Circle\" in station_name:\n",
    "    #     station_tokens = [\"59th St-Columbus Circle\"]\n",
    "    # elif \"Times Sq - 42 St / Port Authority Bus Terminal\" in station_name:\n",
    "    #     station_tokens = [\"Times Square-42nd St\"]\n",
    "    # elif \"14 St / 6 Av\" in station_name:\n",
    "    #     station_tokens = [\"14th St\"]\n",
    "    # elif \"WTC Cortlandt\" in station_name:\n",
    "    #     station_tokens = [\"World Trade Center\"]\n",
    "    #     station_lines = \"A C E 2 3\"\n",
    "    # elif \"South Ferry / Whitehall\" in station_name:\n",
    "    #     station_tokens = [\"South Ferry\"]\n",
    "    #     station_lines = \"R 1\"\n",
    "    # elif \"Nereid Av\" in station_name:\n",
    "    #     station_tokens = [\"238th St-Nereid Av\"]\n",
    "    # elif \"Pelham Pkwy\" in station_name:\n",
    "    #     station_tokens = [\"Pelham Parkway\"]\n",
    "    # elif \"E 180 St\" in station_name:\n",
    "    #     station_tokens = [\"East 180th St\"]\n",
    "    # elif \"149 St - Grand Concourse\" in station_name:\n",
    "    #     station_tokens = [\"149th St-Grand Concourse\"]\n",
    "    # elif \"Central Park North (110 St)\" in station_name:\n",
    "    #     station_tokens = [\"110th St-Central Park North\"]\n",
    "    # elif \"Chambers St / WTC / Park Place / Cortlandt St\" in station_name:\n",
    "    #     station_tokens = [\"Park Place\"]\n",
    "    #     station_lines = \"A C E 1 2 3\"\n",
    "    # elif \"Borough Hall / Court St\" in station_name:\n",
    "    #     station_tokens = [\"Court St\"]\n",
    "    #     station_lines = \"R 2 3 4 5\"\n",
    "    # elif \"Franklin Av / Botanic Garden\" in station_name:\n",
    "    #     station_tokens = [\"Botanic Gardens\"]\n",
    "    #     station_lines = \"2 3 4 5 FS\"\n",
    "    # elif \"Mosholu Pkwy\" in station_name:\n",
    "    #     station_tokens = [\"Mosholu Parkway\"]\n",
    "    # elif \"161 St - Yankee Stadium\" in station_name:\n",
    "    #     station_tokens = [\"Yankee Stadium-161st St\"]\n",
    "    # elif \"Pelham Pkwy\" in station_name:\n",
    "    #     station_tokens = [\"Pelham Parkway\"]\n",
    "    # elif \"E 149 St\" in station_name:\n",
    "    #     station_tokens = [\"East 149th St\"]\n",
    "    # elif \"Lexington Av / 59 St\" in station_name:\n",
    "    #     station_tokens = [\"59th St\"]\n",
    "    # elif \"Lexington Av / 51 St\" in station_name:\n",
    "    #     station_tokens = [\"51st St\"]\n",
    "    # elif \"Grand Central - 42 St\" in station_name:\n",
    "    #     station_tokens = [\"Grand Central-42nd St\"]\n",
    "    #     station_lines += \" GS\"\n",
    "    # elif \"14 St - Union Sq\" in station_name:\n",
    "    #     station_tokens = [\"14th St-Union Square\"]\n",
    "    # elif \"Astor Pl\" in station_name:\n",
    "    #     station_tokens = [\"Astor Place\"]\n",
    "    # elif \"Broadway-Lafayette St / Bleecker St\" in station_name:\n",
    "    #     station_tokens = [\"Bleecker St\"]\n",
    "    #     station_lines = \"B D F M 6\"\n",
    "    # elif \"Brooklyn Bridge-City Hall / Chambers St\" in station_name:\n",
    "    #     station_tokens = [\"Chambers St\"]\n",
    "    #     station_lines = \"J Z 4 5 6\"\n",
    "    # elif \"Jackson Hts-Roosevelt Av / 74 St\" in station_name:\n",
    "    #     station_tokens = [\"Jackson Heights-Roosevelt Ave\"]\n",
    "    #     station_lines = \"E F M R 7\"\n",
    "    # elif \"Court Sq - 23 St\" in station_name:\n",
    "    #     station_tokens = [\"23rd St-Ely Av\"]\n",
    "    #     station_lines = \"E G M 7\"\n",
    "    # elif \"42 St - Bryant Pk / 5 Av\" in station_name:\n",
    "    #     station_tokens = [\"5th Av\"]\n",
    "    #     station_lines = \"B D F M 7\"\n",
    "    # elif \"W 4 St - Wash Sq\" in station_name:\n",
    "    #     station_tokens = [\"West 4th St\"]\n",
    "    # elif \"Jay St - MetroTech\" in station_name:\n",
    "    #     station_tokens = [\"Jay St - Borough Hall\"]\n",
    "    #     station_lines = \"A C F R\"\n",
    "    # elif \"Fort Hamilton Pkwy\" in station_name:\n",
    "    #     station_tokens = [\"Fort Hamilton Parkway\"]\n",
    "    # elif \"62 St / New Utrecht Av\" in station_name:\n",
    "    #     station_tokens = [\"New Utrecht Av\"]\n",
    "    # elif \"Bay Pkwy\" in station_name:\n",
    "    #     if set(station_lines) == set(\"D\"):\n",
    "    #         station_tokens = [\"Bay Parkway\"]\n",
    "    #     elif set(station_lines) == set(\"F\"):\n",
    "    #         station_tokens = [\"Bay Parkway-22nd Av\"]\n",
    "    #     elif set(station_lines) == set(\"D N Q W\"):\n",
    "    #         station_tokens = [\"Bay Parkway-22nd Av\"]\n",
    "    #         station_lines = \"N\"\n",
    "    # elif \"182-183 Sts\" in station_name:\n",
    "    #     station_tokens = [\"182nd-183rd Sts\"]\n",
    "    # elif \"174-175 Sts\" in station_name:\n",
    "    #     station_tokens = [\"174-175th Sts\"]\n",
    "    # elif \"34 St - Herald Sq\" in station_name:\n",
    "    #     station_tokens = [\"34th St\"]\n",
    "    # elif \"Newkirk Plaza\" in station_name:\n",
    "    #     station_tokens = [\"Newkirk Av\"]\n",
    "    # elif \"Ocean Pkwy\" in station_name:\n",
    "    #     station_tokens = [\"Ocean Parkway\"]\n",
    "    # elif \"Delancey St / Essex St\" in station_name:\n",
    "    #     station_tokens = [\"Delancey St\"]\n",
    "    # elif \"4 Av - 9 St\" in station_name:\n",
    "    #     station_tokens = [\"4th Av\"]\n",
    "    # elif \"Kings Hwy\" in station_name:\n",
    "    #     station_tokens = [\"Kings Highway\"]\n",
    "    # elif \"Metropolitan Av / Lorimer St\" in station_name:\n",
    "    #     station_tokens = [\"Metropolitan Av\"]\n",
    "    # elif station_tokens[0] == \"Beach\":\n",
    "    #     station_tokens = [f\"Beach {station_tokens[1]}th St\"]\n",
    "    # elif \"Myrtle - Wyckoff Avs\" in station_name:\n",
    "    #     station_tokens = [\"Myrtle Av\"]\n",
    "    # elif \"Astoria Blvd\" in station_name:\n",
    "    #     station_tokens = [\"Astoria Blvd-Hoyt Av\"]\n",
    "    # elif \"Parkchester\" in station_name:\n",
    "    #     station_tokens = [\"Parkchester-East 177th St\"]\n",
    "    # elif \"111 St\" in station_name:\n",
    "    #     if set(station_lines) == set(\"A\"):\n",
    "    #         station_tokens = [\"111th St-Greenwood Av\"]\n",
    "    #     else:\n",
    "    #         station_tokens = [\"111th St\"]\n",
    "    # elif \"52 St\" in station_name:\n",
    "    #     station_tokens = [\"Lincoln Av-52nd St\"]\n",
    "    # elif \"14 St / 8 Av\" in station_name:\n",
    "    #     station_tokens = [\"14th St\"]\n",
    "    # elif \"Broadway Junction\" in station_name:\n",
    "    #     station_tokens = [\"Broadway Junction-East New York\"]\n",
    "    # elif \"80 St\" in station_name:\n",
    "    #     station_tokens = [\"80th St-Hudson St\"]\n",
    "    # elif \"88 St\" in station_name:\n",
    "    #     station_tokens = [\"88th St-Boyd Av\"]\n",
    "    # elif \"104 St\" in station_name:\n",
    "    #     if set(station_lines) == set(\"A\"):\n",
    "    #         station_tokens = [\"104th St-Oxford Av\"]\n",
    "    #     if set(station_lines) == set(\"J Z\"):\n",
    "    #         station_tokens = [\"104th St-102nd St\"]\n",
    "    # elif \"Bay 50 St\" in station_name:\n",
    "    #     station_tokens = [\"Bay 50th St\"]\n",
    "    # elif \"Beverley Rd\" in station_name:\n",
    "    #     station_tokens = [\"Beverly Rd\"]\n",
    "    # elif station_tokens[0] == \"Avenue\":\n",
    "    #     station_tokens = [\"Av\", station_tokens[1]]\n",
    "\n",
    "    #     if station_tokens == [\"Av\", \"U\"]:\n",
    "    #         station_lines = \"B Q\"\n",
    "\n",
    "    # elif \"Briarwood\" in station_name:\n",
    "    #     station_tokens = [\"Briarwood-Van Wyck Blvd\"]\n",
    "    # elif \"Kosciuszko St\" in station_name:\n",
    "    #     station_tokens = [\"Kosciusko St\"]\n",
    "    # elif \"30 Av\" in station_name:\n",
    "    #     station_tokens = [\"30 Av-Grand Av\"]\n",
    "    # elif \"Queensboro Plaza\" in station_name:\n",
    "    #     station_lines += \" Q\"\n",
    "    # elif \"Dyckman St\" in station_name:\n",
    "    #     if set(station_lines) == set(\"A\"):\n",
    "    #         station_tokens = [\"Dyckman St-200th St\"]\n",
    "    # elif \"High St\" in station_name:\n",
    "    #     station_lines = \"A C J Z 2 3 4 5\"\n",
    "    # elif \"Franklin Av\" in station_name:\n",
    "    #     if set(station_lines) == set(\"A C S\"):\n",
    "    #         station_lines = \"A C FS\"\n",
    "    # elif \"Prospect Park\" in station_name:\n",
    "    #     station_lines = \"B Q FS\"\n",
    "    # elif \"Neck Rd\" in station_name:\n",
    "    #     station_lines = \"B Q\"\n",
    "    # elif \"Broad Channel\" in station_name:\n",
    "    #     station_lines = \"A H\"\n",
    "\n",
    "    if \"168 St - Washington Hts\" in station_name:\n",
    "        station_name = \"168 St-Washington Hts\"\n",
    "    elif \"59 St - Columbus Circle\" in station_name:\n",
    "        station_name = \"59 St-Columbus Circle\"\n",
    "    elif \"Times Sq - 42 St / Port Authority Bus Terminal\" in station_name:\n",
    "        station_name = \"42 St-Port Authority Bus Terminal\"\n",
    "    elif \"14 St / 6 Av\" in station_name or \"14 St / 8 Av\" in station_name:\n",
    "        station_name = \"14 St\"\n",
    "    elif \"South Ferry / Whitehall\" in station_name:\n",
    "        station_name = \"Whitehall St-South Ferry\"\n",
    "    elif \"149 St - Grand Concourse\" in station_name:\n",
    "        station_name = \"149 St-Grand Concourse\"\n",
    "    elif \"Chambers St / WTC / Park Place / Cortlandt St\" in station_name:\n",
    "        station_name = \"Park Place\"\n",
    "    elif \"Borough Hall / Court St\" in station_name:\n",
    "        station_name = \"Borough Hall\"\n",
    "    elif \"Franklin Av / Botanic Garden\" in station_name:\n",
    "        station_name = \"Franklin Av\"\n",
    "    elif \"161 St - Yankee Stadium\" in station_name:\n",
    "        station_name = \"161 St-Yankee Stadium\"\n",
    "    elif \"Lexington Av / 59 St\" in station_name:\n",
    "        station_name = \"Lexington Av/59 St\"\n",
    "    elif \"Lexington Av / 51 St\" in station_name:\n",
    "        station_name = \"51 St\"\n",
    "    elif \"Grand Central - 42 St\" in station_name:\n",
    "        station_name = \"Grand Central-42 St\"\n",
    "    elif \"14 St - Union Sq\" in station_name:\n",
    "        station_name = \"14 St-Union Sq\"\n",
    "    elif \"Broadway-Lafayette St / Bleecker St\" in station_name:\n",
    "        station_name = \"Bleecker St\"\n",
    "    elif \"Brooklyn Bridge-City Hall / Chambers St\" in station_name:\n",
    "        station_name = \"Brooklyn Bridge-City Hall\"\n",
    "    elif \"Jackson Hts-Roosevelt Av / 74 St\" in station_name:\n",
    "        station_name = \"Jackson Hts-Roosevelt Av\"\n",
    "    elif \"Court Sq - 23 St\" in station_name:\n",
    "        station_name = \"Court Sq-23 St\"\n",
    "    elif \"42 St - Bryant Pk / 5 Av\" in station_name:\n",
    "        station_name = \"42 St-Bryant Pk\"\n",
    "    elif \"W 4 St - Wash Sq\" in station_name:\n",
    "        station_name = \"W 4 St-Wash Sq\"\n",
    "    elif \"Jay St - MetroTech\" in station_name:\n",
    "        station_name = \"Jay St-MetroTech\"\n",
    "    elif \"62 St / New Utrecht Av\" in station_name:\n",
    "        station_name = \"New Utrecht Av\"\n",
    "    elif \"34 St - Herald Sq\" in station_name:\n",
    "        station_name = \"34 St-Herald Sq\"\n",
    "    elif \"Delancey St / Essex St\" in station_name:\n",
    "        station_name = \"Delancey St-Essex St\"\n",
    "    elif \"4 Av - 9 St\" in station_name:\n",
    "        station_name = \"4 Av-9 St\"\n",
    "    elif \"Metropolitan Av / Lorimer St\" in station_name:\n",
    "        station_name = \"Metropolitan Av\"\n",
    "    elif \"Myrtle - Wyckoff Avs\" in station_name:\n",
    "        station_name = \"Myrtle-Wyckoff Avs\"\n",
    "    elif \"Jamaica Center-Parsons / Archer\" in station_name:\n",
    "        station_name = \"Jamaica Center-Parsons/Archer\"\n",
    "    elif \"Lexington Av / 63 St\" in station_name:\n",
    "        station_name = \"Lexington Av/63 St\"\n",
    "    elif \"5 Av / 53 St\" in station_name:\n",
    "        station_name = \"5 Av/53 St\"\n",
    "    elif \"5 Av / 59 St\" in station_name:\n",
    "        station_name = \"5 Av/59 St\"\n",
    "    \n",
    "    if station_id == 17763:\n",
    "        station_lines += \" M\"\n",
    "\n",
    "    mta_stations = mta_all_stations[\n",
    "        (mta_all_stations[\"Stop Name\"] == station_name)\n",
    "    ]\n",
    "\n",
    "    found_station = False\n",
    "    for _, candidate in mta_stations.iterrows():\n",
    "        if set(candidate[\"Daytime Routes\"]).issubset(set(station_lines)):\n",
    "            station_latlongs.append(\n",
    "                [\n",
    "                    candidate[\"GTFS Latitude\"],\n",
    "                    candidate[\"GTFS Longitude\"],\n",
    "                    station_id,\n",
    "                ]\n",
    "            )\n",
    "            found_station = True\n",
    "            break\n",
    "\n",
    "    if mta_stations.empty or not found_station:\n",
    "        not_found_cnt += 1\n",
    "        print(f\"{station_id}, {station_name}, {station_lines}: not found\")\n",
    "        print(\"Candidates:\")\n",
    "        print(\n",
    "            mta_all_stations[\n",
    "                (mta_all_stations[\"Stop Name\"] == f\"{station_name}\")\n",
    "            ].to_markdown()\n",
    "        )\n",
    "        print()\n",
    "print(not_found_cnt)\n",
    "\n",
    "setup_sqlite.update_latlong(station_latlongs)"
   ]
  },
  {
   "cell_type": "code",
   "execution_count": 22,
   "id": "60220e2c-49be-4449-a892-6cd573319be1",
   "metadata": {},
   "outputs": [],
   "source": [
    "# rat_sv[\"total_voters\"] = rat_sv[[\"so_many\", \"one_or_two\", \"none\"]].sum(axis=1)\n",
    "# rat_sv = rat_sv.sort_values(\"total_voters\", ascending=False)\n",
    "\n",
    "# rat_sv[\"% so_many\"] = rat_sv[\"so_many\"] / rat_sv[\"total_voters\"]\n",
    "# rat_sv[\"% one_or_two\"] = rat_sv[\"one_or_two\"] / rat_sv[\"total_voters\"]\n",
    "# rat_sv[\"% none\"] = rat_sv[\"none\"] / rat_sv[\"total_voters\"]\n",
    "# rat_sv[\"seen_rats\"] = (3 * rat_sv[\"so_many\"]) + (1.5 * rat_sv[\"one_or_two\"])\n",
    "# rat_sv[\"% rats\"] = (rat_sv[\"so_many\"] + rat_sv[\"one_or_two\"]) / rat_sv[\"total_voters\"]\n",
    "\n",
    "# rat_sv.head(20)\n",
    "\n",
    "sightings_df = pd.read_sql(\"SELECT * from sightings\", setup_sqlite.get_connector())\n",
    "stations_df = pd.read_sql(\"SELECT * from stations\", setup_sqlite.get_connector())\n",
    "\n",
    "sightings_df[\"date_start\"] = pd.to_datetime(sightings_df[\"date_start\"])\n",
    "sightings_df[\"date_end\"] = pd.to_datetime(sightings_df[\"date_end\"])"
   ]
  },
  {
   "cell_type": "code",
   "execution_count": 23,
   "id": "acc9f6ee-b311-455d-ac12-7e636f1e23f8",
   "metadata": {},
   "outputs": [
    {
     "name": "stdout",
     "output_type": "stream",
     "text": [
      "(429, 5)\n",
      "(41242, 6)\n",
      "   station_id  so_many  one_or_two  none date_start   date_end\n",
      "0       17496        3           7     2 2023-10-06 2023-11-05\n",
      "1       17700        5           8     3 2023-10-06 2023-11-05\n",
      "2       17497        9          21    10 2023-10-06 2023-11-05\n",
      "3       17872        8           6     5 2023-10-06 2023-11-05\n",
      "4       20055       16          10    11 2023-10-06 2023-11-05\n",
      "5       17921        8           8     7 2023-10-06 2023-11-05\n",
      "6       17546       31          39    33 2023-10-06 2023-11-05\n",
      "7       17699       19          21    19 2023-10-06 2023-11-05\n",
      "8       17549       10          11    10 2023-10-06 2023-11-05\n",
      "9       17725        8          14    11 2023-10-06 2023-11-05\n",
      "<class 'pandas.core.frame.DataFrame'>\n",
      "RangeIndex: 41242 entries, 0 to 41241\n",
      "Data columns (total 6 columns):\n",
      " #   Column      Non-Null Count  Dtype         \n",
      "---  ------      --------------  -----         \n",
      " 0   station_id  41242 non-null  int64         \n",
      " 1   so_many     41242 non-null  int64         \n",
      " 2   one_or_two  41242 non-null  int64         \n",
      " 3   none        41242 non-null  int64         \n",
      " 4   date_start  41242 non-null  datetime64[ns]\n",
      " 5   date_end    41242 non-null  datetime64[ns]\n",
      "dtypes: datetime64[ns](2), int64(4)\n",
      "memory usage: 1.9 MB\n",
      "None\n"
     ]
    }
   ],
   "source": [
    "print(stations_df.shape)\n",
    "print(sightings_df.shape)\n",
    "print(sightings_df.head(10))\n",
    "print(sightings_df.info())"
   ]
  },
  {
   "cell_type": "code",
   "execution_count": 24,
   "id": "4c722bf3",
   "metadata": {},
   "outputs": [
    {
     "data": {
      "application/vnd.plotly.v1+json": {
       "config": {
        "plotlyServerURL": "https://plot.ly"
       },
       "data": [
        {
         "hovertemplate": "sighting_type=so_many<br>date_end=%{x}<br>value=%{y}<extra></extra>",
         "legendgroup": "so_many",
         "line": {
          "color": "#636efa",
          "dash": "solid"
         },
         "marker": {
          "symbol": "circle"
         },
         "mode": "lines+markers",
         "name": "so_many",
         "orientation": "v",
         "showlegend": true,
         "type": "scatter",
         "x": [
          "2023-11-05T00:00:00",
          "2023-11-06T00:00:00",
          "2023-11-07T00:00:00",
          "2023-11-09T00:00:00",
          "2023-11-10T00:00:00",
          "2023-11-11T00:00:00",
          "2023-11-12T00:00:00",
          "2023-11-13T00:00:00",
          "2023-11-14T00:00:00",
          "2023-11-15T00:00:00",
          "2023-11-19T00:00:00",
          "2023-11-20T00:00:00",
          "2023-11-21T00:00:00",
          "2023-11-22T00:00:00",
          "2023-11-23T00:00:00",
          "2023-11-24T00:00:00",
          "2023-11-25T00:00:00",
          "2023-11-26T00:00:00",
          "2023-11-27T00:00:00",
          "2023-11-28T00:00:00",
          "2023-11-29T00:00:00",
          "2023-11-30T00:00:00",
          "2023-12-01T00:00:00",
          "2023-12-02T00:00:00",
          "2023-12-03T00:00:00",
          "2023-12-04T00:00:00",
          "2023-12-05T00:00:00",
          "2023-12-06T00:00:00",
          "2023-12-07T00:00:00",
          "2023-12-08T00:00:00",
          "2023-12-09T00:00:00",
          "2023-12-10T00:00:00",
          "2023-12-11T00:00:00",
          "2023-12-12T00:00:00",
          "2023-12-13T00:00:00",
          "2023-12-14T00:00:00",
          "2023-12-15T00:00:00",
          "2023-12-16T00:00:00",
          "2023-12-17T00:00:00",
          "2023-12-18T00:00:00",
          "2023-12-19T00:00:00",
          "2023-12-20T00:00:00",
          "2023-12-21T00:00:00",
          "2023-12-22T00:00:00",
          "2023-12-23T00:00:00",
          "2023-12-24T00:00:00",
          "2023-12-25T00:00:00",
          "2023-12-26T00:00:00",
          "2023-12-27T00:00:00",
          "2023-12-28T00:00:00",
          "2023-12-29T00:00:00",
          "2023-12-31T00:00:00",
          "2024-01-01T00:00:00",
          "2024-01-14T00:00:00",
          "2024-01-15T00:00:00",
          "2024-01-16T00:00:00",
          "2024-01-17T00:00:00",
          "2024-01-18T00:00:00",
          "2024-01-19T00:00:00",
          "2024-01-20T00:00:00",
          "2024-01-21T00:00:00",
          "2024-01-22T00:00:00",
          "2024-01-23T00:00:00",
          "2024-01-24T00:00:00",
          "2024-01-25T00:00:00",
          "2024-01-26T00:00:00",
          "2024-01-27T00:00:00",
          "2024-01-28T00:00:00",
          "2024-01-29T00:00:00",
          "2024-01-30T00:00:00",
          "2024-01-31T00:00:00",
          "2024-02-01T00:00:00",
          "2024-02-02T00:00:00",
          "2024-02-03T00:00:00",
          "2024-02-04T00:00:00",
          "2024-02-05T00:00:00",
          "2024-02-06T00:00:00",
          "2024-02-07T00:00:00",
          "2024-02-08T00:00:00",
          "2024-02-09T00:00:00",
          "2024-02-10T00:00:00",
          "2024-02-11T00:00:00",
          "2024-02-12T00:00:00",
          "2024-02-13T00:00:00",
          "2024-02-14T00:00:00",
          "2024-02-15T00:00:00",
          "2024-02-16T00:00:00",
          "2024-02-17T00:00:00",
          "2024-02-18T00:00:00",
          "2024-02-19T00:00:00",
          "2024-02-20T00:00:00",
          "2024-02-21T00:00:00",
          "2024-02-22T00:00:00",
          "2024-02-23T00:00:00",
          "2024-02-24T00:00:00",
          "2024-02-25T00:00:00",
          "2024-02-26T00:00:00",
          "2024-02-27T00:00:00",
          "2024-02-28T00:00:00",
          "2024-02-29T00:00:00",
          "2024-03-01T00:00:00",
          "2024-03-02T00:00:00",
          "2024-03-03T00:00:00"
         ],
         "xaxis": "x",
         "y": [
          2,
          2,
          2,
          2,
          2,
          2,
          2,
          2,
          2,
          2,
          1,
          1,
          1,
          1,
          1,
          0,
          0,
          1,
          1,
          2,
          2,
          2,
          2,
          2,
          2,
          2,
          2,
          2,
          2,
          2,
          2,
          2,
          2,
          2,
          2,
          2,
          2,
          2,
          2,
          2,
          2,
          2,
          2,
          2,
          2,
          2,
          2,
          2,
          1,
          1,
          0,
          0,
          0,
          0,
          0,
          0,
          1,
          1,
          1,
          1,
          1,
          1,
          1,
          1,
          1,
          1,
          1,
          1,
          1,
          1,
          1,
          1,
          1,
          1,
          1,
          1,
          1,
          2,
          3,
          3,
          3,
          3,
          3,
          3,
          3,
          3,
          3,
          2,
          2,
          2,
          2,
          2,
          2,
          2,
          2,
          2,
          2,
          2,
          2,
          2,
          2,
          2,
          2
         ],
         "yaxis": "y"
        },
        {
         "hovertemplate": "sighting_type=one_or_two<br>date_end=%{x}<br>value=%{y}<extra></extra>",
         "legendgroup": "one_or_two",
         "line": {
          "color": "#EF553B",
          "dash": "solid"
         },
         "marker": {
          "symbol": "circle"
         },
         "mode": "lines+markers",
         "name": "one_or_two",
         "orientation": "v",
         "showlegend": true,
         "type": "scatter",
         "x": [
          "2023-11-05T00:00:00",
          "2023-11-06T00:00:00",
          "2023-11-07T00:00:00",
          "2023-11-09T00:00:00",
          "2023-11-10T00:00:00",
          "2023-11-11T00:00:00",
          "2023-11-12T00:00:00",
          "2023-11-13T00:00:00",
          "2023-11-14T00:00:00",
          "2023-11-15T00:00:00",
          "2023-11-19T00:00:00",
          "2023-11-20T00:00:00",
          "2023-11-21T00:00:00",
          "2023-11-22T00:00:00",
          "2023-11-23T00:00:00",
          "2023-11-24T00:00:00",
          "2023-11-25T00:00:00",
          "2023-11-26T00:00:00",
          "2023-11-27T00:00:00",
          "2023-11-28T00:00:00",
          "2023-11-29T00:00:00",
          "2023-11-30T00:00:00",
          "2023-12-01T00:00:00",
          "2023-12-02T00:00:00",
          "2023-12-03T00:00:00",
          "2023-12-04T00:00:00",
          "2023-12-05T00:00:00",
          "2023-12-06T00:00:00",
          "2023-12-07T00:00:00",
          "2023-12-08T00:00:00",
          "2023-12-09T00:00:00",
          "2023-12-10T00:00:00",
          "2023-12-11T00:00:00",
          "2023-12-12T00:00:00",
          "2023-12-13T00:00:00",
          "2023-12-14T00:00:00",
          "2023-12-15T00:00:00",
          "2023-12-16T00:00:00",
          "2023-12-17T00:00:00",
          "2023-12-18T00:00:00",
          "2023-12-19T00:00:00",
          "2023-12-20T00:00:00",
          "2023-12-21T00:00:00",
          "2023-12-22T00:00:00",
          "2023-12-23T00:00:00",
          "2023-12-24T00:00:00",
          "2023-12-25T00:00:00",
          "2023-12-26T00:00:00",
          "2023-12-27T00:00:00",
          "2023-12-28T00:00:00",
          "2023-12-29T00:00:00",
          "2023-12-31T00:00:00",
          "2024-01-01T00:00:00",
          "2024-01-14T00:00:00",
          "2024-01-15T00:00:00",
          "2024-01-16T00:00:00",
          "2024-01-17T00:00:00",
          "2024-01-18T00:00:00",
          "2024-01-19T00:00:00",
          "2024-01-20T00:00:00",
          "2024-01-21T00:00:00",
          "2024-01-22T00:00:00",
          "2024-01-23T00:00:00",
          "2024-01-24T00:00:00",
          "2024-01-25T00:00:00",
          "2024-01-26T00:00:00",
          "2024-01-27T00:00:00",
          "2024-01-28T00:00:00",
          "2024-01-29T00:00:00",
          "2024-01-30T00:00:00",
          "2024-01-31T00:00:00",
          "2024-02-01T00:00:00",
          "2024-02-02T00:00:00",
          "2024-02-03T00:00:00",
          "2024-02-04T00:00:00",
          "2024-02-05T00:00:00",
          "2024-02-06T00:00:00",
          "2024-02-07T00:00:00",
          "2024-02-08T00:00:00",
          "2024-02-09T00:00:00",
          "2024-02-10T00:00:00",
          "2024-02-11T00:00:00",
          "2024-02-12T00:00:00",
          "2024-02-13T00:00:00",
          "2024-02-14T00:00:00",
          "2024-02-15T00:00:00",
          "2024-02-16T00:00:00",
          "2024-02-17T00:00:00",
          "2024-02-18T00:00:00",
          "2024-02-19T00:00:00",
          "2024-02-20T00:00:00",
          "2024-02-21T00:00:00",
          "2024-02-22T00:00:00",
          "2024-02-23T00:00:00",
          "2024-02-24T00:00:00",
          "2024-02-25T00:00:00",
          "2024-02-26T00:00:00",
          "2024-02-27T00:00:00",
          "2024-02-28T00:00:00",
          "2024-02-29T00:00:00",
          "2024-03-01T00:00:00",
          "2024-03-02T00:00:00",
          "2024-03-03T00:00:00"
         ],
         "xaxis": "x",
         "y": [
          1,
          1,
          1,
          1,
          1,
          1,
          1,
          1,
          2,
          2,
          3,
          3,
          3,
          3,
          3,
          3,
          2,
          2,
          2,
          2,
          2,
          2,
          2,
          2,
          2,
          2,
          2,
          2,
          2,
          2,
          2,
          2,
          2,
          2,
          3,
          2,
          2,
          2,
          1,
          1,
          2,
          2,
          2,
          2,
          2,
          2,
          2,
          2,
          2,
          2,
          2,
          2,
          2,
          1,
          1,
          2,
          2,
          2,
          1,
          1,
          1,
          1,
          1,
          1,
          1,
          1,
          1,
          1,
          1,
          2,
          2,
          2,
          2,
          2,
          2,
          2,
          2,
          2,
          2,
          2,
          2,
          2,
          2,
          3,
          3,
          3,
          2,
          2,
          2,
          2,
          2,
          2,
          2,
          2,
          3,
          3,
          4,
          4,
          4,
          4,
          3,
          4,
          4
         ],
         "yaxis": "y"
        },
        {
         "hovertemplate": "sighting_type=none<br>date_end=%{x}<br>value=%{y}<extra></extra>",
         "legendgroup": "none",
         "line": {
          "color": "#00cc96",
          "dash": "solid"
         },
         "marker": {
          "symbol": "circle"
         },
         "mode": "lines+markers",
         "name": "none",
         "orientation": "v",
         "showlegend": true,
         "type": "scatter",
         "x": [
          "2023-11-05T00:00:00",
          "2023-11-06T00:00:00",
          "2023-11-07T00:00:00",
          "2023-11-09T00:00:00",
          "2023-11-10T00:00:00",
          "2023-11-11T00:00:00",
          "2023-11-12T00:00:00",
          "2023-11-13T00:00:00",
          "2023-11-14T00:00:00",
          "2023-11-15T00:00:00",
          "2023-11-19T00:00:00",
          "2023-11-20T00:00:00",
          "2023-11-21T00:00:00",
          "2023-11-22T00:00:00",
          "2023-11-23T00:00:00",
          "2023-11-24T00:00:00",
          "2023-11-25T00:00:00",
          "2023-11-26T00:00:00",
          "2023-11-27T00:00:00",
          "2023-11-28T00:00:00",
          "2023-11-29T00:00:00",
          "2023-11-30T00:00:00",
          "2023-12-01T00:00:00",
          "2023-12-02T00:00:00",
          "2023-12-03T00:00:00",
          "2023-12-04T00:00:00",
          "2023-12-05T00:00:00",
          "2023-12-06T00:00:00",
          "2023-12-07T00:00:00",
          "2023-12-08T00:00:00",
          "2023-12-09T00:00:00",
          "2023-12-10T00:00:00",
          "2023-12-11T00:00:00",
          "2023-12-12T00:00:00",
          "2023-12-13T00:00:00",
          "2023-12-14T00:00:00",
          "2023-12-15T00:00:00",
          "2023-12-16T00:00:00",
          "2023-12-17T00:00:00",
          "2023-12-18T00:00:00",
          "2023-12-19T00:00:00",
          "2023-12-20T00:00:00",
          "2023-12-21T00:00:00",
          "2023-12-22T00:00:00",
          "2023-12-23T00:00:00",
          "2023-12-24T00:00:00",
          "2023-12-25T00:00:00",
          "2023-12-26T00:00:00",
          "2023-12-27T00:00:00",
          "2023-12-28T00:00:00",
          "2023-12-29T00:00:00",
          "2023-12-31T00:00:00",
          "2024-01-01T00:00:00",
          "2024-01-14T00:00:00",
          "2024-01-15T00:00:00",
          "2024-01-16T00:00:00",
          "2024-01-17T00:00:00",
          "2024-01-18T00:00:00",
          "2024-01-19T00:00:00",
          "2024-01-20T00:00:00",
          "2024-01-21T00:00:00",
          "2024-01-22T00:00:00",
          "2024-01-23T00:00:00",
          "2024-01-24T00:00:00",
          "2024-01-25T00:00:00",
          "2024-01-26T00:00:00",
          "2024-01-27T00:00:00",
          "2024-01-28T00:00:00",
          "2024-01-29T00:00:00",
          "2024-01-30T00:00:00",
          "2024-01-31T00:00:00",
          "2024-02-01T00:00:00",
          "2024-02-02T00:00:00",
          "2024-02-03T00:00:00",
          "2024-02-04T00:00:00",
          "2024-02-05T00:00:00",
          "2024-02-06T00:00:00",
          "2024-02-07T00:00:00",
          "2024-02-08T00:00:00",
          "2024-02-09T00:00:00",
          "2024-02-10T00:00:00",
          "2024-02-11T00:00:00",
          "2024-02-12T00:00:00",
          "2024-02-13T00:00:00",
          "2024-02-14T00:00:00",
          "2024-02-15T00:00:00",
          "2024-02-16T00:00:00",
          "2024-02-17T00:00:00",
          "2024-02-18T00:00:00",
          "2024-02-19T00:00:00",
          "2024-02-20T00:00:00",
          "2024-02-21T00:00:00",
          "2024-02-22T00:00:00",
          "2024-02-23T00:00:00",
          "2024-02-24T00:00:00",
          "2024-02-25T00:00:00",
          "2024-02-26T00:00:00",
          "2024-02-27T00:00:00",
          "2024-02-28T00:00:00",
          "2024-02-29T00:00:00",
          "2024-03-01T00:00:00",
          "2024-03-02T00:00:00",
          "2024-03-03T00:00:00"
         ],
         "xaxis": "x",
         "y": [
          17,
          19,
          19,
          20,
          18,
          19,
          18,
          18,
          18,
          19,
          12,
          12,
          13,
          13,
          13,
          11,
          10,
          10,
          10,
          12,
          14,
          13,
          13,
          14,
          15,
          14,
          14,
          15,
          13,
          13,
          13,
          12,
          12,
          11,
          11,
          11,
          10,
          10,
          10,
          10,
          10,
          10,
          9,
          9,
          9,
          9,
          12,
          12,
          11,
          10,
          8,
          8,
          8,
          9,
          9,
          8,
          8,
          8,
          9,
          9,
          10,
          11,
          11,
          10,
          9,
          10,
          10,
          10,
          12,
          13,
          12,
          12,
          12,
          12,
          11,
          11,
          13,
          13,
          13,
          13,
          13,
          13,
          13,
          14,
          12,
          12,
          12,
          12,
          12,
          11,
          11,
          10,
          9,
          9,
          8,
          8,
          7,
          7,
          9,
          7,
          7,
          8,
          8
         ],
         "yaxis": "y"
        }
       ],
       "layout": {
        "legend": {
         "title": {
          "text": "sighting_type"
         },
         "tracegroupgap": 0
        },
        "margin": {
         "t": 60
        },
        "template": {
         "data": {
          "bar": [
           {
            "error_x": {
             "color": "#2a3f5f"
            },
            "error_y": {
             "color": "#2a3f5f"
            },
            "marker": {
             "line": {
              "color": "#E5ECF6",
              "width": 0.5
             },
             "pattern": {
              "fillmode": "overlay",
              "size": 10,
              "solidity": 0.2
             }
            },
            "type": "bar"
           }
          ],
          "barpolar": [
           {
            "marker": {
             "line": {
              "color": "#E5ECF6",
              "width": 0.5
             },
             "pattern": {
              "fillmode": "overlay",
              "size": 10,
              "solidity": 0.2
             }
            },
            "type": "barpolar"
           }
          ],
          "carpet": [
           {
            "aaxis": {
             "endlinecolor": "#2a3f5f",
             "gridcolor": "white",
             "linecolor": "white",
             "minorgridcolor": "white",
             "startlinecolor": "#2a3f5f"
            },
            "baxis": {
             "endlinecolor": "#2a3f5f",
             "gridcolor": "white",
             "linecolor": "white",
             "minorgridcolor": "white",
             "startlinecolor": "#2a3f5f"
            },
            "type": "carpet"
           }
          ],
          "choropleth": [
           {
            "colorbar": {
             "outlinewidth": 0,
             "ticks": ""
            },
            "type": "choropleth"
           }
          ],
          "contour": [
           {
            "colorbar": {
             "outlinewidth": 0,
             "ticks": ""
            },
            "colorscale": [
             [
              0,
              "#0d0887"
             ],
             [
              0.1111111111111111,
              "#46039f"
             ],
             [
              0.2222222222222222,
              "#7201a8"
             ],
             [
              0.3333333333333333,
              "#9c179e"
             ],
             [
              0.4444444444444444,
              "#bd3786"
             ],
             [
              0.5555555555555556,
              "#d8576b"
             ],
             [
              0.6666666666666666,
              "#ed7953"
             ],
             [
              0.7777777777777778,
              "#fb9f3a"
             ],
             [
              0.8888888888888888,
              "#fdca26"
             ],
             [
              1,
              "#f0f921"
             ]
            ],
            "type": "contour"
           }
          ],
          "contourcarpet": [
           {
            "colorbar": {
             "outlinewidth": 0,
             "ticks": ""
            },
            "type": "contourcarpet"
           }
          ],
          "heatmap": [
           {
            "colorbar": {
             "outlinewidth": 0,
             "ticks": ""
            },
            "colorscale": [
             [
              0,
              "#0d0887"
             ],
             [
              0.1111111111111111,
              "#46039f"
             ],
             [
              0.2222222222222222,
              "#7201a8"
             ],
             [
              0.3333333333333333,
              "#9c179e"
             ],
             [
              0.4444444444444444,
              "#bd3786"
             ],
             [
              0.5555555555555556,
              "#d8576b"
             ],
             [
              0.6666666666666666,
              "#ed7953"
             ],
             [
              0.7777777777777778,
              "#fb9f3a"
             ],
             [
              0.8888888888888888,
              "#fdca26"
             ],
             [
              1,
              "#f0f921"
             ]
            ],
            "type": "heatmap"
           }
          ],
          "heatmapgl": [
           {
            "colorbar": {
             "outlinewidth": 0,
             "ticks": ""
            },
            "colorscale": [
             [
              0,
              "#0d0887"
             ],
             [
              0.1111111111111111,
              "#46039f"
             ],
             [
              0.2222222222222222,
              "#7201a8"
             ],
             [
              0.3333333333333333,
              "#9c179e"
             ],
             [
              0.4444444444444444,
              "#bd3786"
             ],
             [
              0.5555555555555556,
              "#d8576b"
             ],
             [
              0.6666666666666666,
              "#ed7953"
             ],
             [
              0.7777777777777778,
              "#fb9f3a"
             ],
             [
              0.8888888888888888,
              "#fdca26"
             ],
             [
              1,
              "#f0f921"
             ]
            ],
            "type": "heatmapgl"
           }
          ],
          "histogram": [
           {
            "marker": {
             "pattern": {
              "fillmode": "overlay",
              "size": 10,
              "solidity": 0.2
             }
            },
            "type": "histogram"
           }
          ],
          "histogram2d": [
           {
            "colorbar": {
             "outlinewidth": 0,
             "ticks": ""
            },
            "colorscale": [
             [
              0,
              "#0d0887"
             ],
             [
              0.1111111111111111,
              "#46039f"
             ],
             [
              0.2222222222222222,
              "#7201a8"
             ],
             [
              0.3333333333333333,
              "#9c179e"
             ],
             [
              0.4444444444444444,
              "#bd3786"
             ],
             [
              0.5555555555555556,
              "#d8576b"
             ],
             [
              0.6666666666666666,
              "#ed7953"
             ],
             [
              0.7777777777777778,
              "#fb9f3a"
             ],
             [
              0.8888888888888888,
              "#fdca26"
             ],
             [
              1,
              "#f0f921"
             ]
            ],
            "type": "histogram2d"
           }
          ],
          "histogram2dcontour": [
           {
            "colorbar": {
             "outlinewidth": 0,
             "ticks": ""
            },
            "colorscale": [
             [
              0,
              "#0d0887"
             ],
             [
              0.1111111111111111,
              "#46039f"
             ],
             [
              0.2222222222222222,
              "#7201a8"
             ],
             [
              0.3333333333333333,
              "#9c179e"
             ],
             [
              0.4444444444444444,
              "#bd3786"
             ],
             [
              0.5555555555555556,
              "#d8576b"
             ],
             [
              0.6666666666666666,
              "#ed7953"
             ],
             [
              0.7777777777777778,
              "#fb9f3a"
             ],
             [
              0.8888888888888888,
              "#fdca26"
             ],
             [
              1,
              "#f0f921"
             ]
            ],
            "type": "histogram2dcontour"
           }
          ],
          "mesh3d": [
           {
            "colorbar": {
             "outlinewidth": 0,
             "ticks": ""
            },
            "type": "mesh3d"
           }
          ],
          "parcoords": [
           {
            "line": {
             "colorbar": {
              "outlinewidth": 0,
              "ticks": ""
             }
            },
            "type": "parcoords"
           }
          ],
          "pie": [
           {
            "automargin": true,
            "type": "pie"
           }
          ],
          "scatter": [
           {
            "fillpattern": {
             "fillmode": "overlay",
             "size": 10,
             "solidity": 0.2
            },
            "type": "scatter"
           }
          ],
          "scatter3d": [
           {
            "line": {
             "colorbar": {
              "outlinewidth": 0,
              "ticks": ""
             }
            },
            "marker": {
             "colorbar": {
              "outlinewidth": 0,
              "ticks": ""
             }
            },
            "type": "scatter3d"
           }
          ],
          "scattercarpet": [
           {
            "marker": {
             "colorbar": {
              "outlinewidth": 0,
              "ticks": ""
             }
            },
            "type": "scattercarpet"
           }
          ],
          "scattergeo": [
           {
            "marker": {
             "colorbar": {
              "outlinewidth": 0,
              "ticks": ""
             }
            },
            "type": "scattergeo"
           }
          ],
          "scattergl": [
           {
            "marker": {
             "colorbar": {
              "outlinewidth": 0,
              "ticks": ""
             }
            },
            "type": "scattergl"
           }
          ],
          "scattermapbox": [
           {
            "marker": {
             "colorbar": {
              "outlinewidth": 0,
              "ticks": ""
             }
            },
            "type": "scattermapbox"
           }
          ],
          "scatterpolar": [
           {
            "marker": {
             "colorbar": {
              "outlinewidth": 0,
              "ticks": ""
             }
            },
            "type": "scatterpolar"
           }
          ],
          "scatterpolargl": [
           {
            "marker": {
             "colorbar": {
              "outlinewidth": 0,
              "ticks": ""
             }
            },
            "type": "scatterpolargl"
           }
          ],
          "scatterternary": [
           {
            "marker": {
             "colorbar": {
              "outlinewidth": 0,
              "ticks": ""
             }
            },
            "type": "scatterternary"
           }
          ],
          "surface": [
           {
            "colorbar": {
             "outlinewidth": 0,
             "ticks": ""
            },
            "colorscale": [
             [
              0,
              "#0d0887"
             ],
             [
              0.1111111111111111,
              "#46039f"
             ],
             [
              0.2222222222222222,
              "#7201a8"
             ],
             [
              0.3333333333333333,
              "#9c179e"
             ],
             [
              0.4444444444444444,
              "#bd3786"
             ],
             [
              0.5555555555555556,
              "#d8576b"
             ],
             [
              0.6666666666666666,
              "#ed7953"
             ],
             [
              0.7777777777777778,
              "#fb9f3a"
             ],
             [
              0.8888888888888888,
              "#fdca26"
             ],
             [
              1,
              "#f0f921"
             ]
            ],
            "type": "surface"
           }
          ],
          "table": [
           {
            "cells": {
             "fill": {
              "color": "#EBF0F8"
             },
             "line": {
              "color": "white"
             }
            },
            "header": {
             "fill": {
              "color": "#C8D4E3"
             },
             "line": {
              "color": "white"
             }
            },
            "type": "table"
           }
          ]
         },
         "layout": {
          "annotationdefaults": {
           "arrowcolor": "#2a3f5f",
           "arrowhead": 0,
           "arrowwidth": 1
          },
          "autotypenumbers": "strict",
          "coloraxis": {
           "colorbar": {
            "outlinewidth": 0,
            "ticks": ""
           }
          },
          "colorscale": {
           "diverging": [
            [
             0,
             "#8e0152"
            ],
            [
             0.1,
             "#c51b7d"
            ],
            [
             0.2,
             "#de77ae"
            ],
            [
             0.3,
             "#f1b6da"
            ],
            [
             0.4,
             "#fde0ef"
            ],
            [
             0.5,
             "#f7f7f7"
            ],
            [
             0.6,
             "#e6f5d0"
            ],
            [
             0.7,
             "#b8e186"
            ],
            [
             0.8,
             "#7fbc41"
            ],
            [
             0.9,
             "#4d9221"
            ],
            [
             1,
             "#276419"
            ]
           ],
           "sequential": [
            [
             0,
             "#0d0887"
            ],
            [
             0.1111111111111111,
             "#46039f"
            ],
            [
             0.2222222222222222,
             "#7201a8"
            ],
            [
             0.3333333333333333,
             "#9c179e"
            ],
            [
             0.4444444444444444,
             "#bd3786"
            ],
            [
             0.5555555555555556,
             "#d8576b"
            ],
            [
             0.6666666666666666,
             "#ed7953"
            ],
            [
             0.7777777777777778,
             "#fb9f3a"
            ],
            [
             0.8888888888888888,
             "#fdca26"
            ],
            [
             1,
             "#f0f921"
            ]
           ],
           "sequentialminus": [
            [
             0,
             "#0d0887"
            ],
            [
             0.1111111111111111,
             "#46039f"
            ],
            [
             0.2222222222222222,
             "#7201a8"
            ],
            [
             0.3333333333333333,
             "#9c179e"
            ],
            [
             0.4444444444444444,
             "#bd3786"
            ],
            [
             0.5555555555555556,
             "#d8576b"
            ],
            [
             0.6666666666666666,
             "#ed7953"
            ],
            [
             0.7777777777777778,
             "#fb9f3a"
            ],
            [
             0.8888888888888888,
             "#fdca26"
            ],
            [
             1,
             "#f0f921"
            ]
           ]
          },
          "colorway": [
           "#636efa",
           "#EF553B",
           "#00cc96",
           "#ab63fa",
           "#FFA15A",
           "#19d3f3",
           "#FF6692",
           "#B6E880",
           "#FF97FF",
           "#FECB52"
          ],
          "font": {
           "color": "#2a3f5f"
          },
          "geo": {
           "bgcolor": "white",
           "lakecolor": "white",
           "landcolor": "#E5ECF6",
           "showlakes": true,
           "showland": true,
           "subunitcolor": "white"
          },
          "hoverlabel": {
           "align": "left"
          },
          "hovermode": "closest",
          "mapbox": {
           "style": "light"
          },
          "paper_bgcolor": "white",
          "plot_bgcolor": "#E5ECF6",
          "polar": {
           "angularaxis": {
            "gridcolor": "white",
            "linecolor": "white",
            "ticks": ""
           },
           "bgcolor": "#E5ECF6",
           "radialaxis": {
            "gridcolor": "white",
            "linecolor": "white",
            "ticks": ""
           }
          },
          "scene": {
           "xaxis": {
            "backgroundcolor": "#E5ECF6",
            "gridcolor": "white",
            "gridwidth": 2,
            "linecolor": "white",
            "showbackground": true,
            "ticks": "",
            "zerolinecolor": "white"
           },
           "yaxis": {
            "backgroundcolor": "#E5ECF6",
            "gridcolor": "white",
            "gridwidth": 2,
            "linecolor": "white",
            "showbackground": true,
            "ticks": "",
            "zerolinecolor": "white"
           },
           "zaxis": {
            "backgroundcolor": "#E5ECF6",
            "gridcolor": "white",
            "gridwidth": 2,
            "linecolor": "white",
            "showbackground": true,
            "ticks": "",
            "zerolinecolor": "white"
           }
          },
          "shapedefaults": {
           "line": {
            "color": "#2a3f5f"
           }
          },
          "ternary": {
           "aaxis": {
            "gridcolor": "white",
            "linecolor": "white",
            "ticks": ""
           },
           "baxis": {
            "gridcolor": "white",
            "linecolor": "white",
            "ticks": ""
           },
           "bgcolor": "#E5ECF6",
           "caxis": {
            "gridcolor": "white",
            "linecolor": "white",
            "ticks": ""
           }
          },
          "title": {
           "x": 0.05
          },
          "xaxis": {
           "automargin": true,
           "gridcolor": "white",
           "linecolor": "white",
           "ticks": "",
           "title": {
            "standoff": 15
           },
           "zerolinecolor": "white",
           "zerolinewidth": 2
          },
          "yaxis": {
           "automargin": true,
           "gridcolor": "white",
           "linecolor": "white",
           "ticks": "",
           "title": {
            "standoff": 15
           },
           "zerolinecolor": "white",
           "zerolinewidth": 2
          }
         }
        },
        "title": {
         "text": "30 day Trail of Rats Seen at 231 St (17491)"
        },
        "xaxis": {
         "anchor": "y",
         "domain": [
          0,
          1
         ],
         "tickformat": "%d %B (%a)<br>%Y",
         "title": {
          "text": "date_end"
         }
        },
        "yaxis": {
         "anchor": "x",
         "domain": [
          0,
          1
         ],
         "title": {
          "text": "Sighting Count"
         }
        }
       }
      }
     },
     "metadata": {},
     "output_type": "display_data"
    },
    {
     "name": "stdout",
     "output_type": "stream",
     "text": [
      "<html>\n",
      "<head><meta charset=\"utf-8\" /></head>\n",
      "<body>\n",
      "    <div>                            <div id=\"3b5600ee-94ed-4311-809d-105fce27fc4e\" class=\"plotly-graph-div\" style=\"height:100%; width:100%;\"></div>            <script type=\"text/javascript\">                                    window.PLOTLYENV=window.PLOTLYENV || {};                                    if (document.getElementById(\"3b5600ee-94ed-4311-809d-105fce27fc4e\")) {                    Plotly.newPlot(                        \"3b5600ee-94ed-4311-809d-105fce27fc4e\",                        [{\"hovertemplate\":\"sighting_type=so_many\\u003cbr\\u003edate_end=%{x}\\u003cbr\\u003evalue=%{y}\\u003cextra\\u003e\\u003c\\u002fextra\\u003e\",\"legendgroup\":\"so_many\",\"line\":{\"color\":\"#636efa\",\"dash\":\"solid\"},\"marker\":{\"symbol\":\"circle\"},\"mode\":\"lines+markers\",\"name\":\"so_many\",\"orientation\":\"v\",\"showlegend\":true,\"x\":[\"2023-11-05T00:00:00\",\"2023-11-06T00:00:00\",\"2023-11-07T00:00:00\",\"2023-11-09T00:00:00\",\"2023-11-10T00:00:00\",\"2023-11-11T00:00:00\",\"2023-11-12T00:00:00\",\"2023-11-13T00:00:00\",\"2023-11-14T00:00:00\",\"2023-11-15T00:00:00\",\"2023-11-19T00:00:00\",\"2023-11-20T00:00:00\",\"2023-11-21T00:00:00\",\"2023-11-22T00:00:00\",\"2023-11-23T00:00:00\",\"2023-11-24T00:00:00\",\"2023-11-25T00:00:00\",\"2023-11-26T00:00:00\",\"2023-11-27T00:00:00\",\"2023-11-28T00:00:00\",\"2023-11-29T00:00:00\",\"2023-11-30T00:00:00\",\"2023-12-01T00:00:00\",\"2023-12-02T00:00:00\",\"2023-12-03T00:00:00\",\"2023-12-04T00:00:00\",\"2023-12-05T00:00:00\",\"2023-12-06T00:00:00\",\"2023-12-07T00:00:00\",\"2023-12-08T00:00:00\",\"2023-12-09T00:00:00\",\"2023-12-10T00:00:00\",\"2023-12-11T00:00:00\",\"2023-12-12T00:00:00\",\"2023-12-13T00:00:00\",\"2023-12-14T00:00:00\",\"2023-12-15T00:00:00\",\"2023-12-16T00:00:00\",\"2023-12-17T00:00:00\",\"2023-12-18T00:00:00\",\"2023-12-19T00:00:00\",\"2023-12-20T00:00:00\",\"2023-12-21T00:00:00\",\"2023-12-22T00:00:00\",\"2023-12-23T00:00:00\",\"2023-12-24T00:00:00\",\"2023-12-25T00:00:00\",\"2023-12-26T00:00:00\",\"2023-12-27T00:00:00\",\"2023-12-28T00:00:00\",\"2023-12-29T00:00:00\",\"2023-12-31T00:00:00\",\"2024-01-01T00:00:00\",\"2024-01-14T00:00:00\",\"2024-01-15T00:00:00\",\"2024-01-16T00:00:00\",\"2024-01-17T00:00:00\",\"2024-01-18T00:00:00\",\"2024-01-19T00:00:00\",\"2024-01-20T00:00:00\",\"2024-01-21T00:00:00\",\"2024-01-22T00:00:00\",\"2024-01-23T00:00:00\",\"2024-01-24T00:00:00\",\"2024-01-25T00:00:00\",\"2024-01-26T00:00:00\",\"2024-01-27T00:00:00\",\"2024-01-28T00:00:00\",\"2024-01-29T00:00:00\",\"2024-01-30T00:00:00\",\"2024-01-31T00:00:00\",\"2024-02-01T00:00:00\",\"2024-02-02T00:00:00\",\"2024-02-03T00:00:00\",\"2024-02-04T00:00:00\",\"2024-02-05T00:00:00\",\"2024-02-06T00:00:00\",\"2024-02-07T00:00:00\",\"2024-02-08T00:00:00\",\"2024-02-09T00:00:00\",\"2024-02-10T00:00:00\",\"2024-02-11T00:00:00\",\"2024-02-12T00:00:00\",\"2024-02-13T00:00:00\",\"2024-02-14T00:00:00\",\"2024-02-15T00:00:00\",\"2024-02-16T00:00:00\",\"2024-02-17T00:00:00\",\"2024-02-18T00:00:00\",\"2024-02-19T00:00:00\",\"2024-02-20T00:00:00\",\"2024-02-21T00:00:00\",\"2024-02-22T00:00:00\",\"2024-02-23T00:00:00\",\"2024-02-24T00:00:00\",\"2024-02-25T00:00:00\",\"2024-02-26T00:00:00\",\"2024-02-27T00:00:00\",\"2024-02-28T00:00:00\",\"2024-02-29T00:00:00\",\"2024-03-01T00:00:00\",\"2024-03-02T00:00:00\",\"2024-03-03T00:00:00\"],\"xaxis\":\"x\",\"y\":[2,2,2,2,2,2,2,2,2,2,1,1,1,1,1,0,0,1,1,2,2,2,2,2,2,2,2,2,2,2,2,2,2,2,2,2,2,2,2,2,2,2,2,2,2,2,2,2,1,1,0,0,0,0,0,0,1,1,1,1,1,1,1,1,1,1,1,1,1,1,1,1,1,1,1,1,1,2,3,3,3,3,3,3,3,3,3,2,2,2,2,2,2,2,2,2,2,2,2,2,2,2,2],\"yaxis\":\"y\",\"type\":\"scatter\"},{\"hovertemplate\":\"sighting_type=one_or_two\\u003cbr\\u003edate_end=%{x}\\u003cbr\\u003evalue=%{y}\\u003cextra\\u003e\\u003c\\u002fextra\\u003e\",\"legendgroup\":\"one_or_two\",\"line\":{\"color\":\"#EF553B\",\"dash\":\"solid\"},\"marker\":{\"symbol\":\"circle\"},\"mode\":\"lines+markers\",\"name\":\"one_or_two\",\"orientation\":\"v\",\"showlegend\":true,\"x\":[\"2023-11-05T00:00:00\",\"2023-11-06T00:00:00\",\"2023-11-07T00:00:00\",\"2023-11-09T00:00:00\",\"2023-11-10T00:00:00\",\"2023-11-11T00:00:00\",\"2023-11-12T00:00:00\",\"2023-11-13T00:00:00\",\"2023-11-14T00:00:00\",\"2023-11-15T00:00:00\",\"2023-11-19T00:00:00\",\"2023-11-20T00:00:00\",\"2023-11-21T00:00:00\",\"2023-11-22T00:00:00\",\"2023-11-23T00:00:00\",\"2023-11-24T00:00:00\",\"2023-11-25T00:00:00\",\"2023-11-26T00:00:00\",\"2023-11-27T00:00:00\",\"2023-11-28T00:00:00\",\"2023-11-29T00:00:00\",\"2023-11-30T00:00:00\",\"2023-12-01T00:00:00\",\"2023-12-02T00:00:00\",\"2023-12-03T00:00:00\",\"2023-12-04T00:00:00\",\"2023-12-05T00:00:00\",\"2023-12-06T00:00:00\",\"2023-12-07T00:00:00\",\"2023-12-08T00:00:00\",\"2023-12-09T00:00:00\",\"2023-12-10T00:00:00\",\"2023-12-11T00:00:00\",\"2023-12-12T00:00:00\",\"2023-12-13T00:00:00\",\"2023-12-14T00:00:00\",\"2023-12-15T00:00:00\",\"2023-12-16T00:00:00\",\"2023-12-17T00:00:00\",\"2023-12-18T00:00:00\",\"2023-12-19T00:00:00\",\"2023-12-20T00:00:00\",\"2023-12-21T00:00:00\",\"2023-12-22T00:00:00\",\"2023-12-23T00:00:00\",\"2023-12-24T00:00:00\",\"2023-12-25T00:00:00\",\"2023-12-26T00:00:00\",\"2023-12-27T00:00:00\",\"2023-12-28T00:00:00\",\"2023-12-29T00:00:00\",\"2023-12-31T00:00:00\",\"2024-01-01T00:00:00\",\"2024-01-14T00:00:00\",\"2024-01-15T00:00:00\",\"2024-01-16T00:00:00\",\"2024-01-17T00:00:00\",\"2024-01-18T00:00:00\",\"2024-01-19T00:00:00\",\"2024-01-20T00:00:00\",\"2024-01-21T00:00:00\",\"2024-01-22T00:00:00\",\"2024-01-23T00:00:00\",\"2024-01-24T00:00:00\",\"2024-01-25T00:00:00\",\"2024-01-26T00:00:00\",\"2024-01-27T00:00:00\",\"2024-01-28T00:00:00\",\"2024-01-29T00:00:00\",\"2024-01-30T00:00:00\",\"2024-01-31T00:00:00\",\"2024-02-01T00:00:00\",\"2024-02-02T00:00:00\",\"2024-02-03T00:00:00\",\"2024-02-04T00:00:00\",\"2024-02-05T00:00:00\",\"2024-02-06T00:00:00\",\"2024-02-07T00:00:00\",\"2024-02-08T00:00:00\",\"2024-02-09T00:00:00\",\"2024-02-10T00:00:00\",\"2024-02-11T00:00:00\",\"2024-02-12T00:00:00\",\"2024-02-13T00:00:00\",\"2024-02-14T00:00:00\",\"2024-02-15T00:00:00\",\"2024-02-16T00:00:00\",\"2024-02-17T00:00:00\",\"2024-02-18T00:00:00\",\"2024-02-19T00:00:00\",\"2024-02-20T00:00:00\",\"2024-02-21T00:00:00\",\"2024-02-22T00:00:00\",\"2024-02-23T00:00:00\",\"2024-02-24T00:00:00\",\"2024-02-25T00:00:00\",\"2024-02-26T00:00:00\",\"2024-02-27T00:00:00\",\"2024-02-28T00:00:00\",\"2024-02-29T00:00:00\",\"2024-03-01T00:00:00\",\"2024-03-02T00:00:00\",\"2024-03-03T00:00:00\"],\"xaxis\":\"x\",\"y\":[1,1,1,1,1,1,1,1,2,2,3,3,3,3,3,3,2,2,2,2,2,2,2,2,2,2,2,2,2,2,2,2,2,2,3,2,2,2,1,1,2,2,2,2,2,2,2,2,2,2,2,2,2,1,1,2,2,2,1,1,1,1,1,1,1,1,1,1,1,2,2,2,2,2,2,2,2,2,2,2,2,2,2,3,3,3,2,2,2,2,2,2,2,2,3,3,4,4,4,4,3,4,4],\"yaxis\":\"y\",\"type\":\"scatter\"},{\"hovertemplate\":\"sighting_type=none\\u003cbr\\u003edate_end=%{x}\\u003cbr\\u003evalue=%{y}\\u003cextra\\u003e\\u003c\\u002fextra\\u003e\",\"legendgroup\":\"none\",\"line\":{\"color\":\"#00cc96\",\"dash\":\"solid\"},\"marker\":{\"symbol\":\"circle\"},\"mode\":\"lines+markers\",\"name\":\"none\",\"orientation\":\"v\",\"showlegend\":true,\"x\":[\"2023-11-05T00:00:00\",\"2023-11-06T00:00:00\",\"2023-11-07T00:00:00\",\"2023-11-09T00:00:00\",\"2023-11-10T00:00:00\",\"2023-11-11T00:00:00\",\"2023-11-12T00:00:00\",\"2023-11-13T00:00:00\",\"2023-11-14T00:00:00\",\"2023-11-15T00:00:00\",\"2023-11-19T00:00:00\",\"2023-11-20T00:00:00\",\"2023-11-21T00:00:00\",\"2023-11-22T00:00:00\",\"2023-11-23T00:00:00\",\"2023-11-24T00:00:00\",\"2023-11-25T00:00:00\",\"2023-11-26T00:00:00\",\"2023-11-27T00:00:00\",\"2023-11-28T00:00:00\",\"2023-11-29T00:00:00\",\"2023-11-30T00:00:00\",\"2023-12-01T00:00:00\",\"2023-12-02T00:00:00\",\"2023-12-03T00:00:00\",\"2023-12-04T00:00:00\",\"2023-12-05T00:00:00\",\"2023-12-06T00:00:00\",\"2023-12-07T00:00:00\",\"2023-12-08T00:00:00\",\"2023-12-09T00:00:00\",\"2023-12-10T00:00:00\",\"2023-12-11T00:00:00\",\"2023-12-12T00:00:00\",\"2023-12-13T00:00:00\",\"2023-12-14T00:00:00\",\"2023-12-15T00:00:00\",\"2023-12-16T00:00:00\",\"2023-12-17T00:00:00\",\"2023-12-18T00:00:00\",\"2023-12-19T00:00:00\",\"2023-12-20T00:00:00\",\"2023-12-21T00:00:00\",\"2023-12-22T00:00:00\",\"2023-12-23T00:00:00\",\"2023-12-24T00:00:00\",\"2023-12-25T00:00:00\",\"2023-12-26T00:00:00\",\"2023-12-27T00:00:00\",\"2023-12-28T00:00:00\",\"2023-12-29T00:00:00\",\"2023-12-31T00:00:00\",\"2024-01-01T00:00:00\",\"2024-01-14T00:00:00\",\"2024-01-15T00:00:00\",\"2024-01-16T00:00:00\",\"2024-01-17T00:00:00\",\"2024-01-18T00:00:00\",\"2024-01-19T00:00:00\",\"2024-01-20T00:00:00\",\"2024-01-21T00:00:00\",\"2024-01-22T00:00:00\",\"2024-01-23T00:00:00\",\"2024-01-24T00:00:00\",\"2024-01-25T00:00:00\",\"2024-01-26T00:00:00\",\"2024-01-27T00:00:00\",\"2024-01-28T00:00:00\",\"2024-01-29T00:00:00\",\"2024-01-30T00:00:00\",\"2024-01-31T00:00:00\",\"2024-02-01T00:00:00\",\"2024-02-02T00:00:00\",\"2024-02-03T00:00:00\",\"2024-02-04T00:00:00\",\"2024-02-05T00:00:00\",\"2024-02-06T00:00:00\",\"2024-02-07T00:00:00\",\"2024-02-08T00:00:00\",\"2024-02-09T00:00:00\",\"2024-02-10T00:00:00\",\"2024-02-11T00:00:00\",\"2024-02-12T00:00:00\",\"2024-02-13T00:00:00\",\"2024-02-14T00:00:00\",\"2024-02-15T00:00:00\",\"2024-02-16T00:00:00\",\"2024-02-17T00:00:00\",\"2024-02-18T00:00:00\",\"2024-02-19T00:00:00\",\"2024-02-20T00:00:00\",\"2024-02-21T00:00:00\",\"2024-02-22T00:00:00\",\"2024-02-23T00:00:00\",\"2024-02-24T00:00:00\",\"2024-02-25T00:00:00\",\"2024-02-26T00:00:00\",\"2024-02-27T00:00:00\",\"2024-02-28T00:00:00\",\"2024-02-29T00:00:00\",\"2024-03-01T00:00:00\",\"2024-03-02T00:00:00\",\"2024-03-03T00:00:00\"],\"xaxis\":\"x\",\"y\":[17,19,19,20,18,19,18,18,18,19,12,12,13,13,13,11,10,10,10,12,14,13,13,14,15,14,14,15,13,13,13,12,12,11,11,11,10,10,10,10,10,10,9,9,9,9,12,12,11,10,8,8,8,9,9,8,8,8,9,9,10,11,11,10,9,10,10,10,12,13,12,12,12,12,11,11,13,13,13,13,13,13,13,14,12,12,12,12,12,11,11,10,9,9,8,8,7,7,9,7,7,8,8],\"yaxis\":\"y\",\"type\":\"scatter\"}],                        {\"template\":{\"data\":{\"histogram2dcontour\":[{\"type\":\"histogram2dcontour\",\"colorbar\":{\"outlinewidth\":0,\"ticks\":\"\"},\"colorscale\":[[0.0,\"#0d0887\"],[0.1111111111111111,\"#46039f\"],[0.2222222222222222,\"#7201a8\"],[0.3333333333333333,\"#9c179e\"],[0.4444444444444444,\"#bd3786\"],[0.5555555555555556,\"#d8576b\"],[0.6666666666666666,\"#ed7953\"],[0.7777777777777778,\"#fb9f3a\"],[0.8888888888888888,\"#fdca26\"],[1.0,\"#f0f921\"]]}],\"choropleth\":[{\"type\":\"choropleth\",\"colorbar\":{\"outlinewidth\":0,\"ticks\":\"\"}}],\"histogram2d\":[{\"type\":\"histogram2d\",\"colorbar\":{\"outlinewidth\":0,\"ticks\":\"\"},\"colorscale\":[[0.0,\"#0d0887\"],[0.1111111111111111,\"#46039f\"],[0.2222222222222222,\"#7201a8\"],[0.3333333333333333,\"#9c179e\"],[0.4444444444444444,\"#bd3786\"],[0.5555555555555556,\"#d8576b\"],[0.6666666666666666,\"#ed7953\"],[0.7777777777777778,\"#fb9f3a\"],[0.8888888888888888,\"#fdca26\"],[1.0,\"#f0f921\"]]}],\"heatmap\":[{\"type\":\"heatmap\",\"colorbar\":{\"outlinewidth\":0,\"ticks\":\"\"},\"colorscale\":[[0.0,\"#0d0887\"],[0.1111111111111111,\"#46039f\"],[0.2222222222222222,\"#7201a8\"],[0.3333333333333333,\"#9c179e\"],[0.4444444444444444,\"#bd3786\"],[0.5555555555555556,\"#d8576b\"],[0.6666666666666666,\"#ed7953\"],[0.7777777777777778,\"#fb9f3a\"],[0.8888888888888888,\"#fdca26\"],[1.0,\"#f0f921\"]]}],\"heatmapgl\":[{\"type\":\"heatmapgl\",\"colorbar\":{\"outlinewidth\":0,\"ticks\":\"\"},\"colorscale\":[[0.0,\"#0d0887\"],[0.1111111111111111,\"#46039f\"],[0.2222222222222222,\"#7201a8\"],[0.3333333333333333,\"#9c179e\"],[0.4444444444444444,\"#bd3786\"],[0.5555555555555556,\"#d8576b\"],[0.6666666666666666,\"#ed7953\"],[0.7777777777777778,\"#fb9f3a\"],[0.8888888888888888,\"#fdca26\"],[1.0,\"#f0f921\"]]}],\"contourcarpet\":[{\"type\":\"contourcarpet\",\"colorbar\":{\"outlinewidth\":0,\"ticks\":\"\"}}],\"contour\":[{\"type\":\"contour\",\"colorbar\":{\"outlinewidth\":0,\"ticks\":\"\"},\"colorscale\":[[0.0,\"#0d0887\"],[0.1111111111111111,\"#46039f\"],[0.2222222222222222,\"#7201a8\"],[0.3333333333333333,\"#9c179e\"],[0.4444444444444444,\"#bd3786\"],[0.5555555555555556,\"#d8576b\"],[0.6666666666666666,\"#ed7953\"],[0.7777777777777778,\"#fb9f3a\"],[0.8888888888888888,\"#fdca26\"],[1.0,\"#f0f921\"]]}],\"surface\":[{\"type\":\"surface\",\"colorbar\":{\"outlinewidth\":0,\"ticks\":\"\"},\"colorscale\":[[0.0,\"#0d0887\"],[0.1111111111111111,\"#46039f\"],[0.2222222222222222,\"#7201a8\"],[0.3333333333333333,\"#9c179e\"],[0.4444444444444444,\"#bd3786\"],[0.5555555555555556,\"#d8576b\"],[0.6666666666666666,\"#ed7953\"],[0.7777777777777778,\"#fb9f3a\"],[0.8888888888888888,\"#fdca26\"],[1.0,\"#f0f921\"]]}],\"mesh3d\":[{\"type\":\"mesh3d\",\"colorbar\":{\"outlinewidth\":0,\"ticks\":\"\"}}],\"scatter\":[{\"fillpattern\":{\"fillmode\":\"overlay\",\"size\":10,\"solidity\":0.2},\"type\":\"scatter\"}],\"parcoords\":[{\"type\":\"parcoords\",\"line\":{\"colorbar\":{\"outlinewidth\":0,\"ticks\":\"\"}}}],\"scatterpolargl\":[{\"type\":\"scatterpolargl\",\"marker\":{\"colorbar\":{\"outlinewidth\":0,\"ticks\":\"\"}}}],\"bar\":[{\"error_x\":{\"color\":\"#2a3f5f\"},\"error_y\":{\"color\":\"#2a3f5f\"},\"marker\":{\"line\":{\"color\":\"#E5ECF6\",\"width\":0.5},\"pattern\":{\"fillmode\":\"overlay\",\"size\":10,\"solidity\":0.2}},\"type\":\"bar\"}],\"scattergeo\":[{\"type\":\"scattergeo\",\"marker\":{\"colorbar\":{\"outlinewidth\":0,\"ticks\":\"\"}}}],\"scatterpolar\":[{\"type\":\"scatterpolar\",\"marker\":{\"colorbar\":{\"outlinewidth\":0,\"ticks\":\"\"}}}],\"histogram\":[{\"marker\":{\"pattern\":{\"fillmode\":\"overlay\",\"size\":10,\"solidity\":0.2}},\"type\":\"histogram\"}],\"scattergl\":[{\"type\":\"scattergl\",\"marker\":{\"colorbar\":{\"outlinewidth\":0,\"ticks\":\"\"}}}],\"scatter3d\":[{\"type\":\"scatter3d\",\"line\":{\"colorbar\":{\"outlinewidth\":0,\"ticks\":\"\"}},\"marker\":{\"colorbar\":{\"outlinewidth\":0,\"ticks\":\"\"}}}],\"scattermapbox\":[{\"type\":\"scattermapbox\",\"marker\":{\"colorbar\":{\"outlinewidth\":0,\"ticks\":\"\"}}}],\"scatterternary\":[{\"type\":\"scatterternary\",\"marker\":{\"colorbar\":{\"outlinewidth\":0,\"ticks\":\"\"}}}],\"scattercarpet\":[{\"type\":\"scattercarpet\",\"marker\":{\"colorbar\":{\"outlinewidth\":0,\"ticks\":\"\"}}}],\"carpet\":[{\"aaxis\":{\"endlinecolor\":\"#2a3f5f\",\"gridcolor\":\"white\",\"linecolor\":\"white\",\"minorgridcolor\":\"white\",\"startlinecolor\":\"#2a3f5f\"},\"baxis\":{\"endlinecolor\":\"#2a3f5f\",\"gridcolor\":\"white\",\"linecolor\":\"white\",\"minorgridcolor\":\"white\",\"startlinecolor\":\"#2a3f5f\"},\"type\":\"carpet\"}],\"table\":[{\"cells\":{\"fill\":{\"color\":\"#EBF0F8\"},\"line\":{\"color\":\"white\"}},\"header\":{\"fill\":{\"color\":\"#C8D4E3\"},\"line\":{\"color\":\"white\"}},\"type\":\"table\"}],\"barpolar\":[{\"marker\":{\"line\":{\"color\":\"#E5ECF6\",\"width\":0.5},\"pattern\":{\"fillmode\":\"overlay\",\"size\":10,\"solidity\":0.2}},\"type\":\"barpolar\"}],\"pie\":[{\"automargin\":true,\"type\":\"pie\"}]},\"layout\":{\"autotypenumbers\":\"strict\",\"colorway\":[\"#636efa\",\"#EF553B\",\"#00cc96\",\"#ab63fa\",\"#FFA15A\",\"#19d3f3\",\"#FF6692\",\"#B6E880\",\"#FF97FF\",\"#FECB52\"],\"font\":{\"color\":\"#2a3f5f\"},\"hovermode\":\"closest\",\"hoverlabel\":{\"align\":\"left\"},\"paper_bgcolor\":\"white\",\"plot_bgcolor\":\"#E5ECF6\",\"polar\":{\"bgcolor\":\"#E5ECF6\",\"angularaxis\":{\"gridcolor\":\"white\",\"linecolor\":\"white\",\"ticks\":\"\"},\"radialaxis\":{\"gridcolor\":\"white\",\"linecolor\":\"white\",\"ticks\":\"\"}},\"ternary\":{\"bgcolor\":\"#E5ECF6\",\"aaxis\":{\"gridcolor\":\"white\",\"linecolor\":\"white\",\"ticks\":\"\"},\"baxis\":{\"gridcolor\":\"white\",\"linecolor\":\"white\",\"ticks\":\"\"},\"caxis\":{\"gridcolor\":\"white\",\"linecolor\":\"white\",\"ticks\":\"\"}},\"coloraxis\":{\"colorbar\":{\"outlinewidth\":0,\"ticks\":\"\"}},\"colorscale\":{\"sequential\":[[0.0,\"#0d0887\"],[0.1111111111111111,\"#46039f\"],[0.2222222222222222,\"#7201a8\"],[0.3333333333333333,\"#9c179e\"],[0.4444444444444444,\"#bd3786\"],[0.5555555555555556,\"#d8576b\"],[0.6666666666666666,\"#ed7953\"],[0.7777777777777778,\"#fb9f3a\"],[0.8888888888888888,\"#fdca26\"],[1.0,\"#f0f921\"]],\"sequentialminus\":[[0.0,\"#0d0887\"],[0.1111111111111111,\"#46039f\"],[0.2222222222222222,\"#7201a8\"],[0.3333333333333333,\"#9c179e\"],[0.4444444444444444,\"#bd3786\"],[0.5555555555555556,\"#d8576b\"],[0.6666666666666666,\"#ed7953\"],[0.7777777777777778,\"#fb9f3a\"],[0.8888888888888888,\"#fdca26\"],[1.0,\"#f0f921\"]],\"diverging\":[[0,\"#8e0152\"],[0.1,\"#c51b7d\"],[0.2,\"#de77ae\"],[0.3,\"#f1b6da\"],[0.4,\"#fde0ef\"],[0.5,\"#f7f7f7\"],[0.6,\"#e6f5d0\"],[0.7,\"#b8e186\"],[0.8,\"#7fbc41\"],[0.9,\"#4d9221\"],[1,\"#276419\"]]},\"xaxis\":{\"gridcolor\":\"white\",\"linecolor\":\"white\",\"ticks\":\"\",\"title\":{\"standoff\":15},\"zerolinecolor\":\"white\",\"automargin\":true,\"zerolinewidth\":2},\"yaxis\":{\"gridcolor\":\"white\",\"linecolor\":\"white\",\"ticks\":\"\",\"title\":{\"standoff\":15},\"zerolinecolor\":\"white\",\"automargin\":true,\"zerolinewidth\":2},\"scene\":{\"xaxis\":{\"backgroundcolor\":\"#E5ECF6\",\"gridcolor\":\"white\",\"linecolor\":\"white\",\"showbackground\":true,\"ticks\":\"\",\"zerolinecolor\":\"white\",\"gridwidth\":2},\"yaxis\":{\"backgroundcolor\":\"#E5ECF6\",\"gridcolor\":\"white\",\"linecolor\":\"white\",\"showbackground\":true,\"ticks\":\"\",\"zerolinecolor\":\"white\",\"gridwidth\":2},\"zaxis\":{\"backgroundcolor\":\"#E5ECF6\",\"gridcolor\":\"white\",\"linecolor\":\"white\",\"showbackground\":true,\"ticks\":\"\",\"zerolinecolor\":\"white\",\"gridwidth\":2}},\"shapedefaults\":{\"line\":{\"color\":\"#2a3f5f\"}},\"annotationdefaults\":{\"arrowcolor\":\"#2a3f5f\",\"arrowhead\":0,\"arrowwidth\":1},\"geo\":{\"bgcolor\":\"white\",\"landcolor\":\"#E5ECF6\",\"subunitcolor\":\"white\",\"showland\":true,\"showlakes\":true,\"lakecolor\":\"white\"},\"title\":{\"x\":0.05},\"mapbox\":{\"style\":\"light\"}}},\"xaxis\":{\"anchor\":\"y\",\"domain\":[0.0,1.0],\"title\":{\"text\":\"date_end\"},\"tickformat\":\"%d %B (%a)\\u003cbr\\u003e%Y\"},\"yaxis\":{\"anchor\":\"x\",\"domain\":[0.0,1.0],\"title\":{\"text\":\"Sighting Count\"}},\"legend\":{\"title\":{\"text\":\"sighting_type\"},\"tracegroupgap\":0},\"margin\":{\"t\":60},\"title\":{\"text\":\"30 day Trail of Rats Seen at 231 St (17491)\"}},                        {\"responsive\": true}                    )                };                            </script>        </div>\n",
      "</body>\n",
      "</html>\n"
     ]
    }
   ],
   "source": [
    "def plot_station_trend(station_name, station_id=None):\n",
    "    if not station_id:\n",
    "        station_id = stations_df[stations_df[\"station_name\"] == station_name][\n",
    "            \"station_id\"\n",
    "        ].values\n",
    "        if len(station_id) > 1:\n",
    "            print(\n",
    "                \"Station name conflict, this station requires a specific ID due to duplicate names\"\n",
    "            )\n",
    "            return\n",
    "\n",
    "    station_data = sightings_df[sightings_df[\"station_id\"] == station_id[0]]\n",
    "    melted_data = station_data.melt(\n",
    "        [\"station_id\", \"date_start\", \"date_end\"],\n",
    "        var_name=\"sighting_type\",\n",
    "        value_vars=[\"so_many\", \"one_or_two\", \"none\"],\n",
    "    )\n",
    "\n",
    "    fig = px.line(\n",
    "        melted_data, x=\"date_end\", y=\"value\", color=\"sighting_type\", markers=True\n",
    "    )\n",
    "    fig.update_layout(\n",
    "        title=f\"30 day Trail of Rats Seen at {station_name} ({station_id[0]})\",\n",
    "        xaxis_tickformat=\"%d %B (%a)<br>%Y\",\n",
    "        yaxis_title=\"Sighting Count\",\n",
    "    )\n",
    "    fig.show()\n",
    "\n",
    "    print(pio.to_html(fig, include_plotlyjs=False))\n",
    "\n",
    "\n",
    "plot_station_trend(\"231 St\")"
   ]
  },
  {
   "cell_type": "code",
   "execution_count": 32,
   "id": "1962e9fb",
   "metadata": {},
   "outputs": [
    {
     "name": "stdout",
     "output_type": "stream",
     "text": [
      "      date_start   date_end  total_sightings  total_records  perc_sightings  date_delta  sightings_delta\n",
      "340   2023-10-06 2023-11-05                3             20        0.150000         NaN              NaN\n",
      "724   2023-10-07 2023-11-06                3             22        0.136364         1.0              0.0\n",
      "1112  2023-10-08 2023-11-07                3             22        0.136364         1.0              0.0\n",
      "1504  2023-10-10 2023-11-09                3             23        0.130435         2.0              0.0\n",
      "1887  2023-10-11 2023-11-10                3             21        0.142857         1.0              0.0\n",
      "...          ...        ...              ...            ...             ...         ...              ...\n",
      "39608 2024-01-29 2024-02-28                6             15        0.400000         1.0              0.0\n",
      "39919 2024-01-30 2024-02-29                6             13        0.461538         1.0              0.0\n",
      "40323 2024-01-31 2024-03-01                5             12        0.416667         1.0             -1.0\n",
      "40673 2024-02-01 2024-03-02                6             14        0.428571         1.0              1.0\n",
      "41029 2024-02-02 2024-03-03                6             14        0.428571         1.0              0.0\n",
      "\n",
      "[103 rows x 7 columns]\n"
     ]
    },
    {
     "data": {
      "application/vnd.plotly.v1+json": {
       "config": {
        "plotlyServerURL": "https://plot.ly"
       },
       "data": [
        {
         "mode": "lines+markers",
         "name": "Total Sightings",
         "text": [
          "date_end: 05 November (Sun)",
          "date_end: 06 November (Mon)",
          "date_end: 07 November (Tue)",
          "date_end: 09 November (Thu)",
          "date_end: 10 November (Fri)",
          "date_end: 11 November (Sat)",
          "date_end: 12 November (Sun)",
          "date_end: 13 November (Mon)",
          "date_end: 14 November (Tue)",
          "date_end: 15 November (Wed)",
          "date_end: 19 November (Sun)",
          "date_end: 20 November (Mon)",
          "date_end: 21 November (Tue)",
          "date_end: 22 November (Wed)",
          "date_end: 23 November (Thu)",
          "date_end: 24 November (Fri)",
          "date_end: 25 November (Sat)",
          "date_end: 26 November (Sun)",
          "date_end: 27 November (Mon)",
          "date_end: 28 November (Tue)",
          "date_end: 29 November (Wed)",
          "date_end: 30 November (Thu)",
          "date_end: 01 December (Fri)",
          "date_end: 02 December (Sat)",
          "date_end: 03 December (Sun)",
          "date_end: 04 December (Mon)",
          "date_end: 05 December (Tue)",
          "date_end: 06 December (Wed)",
          "date_end: 07 December (Thu)",
          "date_end: 08 December (Fri)",
          "date_end: 09 December (Sat)",
          "date_end: 10 December (Sun)",
          "date_end: 11 December (Mon)",
          "date_end: 12 December (Tue)",
          "date_end: 13 December (Wed)",
          "date_end: 14 December (Thu)",
          "date_end: 15 December (Fri)",
          "date_end: 16 December (Sat)",
          "date_end: 17 December (Sun)",
          "date_end: 18 December (Mon)",
          "date_end: 19 December (Tue)",
          "date_end: 20 December (Wed)",
          "date_end: 21 December (Thu)",
          "date_end: 22 December (Fri)",
          "date_end: 23 December (Sat)",
          "date_end: 24 December (Sun)",
          "date_end: 25 December (Mon)",
          "date_end: 26 December (Tue)",
          "date_end: 27 December (Wed)",
          "date_end: 28 December (Thu)",
          "date_end: 29 December (Fri)",
          "date_end: 31 December (Sun)",
          "date_end: 01 January (Mon)",
          "date_end: 14 January (Sun)",
          "date_end: 15 January (Mon)",
          "date_end: 16 January (Tue)",
          "date_end: 17 January (Wed)",
          "date_end: 18 January (Thu)",
          "date_end: 19 January (Fri)",
          "date_end: 20 January (Sat)",
          "date_end: 21 January (Sun)",
          "date_end: 22 January (Mon)",
          "date_end: 23 January (Tue)",
          "date_end: 24 January (Wed)",
          "date_end: 25 January (Thu)",
          "date_end: 26 January (Fri)",
          "date_end: 27 January (Sat)",
          "date_end: 28 January (Sun)",
          "date_end: 29 January (Mon)",
          "date_end: 30 January (Tue)",
          "date_end: 31 January (Wed)",
          "date_end: 01 February (Thu)",
          "date_end: 02 February (Fri)",
          "date_end: 03 February (Sat)",
          "date_end: 04 February (Sun)",
          "date_end: 05 February (Mon)",
          "date_end: 06 February (Tue)",
          "date_end: 07 February (Wed)",
          "date_end: 08 February (Thu)",
          "date_end: 09 February (Fri)",
          "date_end: 10 February (Sat)",
          "date_end: 11 February (Sun)",
          "date_end: 12 February (Mon)",
          "date_end: 13 February (Tue)",
          "date_end: 14 February (Wed)",
          "date_end: 15 February (Thu)",
          "date_end: 16 February (Fri)",
          "date_end: 17 February (Sat)",
          "date_end: 18 February (Sun)",
          "date_end: 19 February (Mon)",
          "date_end: 20 February (Tue)",
          "date_end: 21 February (Wed)",
          "date_end: 22 February (Thu)",
          "date_end: 23 February (Fri)",
          "date_end: 24 February (Sat)",
          "date_end: 25 February (Sun)",
          "date_end: 26 February (Mon)",
          "date_end: 27 February (Tue)",
          "date_end: 28 February (Wed)",
          "date_end: 29 February (Thu)",
          "date_end: 01 March (Fri)",
          "date_end: 02 March (Sat)",
          "date_end: 03 March (Sun)"
         ],
         "type": "scatter",
         "x": [
          "2023-11-05T00:00:00",
          "2023-11-06T00:00:00",
          "2023-11-07T00:00:00",
          "2023-11-09T00:00:00",
          "2023-11-10T00:00:00",
          "2023-11-11T00:00:00",
          "2023-11-12T00:00:00",
          "2023-11-13T00:00:00",
          "2023-11-14T00:00:00",
          "2023-11-15T00:00:00",
          "2023-11-19T00:00:00",
          "2023-11-20T00:00:00",
          "2023-11-21T00:00:00",
          "2023-11-22T00:00:00",
          "2023-11-23T00:00:00",
          "2023-11-24T00:00:00",
          "2023-11-25T00:00:00",
          "2023-11-26T00:00:00",
          "2023-11-27T00:00:00",
          "2023-11-28T00:00:00",
          "2023-11-29T00:00:00",
          "2023-11-30T00:00:00",
          "2023-12-01T00:00:00",
          "2023-12-02T00:00:00",
          "2023-12-03T00:00:00",
          "2023-12-04T00:00:00",
          "2023-12-05T00:00:00",
          "2023-12-06T00:00:00",
          "2023-12-07T00:00:00",
          "2023-12-08T00:00:00",
          "2023-12-09T00:00:00",
          "2023-12-10T00:00:00",
          "2023-12-11T00:00:00",
          "2023-12-12T00:00:00",
          "2023-12-13T00:00:00",
          "2023-12-14T00:00:00",
          "2023-12-15T00:00:00",
          "2023-12-16T00:00:00",
          "2023-12-17T00:00:00",
          "2023-12-18T00:00:00",
          "2023-12-19T00:00:00",
          "2023-12-20T00:00:00",
          "2023-12-21T00:00:00",
          "2023-12-22T00:00:00",
          "2023-12-23T00:00:00",
          "2023-12-24T00:00:00",
          "2023-12-25T00:00:00",
          "2023-12-26T00:00:00",
          "2023-12-27T00:00:00",
          "2023-12-28T00:00:00",
          "2023-12-29T00:00:00",
          "2023-12-31T00:00:00",
          "2024-01-01T00:00:00",
          "2024-01-14T00:00:00",
          "2024-01-15T00:00:00",
          "2024-01-16T00:00:00",
          "2024-01-17T00:00:00",
          "2024-01-18T00:00:00",
          "2024-01-19T00:00:00",
          "2024-01-20T00:00:00",
          "2024-01-21T00:00:00",
          "2024-01-22T00:00:00",
          "2024-01-23T00:00:00",
          "2024-01-24T00:00:00",
          "2024-01-25T00:00:00",
          "2024-01-26T00:00:00",
          "2024-01-27T00:00:00",
          "2024-01-28T00:00:00",
          "2024-01-29T00:00:00",
          "2024-01-30T00:00:00",
          "2024-01-31T00:00:00",
          "2024-02-01T00:00:00",
          "2024-02-02T00:00:00",
          "2024-02-03T00:00:00",
          "2024-02-04T00:00:00",
          "2024-02-05T00:00:00",
          "2024-02-06T00:00:00",
          "2024-02-07T00:00:00",
          "2024-02-08T00:00:00",
          "2024-02-09T00:00:00",
          "2024-02-10T00:00:00",
          "2024-02-11T00:00:00",
          "2024-02-12T00:00:00",
          "2024-02-13T00:00:00",
          "2024-02-14T00:00:00",
          "2024-02-15T00:00:00",
          "2024-02-16T00:00:00",
          "2024-02-17T00:00:00",
          "2024-02-18T00:00:00",
          "2024-02-19T00:00:00",
          "2024-02-20T00:00:00",
          "2024-02-21T00:00:00",
          "2024-02-22T00:00:00",
          "2024-02-23T00:00:00",
          "2024-02-24T00:00:00",
          "2024-02-25T00:00:00",
          "2024-02-26T00:00:00",
          "2024-02-27T00:00:00",
          "2024-02-28T00:00:00",
          "2024-02-29T00:00:00",
          "2024-03-01T00:00:00",
          "2024-03-02T00:00:00",
          "2024-03-03T00:00:00"
         ],
         "xaxis": "x",
         "y": [
          3,
          3,
          3,
          3,
          3,
          3,
          3,
          3,
          4,
          4,
          4,
          4,
          4,
          4,
          4,
          3,
          2,
          3,
          3,
          4,
          4,
          4,
          4,
          4,
          4,
          4,
          4,
          4,
          4,
          4,
          4,
          4,
          4,
          4,
          5,
          4,
          4,
          4,
          3,
          3,
          4,
          4,
          4,
          4,
          4,
          4,
          4,
          4,
          3,
          3,
          2,
          2,
          2,
          1,
          1,
          2,
          3,
          3,
          2,
          2,
          2,
          2,
          2,
          2,
          2,
          2,
          2,
          2,
          2,
          3,
          3,
          3,
          3,
          3,
          3,
          3,
          3,
          4,
          5,
          5,
          5,
          5,
          5,
          6,
          6,
          6,
          5,
          4,
          4,
          4,
          4,
          4,
          4,
          4,
          5,
          5,
          6,
          6,
          6,
          6,
          5,
          6,
          6
         ],
         "yaxis": "y"
        },
        {
         "mode": "lines+markers",
         "name": "Total Records",
         "text": [
          "date_end: 05 November (Sun)",
          "date_end: 06 November (Mon)",
          "date_end: 07 November (Tue)",
          "date_end: 09 November (Thu)",
          "date_end: 10 November (Fri)",
          "date_end: 11 November (Sat)",
          "date_end: 12 November (Sun)",
          "date_end: 13 November (Mon)",
          "date_end: 14 November (Tue)",
          "date_end: 15 November (Wed)",
          "date_end: 19 November (Sun)",
          "date_end: 20 November (Mon)",
          "date_end: 21 November (Tue)",
          "date_end: 22 November (Wed)",
          "date_end: 23 November (Thu)",
          "date_end: 24 November (Fri)",
          "date_end: 25 November (Sat)",
          "date_end: 26 November (Sun)",
          "date_end: 27 November (Mon)",
          "date_end: 28 November (Tue)",
          "date_end: 29 November (Wed)",
          "date_end: 30 November (Thu)",
          "date_end: 01 December (Fri)",
          "date_end: 02 December (Sat)",
          "date_end: 03 December (Sun)",
          "date_end: 04 December (Mon)",
          "date_end: 05 December (Tue)",
          "date_end: 06 December (Wed)",
          "date_end: 07 December (Thu)",
          "date_end: 08 December (Fri)",
          "date_end: 09 December (Sat)",
          "date_end: 10 December (Sun)",
          "date_end: 11 December (Mon)",
          "date_end: 12 December (Tue)",
          "date_end: 13 December (Wed)",
          "date_end: 14 December (Thu)",
          "date_end: 15 December (Fri)",
          "date_end: 16 December (Sat)",
          "date_end: 17 December (Sun)",
          "date_end: 18 December (Mon)",
          "date_end: 19 December (Tue)",
          "date_end: 20 December (Wed)",
          "date_end: 21 December (Thu)",
          "date_end: 22 December (Fri)",
          "date_end: 23 December (Sat)",
          "date_end: 24 December (Sun)",
          "date_end: 25 December (Mon)",
          "date_end: 26 December (Tue)",
          "date_end: 27 December (Wed)",
          "date_end: 28 December (Thu)",
          "date_end: 29 December (Fri)",
          "date_end: 31 December (Sun)",
          "date_end: 01 January (Mon)",
          "date_end: 14 January (Sun)",
          "date_end: 15 January (Mon)",
          "date_end: 16 January (Tue)",
          "date_end: 17 January (Wed)",
          "date_end: 18 January (Thu)",
          "date_end: 19 January (Fri)",
          "date_end: 20 January (Sat)",
          "date_end: 21 January (Sun)",
          "date_end: 22 January (Mon)",
          "date_end: 23 January (Tue)",
          "date_end: 24 January (Wed)",
          "date_end: 25 January (Thu)",
          "date_end: 26 January (Fri)",
          "date_end: 27 January (Sat)",
          "date_end: 28 January (Sun)",
          "date_end: 29 January (Mon)",
          "date_end: 30 January (Tue)",
          "date_end: 31 January (Wed)",
          "date_end: 01 February (Thu)",
          "date_end: 02 February (Fri)",
          "date_end: 03 February (Sat)",
          "date_end: 04 February (Sun)",
          "date_end: 05 February (Mon)",
          "date_end: 06 February (Tue)",
          "date_end: 07 February (Wed)",
          "date_end: 08 February (Thu)",
          "date_end: 09 February (Fri)",
          "date_end: 10 February (Sat)",
          "date_end: 11 February (Sun)",
          "date_end: 12 February (Mon)",
          "date_end: 13 February (Tue)",
          "date_end: 14 February (Wed)",
          "date_end: 15 February (Thu)",
          "date_end: 16 February (Fri)",
          "date_end: 17 February (Sat)",
          "date_end: 18 February (Sun)",
          "date_end: 19 February (Mon)",
          "date_end: 20 February (Tue)",
          "date_end: 21 February (Wed)",
          "date_end: 22 February (Thu)",
          "date_end: 23 February (Fri)",
          "date_end: 24 February (Sat)",
          "date_end: 25 February (Sun)",
          "date_end: 26 February (Mon)",
          "date_end: 27 February (Tue)",
          "date_end: 28 February (Wed)",
          "date_end: 29 February (Thu)",
          "date_end: 01 March (Fri)",
          "date_end: 02 March (Sat)",
          "date_end: 03 March (Sun)"
         ],
         "type": "scatter",
         "x": [
          "2023-11-05T00:00:00",
          "2023-11-06T00:00:00",
          "2023-11-07T00:00:00",
          "2023-11-09T00:00:00",
          "2023-11-10T00:00:00",
          "2023-11-11T00:00:00",
          "2023-11-12T00:00:00",
          "2023-11-13T00:00:00",
          "2023-11-14T00:00:00",
          "2023-11-15T00:00:00",
          "2023-11-19T00:00:00",
          "2023-11-20T00:00:00",
          "2023-11-21T00:00:00",
          "2023-11-22T00:00:00",
          "2023-11-23T00:00:00",
          "2023-11-24T00:00:00",
          "2023-11-25T00:00:00",
          "2023-11-26T00:00:00",
          "2023-11-27T00:00:00",
          "2023-11-28T00:00:00",
          "2023-11-29T00:00:00",
          "2023-11-30T00:00:00",
          "2023-12-01T00:00:00",
          "2023-12-02T00:00:00",
          "2023-12-03T00:00:00",
          "2023-12-04T00:00:00",
          "2023-12-05T00:00:00",
          "2023-12-06T00:00:00",
          "2023-12-07T00:00:00",
          "2023-12-08T00:00:00",
          "2023-12-09T00:00:00",
          "2023-12-10T00:00:00",
          "2023-12-11T00:00:00",
          "2023-12-12T00:00:00",
          "2023-12-13T00:00:00",
          "2023-12-14T00:00:00",
          "2023-12-15T00:00:00",
          "2023-12-16T00:00:00",
          "2023-12-17T00:00:00",
          "2023-12-18T00:00:00",
          "2023-12-19T00:00:00",
          "2023-12-20T00:00:00",
          "2023-12-21T00:00:00",
          "2023-12-22T00:00:00",
          "2023-12-23T00:00:00",
          "2023-12-24T00:00:00",
          "2023-12-25T00:00:00",
          "2023-12-26T00:00:00",
          "2023-12-27T00:00:00",
          "2023-12-28T00:00:00",
          "2023-12-29T00:00:00",
          "2023-12-31T00:00:00",
          "2024-01-01T00:00:00",
          "2024-01-14T00:00:00",
          "2024-01-15T00:00:00",
          "2024-01-16T00:00:00",
          "2024-01-17T00:00:00",
          "2024-01-18T00:00:00",
          "2024-01-19T00:00:00",
          "2024-01-20T00:00:00",
          "2024-01-21T00:00:00",
          "2024-01-22T00:00:00",
          "2024-01-23T00:00:00",
          "2024-01-24T00:00:00",
          "2024-01-25T00:00:00",
          "2024-01-26T00:00:00",
          "2024-01-27T00:00:00",
          "2024-01-28T00:00:00",
          "2024-01-29T00:00:00",
          "2024-01-30T00:00:00",
          "2024-01-31T00:00:00",
          "2024-02-01T00:00:00",
          "2024-02-02T00:00:00",
          "2024-02-03T00:00:00",
          "2024-02-04T00:00:00",
          "2024-02-05T00:00:00",
          "2024-02-06T00:00:00",
          "2024-02-07T00:00:00",
          "2024-02-08T00:00:00",
          "2024-02-09T00:00:00",
          "2024-02-10T00:00:00",
          "2024-02-11T00:00:00",
          "2024-02-12T00:00:00",
          "2024-02-13T00:00:00",
          "2024-02-14T00:00:00",
          "2024-02-15T00:00:00",
          "2024-02-16T00:00:00",
          "2024-02-17T00:00:00",
          "2024-02-18T00:00:00",
          "2024-02-19T00:00:00",
          "2024-02-20T00:00:00",
          "2024-02-21T00:00:00",
          "2024-02-22T00:00:00",
          "2024-02-23T00:00:00",
          "2024-02-24T00:00:00",
          "2024-02-25T00:00:00",
          "2024-02-26T00:00:00",
          "2024-02-27T00:00:00",
          "2024-02-28T00:00:00",
          "2024-02-29T00:00:00",
          "2024-03-01T00:00:00",
          "2024-03-02T00:00:00",
          "2024-03-03T00:00:00"
         ],
         "xaxis": "x",
         "y": [
          20,
          22,
          22,
          23,
          21,
          22,
          21,
          21,
          22,
          23,
          16,
          16,
          17,
          17,
          17,
          14,
          12,
          13,
          13,
          16,
          18,
          17,
          17,
          18,
          19,
          18,
          18,
          19,
          17,
          17,
          17,
          16,
          16,
          15,
          16,
          15,
          14,
          14,
          13,
          13,
          14,
          14,
          13,
          13,
          13,
          13,
          16,
          16,
          14,
          13,
          10,
          10,
          10,
          10,
          10,
          10,
          11,
          11,
          11,
          11,
          12,
          13,
          13,
          12,
          11,
          12,
          12,
          12,
          14,
          16,
          15,
          15,
          15,
          15,
          14,
          14,
          16,
          17,
          18,
          18,
          18,
          18,
          18,
          20,
          18,
          18,
          17,
          16,
          16,
          15,
          15,
          14,
          13,
          13,
          13,
          13,
          13,
          13,
          15,
          13,
          12,
          14,
          14
         ],
         "yaxis": "y"
        },
        {
         "name": "Percent sightings of total records",
         "opacity": 0.25,
         "type": "bar",
         "x": [
          "2023-11-05T00:00:00",
          "2023-11-06T00:00:00",
          "2023-11-07T00:00:00",
          "2023-11-09T00:00:00",
          "2023-11-10T00:00:00",
          "2023-11-11T00:00:00",
          "2023-11-12T00:00:00",
          "2023-11-13T00:00:00",
          "2023-11-14T00:00:00",
          "2023-11-15T00:00:00",
          "2023-11-19T00:00:00",
          "2023-11-20T00:00:00",
          "2023-11-21T00:00:00",
          "2023-11-22T00:00:00",
          "2023-11-23T00:00:00",
          "2023-11-24T00:00:00",
          "2023-11-25T00:00:00",
          "2023-11-26T00:00:00",
          "2023-11-27T00:00:00",
          "2023-11-28T00:00:00",
          "2023-11-29T00:00:00",
          "2023-11-30T00:00:00",
          "2023-12-01T00:00:00",
          "2023-12-02T00:00:00",
          "2023-12-03T00:00:00",
          "2023-12-04T00:00:00",
          "2023-12-05T00:00:00",
          "2023-12-06T00:00:00",
          "2023-12-07T00:00:00",
          "2023-12-08T00:00:00",
          "2023-12-09T00:00:00",
          "2023-12-10T00:00:00",
          "2023-12-11T00:00:00",
          "2023-12-12T00:00:00",
          "2023-12-13T00:00:00",
          "2023-12-14T00:00:00",
          "2023-12-15T00:00:00",
          "2023-12-16T00:00:00",
          "2023-12-17T00:00:00",
          "2023-12-18T00:00:00",
          "2023-12-19T00:00:00",
          "2023-12-20T00:00:00",
          "2023-12-21T00:00:00",
          "2023-12-22T00:00:00",
          "2023-12-23T00:00:00",
          "2023-12-24T00:00:00",
          "2023-12-25T00:00:00",
          "2023-12-26T00:00:00",
          "2023-12-27T00:00:00",
          "2023-12-28T00:00:00",
          "2023-12-29T00:00:00",
          "2023-12-31T00:00:00",
          "2024-01-01T00:00:00",
          "2024-01-14T00:00:00",
          "2024-01-15T00:00:00",
          "2024-01-16T00:00:00",
          "2024-01-17T00:00:00",
          "2024-01-18T00:00:00",
          "2024-01-19T00:00:00",
          "2024-01-20T00:00:00",
          "2024-01-21T00:00:00",
          "2024-01-22T00:00:00",
          "2024-01-23T00:00:00",
          "2024-01-24T00:00:00",
          "2024-01-25T00:00:00",
          "2024-01-26T00:00:00",
          "2024-01-27T00:00:00",
          "2024-01-28T00:00:00",
          "2024-01-29T00:00:00",
          "2024-01-30T00:00:00",
          "2024-01-31T00:00:00",
          "2024-02-01T00:00:00",
          "2024-02-02T00:00:00",
          "2024-02-03T00:00:00",
          "2024-02-04T00:00:00",
          "2024-02-05T00:00:00",
          "2024-02-06T00:00:00",
          "2024-02-07T00:00:00",
          "2024-02-08T00:00:00",
          "2024-02-09T00:00:00",
          "2024-02-10T00:00:00",
          "2024-02-11T00:00:00",
          "2024-02-12T00:00:00",
          "2024-02-13T00:00:00",
          "2024-02-14T00:00:00",
          "2024-02-15T00:00:00",
          "2024-02-16T00:00:00",
          "2024-02-17T00:00:00",
          "2024-02-18T00:00:00",
          "2024-02-19T00:00:00",
          "2024-02-20T00:00:00",
          "2024-02-21T00:00:00",
          "2024-02-22T00:00:00",
          "2024-02-23T00:00:00",
          "2024-02-24T00:00:00",
          "2024-02-25T00:00:00",
          "2024-02-26T00:00:00",
          "2024-02-27T00:00:00",
          "2024-02-28T00:00:00",
          "2024-02-29T00:00:00",
          "2024-03-01T00:00:00",
          "2024-03-02T00:00:00",
          "2024-03-03T00:00:00"
         ],
         "xaxis": "x",
         "y": [
          0.15,
          0.13636363636363635,
          0.13636363636363635,
          0.13043478260869565,
          0.14285714285714285,
          0.13636363636363635,
          0.14285714285714285,
          0.14285714285714285,
          0.18181818181818182,
          0.17391304347826086,
          0.25,
          0.25,
          0.23529411764705882,
          0.23529411764705882,
          0.23529411764705882,
          0.21428571428571427,
          0.16666666666666666,
          0.23076923076923078,
          0.23076923076923078,
          0.25,
          0.2222222222222222,
          0.23529411764705882,
          0.23529411764705882,
          0.2222222222222222,
          0.21052631578947367,
          0.2222222222222222,
          0.2222222222222222,
          0.21052631578947367,
          0.23529411764705882,
          0.23529411764705882,
          0.23529411764705882,
          0.25,
          0.25,
          0.26666666666666666,
          0.3125,
          0.26666666666666666,
          0.2857142857142857,
          0.2857142857142857,
          0.23076923076923078,
          0.23076923076923078,
          0.2857142857142857,
          0.2857142857142857,
          0.3076923076923077,
          0.3076923076923077,
          0.3076923076923077,
          0.3076923076923077,
          0.25,
          0.25,
          0.21428571428571427,
          0.23076923076923078,
          0.2,
          0.2,
          0.2,
          0.1,
          0.1,
          0.2,
          0.2727272727272727,
          0.2727272727272727,
          0.18181818181818182,
          0.18181818181818182,
          0.16666666666666666,
          0.15384615384615385,
          0.15384615384615385,
          0.16666666666666666,
          0.18181818181818182,
          0.16666666666666666,
          0.16666666666666666,
          0.16666666666666666,
          0.14285714285714285,
          0.1875,
          0.2,
          0.2,
          0.2,
          0.2,
          0.21428571428571427,
          0.21428571428571427,
          0.1875,
          0.23529411764705882,
          0.2777777777777778,
          0.2777777777777778,
          0.2777777777777778,
          0.2777777777777778,
          0.2777777777777778,
          0.3,
          0.3333333333333333,
          0.3333333333333333,
          0.29411764705882354,
          0.25,
          0.25,
          0.26666666666666666,
          0.26666666666666666,
          0.2857142857142857,
          0.3076923076923077,
          0.3076923076923077,
          0.38461538461538464,
          0.38461538461538464,
          0.46153846153846156,
          0.46153846153846156,
          0.4,
          0.46153846153846156,
          0.4166666666666667,
          0.42857142857142855,
          0.42857142857142855
         ],
         "yaxis": "y2"
        }
       ],
       "layout": {
        "template": {
         "data": {
          "bar": [
           {
            "error_x": {
             "color": "#2a3f5f"
            },
            "error_y": {
             "color": "#2a3f5f"
            },
            "marker": {
             "line": {
              "color": "#E5ECF6",
              "width": 0.5
             },
             "pattern": {
              "fillmode": "overlay",
              "size": 10,
              "solidity": 0.2
             }
            },
            "type": "bar"
           }
          ],
          "barpolar": [
           {
            "marker": {
             "line": {
              "color": "#E5ECF6",
              "width": 0.5
             },
             "pattern": {
              "fillmode": "overlay",
              "size": 10,
              "solidity": 0.2
             }
            },
            "type": "barpolar"
           }
          ],
          "carpet": [
           {
            "aaxis": {
             "endlinecolor": "#2a3f5f",
             "gridcolor": "white",
             "linecolor": "white",
             "minorgridcolor": "white",
             "startlinecolor": "#2a3f5f"
            },
            "baxis": {
             "endlinecolor": "#2a3f5f",
             "gridcolor": "white",
             "linecolor": "white",
             "minorgridcolor": "white",
             "startlinecolor": "#2a3f5f"
            },
            "type": "carpet"
           }
          ],
          "choropleth": [
           {
            "colorbar": {
             "outlinewidth": 0,
             "ticks": ""
            },
            "type": "choropleth"
           }
          ],
          "contour": [
           {
            "colorbar": {
             "outlinewidth": 0,
             "ticks": ""
            },
            "colorscale": [
             [
              0,
              "#0d0887"
             ],
             [
              0.1111111111111111,
              "#46039f"
             ],
             [
              0.2222222222222222,
              "#7201a8"
             ],
             [
              0.3333333333333333,
              "#9c179e"
             ],
             [
              0.4444444444444444,
              "#bd3786"
             ],
             [
              0.5555555555555556,
              "#d8576b"
             ],
             [
              0.6666666666666666,
              "#ed7953"
             ],
             [
              0.7777777777777778,
              "#fb9f3a"
             ],
             [
              0.8888888888888888,
              "#fdca26"
             ],
             [
              1,
              "#f0f921"
             ]
            ],
            "type": "contour"
           }
          ],
          "contourcarpet": [
           {
            "colorbar": {
             "outlinewidth": 0,
             "ticks": ""
            },
            "type": "contourcarpet"
           }
          ],
          "heatmap": [
           {
            "colorbar": {
             "outlinewidth": 0,
             "ticks": ""
            },
            "colorscale": [
             [
              0,
              "#0d0887"
             ],
             [
              0.1111111111111111,
              "#46039f"
             ],
             [
              0.2222222222222222,
              "#7201a8"
             ],
             [
              0.3333333333333333,
              "#9c179e"
             ],
             [
              0.4444444444444444,
              "#bd3786"
             ],
             [
              0.5555555555555556,
              "#d8576b"
             ],
             [
              0.6666666666666666,
              "#ed7953"
             ],
             [
              0.7777777777777778,
              "#fb9f3a"
             ],
             [
              0.8888888888888888,
              "#fdca26"
             ],
             [
              1,
              "#f0f921"
             ]
            ],
            "type": "heatmap"
           }
          ],
          "heatmapgl": [
           {
            "colorbar": {
             "outlinewidth": 0,
             "ticks": ""
            },
            "colorscale": [
             [
              0,
              "#0d0887"
             ],
             [
              0.1111111111111111,
              "#46039f"
             ],
             [
              0.2222222222222222,
              "#7201a8"
             ],
             [
              0.3333333333333333,
              "#9c179e"
             ],
             [
              0.4444444444444444,
              "#bd3786"
             ],
             [
              0.5555555555555556,
              "#d8576b"
             ],
             [
              0.6666666666666666,
              "#ed7953"
             ],
             [
              0.7777777777777778,
              "#fb9f3a"
             ],
             [
              0.8888888888888888,
              "#fdca26"
             ],
             [
              1,
              "#f0f921"
             ]
            ],
            "type": "heatmapgl"
           }
          ],
          "histogram": [
           {
            "marker": {
             "pattern": {
              "fillmode": "overlay",
              "size": 10,
              "solidity": 0.2
             }
            },
            "type": "histogram"
           }
          ],
          "histogram2d": [
           {
            "colorbar": {
             "outlinewidth": 0,
             "ticks": ""
            },
            "colorscale": [
             [
              0,
              "#0d0887"
             ],
             [
              0.1111111111111111,
              "#46039f"
             ],
             [
              0.2222222222222222,
              "#7201a8"
             ],
             [
              0.3333333333333333,
              "#9c179e"
             ],
             [
              0.4444444444444444,
              "#bd3786"
             ],
             [
              0.5555555555555556,
              "#d8576b"
             ],
             [
              0.6666666666666666,
              "#ed7953"
             ],
             [
              0.7777777777777778,
              "#fb9f3a"
             ],
             [
              0.8888888888888888,
              "#fdca26"
             ],
             [
              1,
              "#f0f921"
             ]
            ],
            "type": "histogram2d"
           }
          ],
          "histogram2dcontour": [
           {
            "colorbar": {
             "outlinewidth": 0,
             "ticks": ""
            },
            "colorscale": [
             [
              0,
              "#0d0887"
             ],
             [
              0.1111111111111111,
              "#46039f"
             ],
             [
              0.2222222222222222,
              "#7201a8"
             ],
             [
              0.3333333333333333,
              "#9c179e"
             ],
             [
              0.4444444444444444,
              "#bd3786"
             ],
             [
              0.5555555555555556,
              "#d8576b"
             ],
             [
              0.6666666666666666,
              "#ed7953"
             ],
             [
              0.7777777777777778,
              "#fb9f3a"
             ],
             [
              0.8888888888888888,
              "#fdca26"
             ],
             [
              1,
              "#f0f921"
             ]
            ],
            "type": "histogram2dcontour"
           }
          ],
          "mesh3d": [
           {
            "colorbar": {
             "outlinewidth": 0,
             "ticks": ""
            },
            "type": "mesh3d"
           }
          ],
          "parcoords": [
           {
            "line": {
             "colorbar": {
              "outlinewidth": 0,
              "ticks": ""
             }
            },
            "type": "parcoords"
           }
          ],
          "pie": [
           {
            "automargin": true,
            "type": "pie"
           }
          ],
          "scatter": [
           {
            "fillpattern": {
             "fillmode": "overlay",
             "size": 10,
             "solidity": 0.2
            },
            "type": "scatter"
           }
          ],
          "scatter3d": [
           {
            "line": {
             "colorbar": {
              "outlinewidth": 0,
              "ticks": ""
             }
            },
            "marker": {
             "colorbar": {
              "outlinewidth": 0,
              "ticks": ""
             }
            },
            "type": "scatter3d"
           }
          ],
          "scattercarpet": [
           {
            "marker": {
             "colorbar": {
              "outlinewidth": 0,
              "ticks": ""
             }
            },
            "type": "scattercarpet"
           }
          ],
          "scattergeo": [
           {
            "marker": {
             "colorbar": {
              "outlinewidth": 0,
              "ticks": ""
             }
            },
            "type": "scattergeo"
           }
          ],
          "scattergl": [
           {
            "marker": {
             "colorbar": {
              "outlinewidth": 0,
              "ticks": ""
             }
            },
            "type": "scattergl"
           }
          ],
          "scattermapbox": [
           {
            "marker": {
             "colorbar": {
              "outlinewidth": 0,
              "ticks": ""
             }
            },
            "type": "scattermapbox"
           }
          ],
          "scatterpolar": [
           {
            "marker": {
             "colorbar": {
              "outlinewidth": 0,
              "ticks": ""
             }
            },
            "type": "scatterpolar"
           }
          ],
          "scatterpolargl": [
           {
            "marker": {
             "colorbar": {
              "outlinewidth": 0,
              "ticks": ""
             }
            },
            "type": "scatterpolargl"
           }
          ],
          "scatterternary": [
           {
            "marker": {
             "colorbar": {
              "outlinewidth": 0,
              "ticks": ""
             }
            },
            "type": "scatterternary"
           }
          ],
          "surface": [
           {
            "colorbar": {
             "outlinewidth": 0,
             "ticks": ""
            },
            "colorscale": [
             [
              0,
              "#0d0887"
             ],
             [
              0.1111111111111111,
              "#46039f"
             ],
             [
              0.2222222222222222,
              "#7201a8"
             ],
             [
              0.3333333333333333,
              "#9c179e"
             ],
             [
              0.4444444444444444,
              "#bd3786"
             ],
             [
              0.5555555555555556,
              "#d8576b"
             ],
             [
              0.6666666666666666,
              "#ed7953"
             ],
             [
              0.7777777777777778,
              "#fb9f3a"
             ],
             [
              0.8888888888888888,
              "#fdca26"
             ],
             [
              1,
              "#f0f921"
             ]
            ],
            "type": "surface"
           }
          ],
          "table": [
           {
            "cells": {
             "fill": {
              "color": "#EBF0F8"
             },
             "line": {
              "color": "white"
             }
            },
            "header": {
             "fill": {
              "color": "#C8D4E3"
             },
             "line": {
              "color": "white"
             }
            },
            "type": "table"
           }
          ]
         },
         "layout": {
          "annotationdefaults": {
           "arrowcolor": "#2a3f5f",
           "arrowhead": 0,
           "arrowwidth": 1
          },
          "autotypenumbers": "strict",
          "coloraxis": {
           "colorbar": {
            "outlinewidth": 0,
            "ticks": ""
           }
          },
          "colorscale": {
           "diverging": [
            [
             0,
             "#8e0152"
            ],
            [
             0.1,
             "#c51b7d"
            ],
            [
             0.2,
             "#de77ae"
            ],
            [
             0.3,
             "#f1b6da"
            ],
            [
             0.4,
             "#fde0ef"
            ],
            [
             0.5,
             "#f7f7f7"
            ],
            [
             0.6,
             "#e6f5d0"
            ],
            [
             0.7,
             "#b8e186"
            ],
            [
             0.8,
             "#7fbc41"
            ],
            [
             0.9,
             "#4d9221"
            ],
            [
             1,
             "#276419"
            ]
           ],
           "sequential": [
            [
             0,
             "#0d0887"
            ],
            [
             0.1111111111111111,
             "#46039f"
            ],
            [
             0.2222222222222222,
             "#7201a8"
            ],
            [
             0.3333333333333333,
             "#9c179e"
            ],
            [
             0.4444444444444444,
             "#bd3786"
            ],
            [
             0.5555555555555556,
             "#d8576b"
            ],
            [
             0.6666666666666666,
             "#ed7953"
            ],
            [
             0.7777777777777778,
             "#fb9f3a"
            ],
            [
             0.8888888888888888,
             "#fdca26"
            ],
            [
             1,
             "#f0f921"
            ]
           ],
           "sequentialminus": [
            [
             0,
             "#0d0887"
            ],
            [
             0.1111111111111111,
             "#46039f"
            ],
            [
             0.2222222222222222,
             "#7201a8"
            ],
            [
             0.3333333333333333,
             "#9c179e"
            ],
            [
             0.4444444444444444,
             "#bd3786"
            ],
            [
             0.5555555555555556,
             "#d8576b"
            ],
            [
             0.6666666666666666,
             "#ed7953"
            ],
            [
             0.7777777777777778,
             "#fb9f3a"
            ],
            [
             0.8888888888888888,
             "#fdca26"
            ],
            [
             1,
             "#f0f921"
            ]
           ]
          },
          "colorway": [
           "#636efa",
           "#EF553B",
           "#00cc96",
           "#ab63fa",
           "#FFA15A",
           "#19d3f3",
           "#FF6692",
           "#B6E880",
           "#FF97FF",
           "#FECB52"
          ],
          "font": {
           "color": "#2a3f5f"
          },
          "geo": {
           "bgcolor": "white",
           "lakecolor": "white",
           "landcolor": "#E5ECF6",
           "showlakes": true,
           "showland": true,
           "subunitcolor": "white"
          },
          "hoverlabel": {
           "align": "left"
          },
          "hovermode": "closest",
          "mapbox": {
           "style": "light"
          },
          "paper_bgcolor": "white",
          "plot_bgcolor": "#E5ECF6",
          "polar": {
           "angularaxis": {
            "gridcolor": "white",
            "linecolor": "white",
            "ticks": ""
           },
           "bgcolor": "#E5ECF6",
           "radialaxis": {
            "gridcolor": "white",
            "linecolor": "white",
            "ticks": ""
           }
          },
          "scene": {
           "xaxis": {
            "backgroundcolor": "#E5ECF6",
            "gridcolor": "white",
            "gridwidth": 2,
            "linecolor": "white",
            "showbackground": true,
            "ticks": "",
            "zerolinecolor": "white"
           },
           "yaxis": {
            "backgroundcolor": "#E5ECF6",
            "gridcolor": "white",
            "gridwidth": 2,
            "linecolor": "white",
            "showbackground": true,
            "ticks": "",
            "zerolinecolor": "white"
           },
           "zaxis": {
            "backgroundcolor": "#E5ECF6",
            "gridcolor": "white",
            "gridwidth": 2,
            "linecolor": "white",
            "showbackground": true,
            "ticks": "",
            "zerolinecolor": "white"
           }
          },
          "shapedefaults": {
           "line": {
            "color": "#2a3f5f"
           }
          },
          "ternary": {
           "aaxis": {
            "gridcolor": "white",
            "linecolor": "white",
            "ticks": ""
           },
           "baxis": {
            "gridcolor": "white",
            "linecolor": "white",
            "ticks": ""
           },
           "bgcolor": "#E5ECF6",
           "caxis": {
            "gridcolor": "white",
            "linecolor": "white",
            "ticks": ""
           }
          },
          "title": {
           "x": 0.05
          },
          "xaxis": {
           "automargin": true,
           "gridcolor": "white",
           "linecolor": "white",
           "ticks": "",
           "title": {
            "standoff": 15
           },
           "zerolinecolor": "white",
           "zerolinewidth": 2
          },
          "yaxis": {
           "automargin": true,
           "gridcolor": "white",
           "linecolor": "white",
           "ticks": "",
           "title": {
            "standoff": 15
           },
           "zerolinecolor": "white",
           "zerolinewidth": 2
          }
         }
        },
        "title": {
         "text": "30 Day Trail of Rat Sightings - 231 St"
        },
        "xaxis": {
         "anchor": "y",
         "domain": [
          0,
          0.94
         ]
        },
        "yaxis": {
         "anchor": "x",
         "domain": [
          0,
          1
         ],
         "side": "left",
         "title": {
          "text": "Count"
         }
        },
        "yaxis2": {
         "anchor": "x",
         "overlaying": "y",
         "range": [
          0,
          1
         ],
         "side": "right",
         "tickmode": "sync",
         "title": {
          "text": "%"
         }
        }
       }
      }
     },
     "metadata": {},
     "output_type": "display_data"
    }
   ],
   "source": [
    "def plot_per_day_delta(station_name, station_id=None):\n",
    "    if not station_id:\n",
    "        station_id = stations_df[stations_df[\"station_name\"] == station_name][\n",
    "            \"station_id\"\n",
    "        ].values\n",
    "        if len(station_id) > 1:\n",
    "            print(\n",
    "                \"Station name conflict, this station requires a specific ID due to duplicate names\"\n",
    "            )\n",
    "            return\n",
    "\n",
    "    station_data = sightings_df[sightings_df[\"station_id\"] == station_id[0]]\n",
    "    station_data[\"total_sightings\"] = (\n",
    "        station_data[\"so_many\"] + station_data[\"one_or_two\"]\n",
    "    )\n",
    "    station_data[\"total_records\"] = (\n",
    "        station_data[\"so_many\"] + station_data[\"one_or_two\"] + station_data[\"none\"]\n",
    "    )\n",
    "    station_data[\"perc_sightings\"] = (\n",
    "        station_data[\"total_sightings\"] / station_data[\"total_records\"]\n",
    "    )\n",
    "    station_data = station_data.drop(\n",
    "        columns=[\"station_id\", \"so_many\", \"one_or_two\", \"none\"]\n",
    "    )\n",
    "\n",
    "    station_data[\"date_delta\"] = station_data[\"date_end\"] - station_data[\"date_end\"].shift(1)\n",
    "    station_data[\"sightings_delta\"] = station_data[\"total_sightings\"] - station_data[\"total_sightings\"].shift(1)\n",
    "    # station_data[\"date_delta\"] = pd.to_numeric(station_data[\"date_delta\"].dt.days, downcast=\"integer\")\n",
    "    station_data[\"date_delta\"] = station_data[\"date_delta\"].dt.days\n",
    "\n",
    "    # melted_data = station_data.melt(\n",
    "    #     [\"station_id\", \"date_start\", \"date_end\"],\n",
    "    #     var_name=\"sighting_type\",\n",
    "    #     value_vars=[\"so_many\", \"one_or_two\", \"none\"],\n",
    "    # )\n",
    "\n",
    "    # print(melted_data)\n",
    "\n",
    "    print(station_data)\n",
    "\n",
    "    fig = make_subplots(specs=[[{\"secondary_y\": True}]])\n",
    "\n",
    "    fig.add_trace(\n",
    "        go.Scatter(\n",
    "            x=station_data[\"date_end\"],\n",
    "            y=station_data[\"total_sightings\"],\n",
    "            name=\"Total Sightings\",\n",
    "            mode=\"lines+markers\",\n",
    "            text=[\n",
    "                f\"date_end: {date.strftime('%d %B (%a)')}\"\n",
    "                for date in station_data[\"date_end\"]\n",
    "            ],\n",
    "        ),\n",
    "        secondary_y=False,\n",
    "    )\n",
    "\n",
    "    fig.add_trace(\n",
    "        go.Scatter(\n",
    "            x=station_data[\"date_end\"],\n",
    "            y=station_data[\"total_records\"],\n",
    "            name=\"Total Records\",\n",
    "            mode=\"lines+markers\",\n",
    "            text=[\n",
    "                f\"date_end: {date.strftime('%d %B (%a)')}\"\n",
    "                for date in station_data[\"date_end\"]\n",
    "            ],\n",
    "        ),\n",
    "        secondary_y=False,\n",
    "    )\n",
    "\n",
    "    fig.add_trace(\n",
    "        go.Bar(\n",
    "            x=station_data[\"date_end\"],\n",
    "            y=station_data[\"perc_sightings\"],\n",
    "            name=\"Percent sightings of total records\",\n",
    "            opacity=0.25,\n",
    "        ),\n",
    "        secondary_y=True,\n",
    "    )\n",
    "\n",
    "    # fig.add_trace(\n",
    "    #     go.Scatter(\n",
    "    #         x=station_data[\"date_end\"],\n",
    "    #         y=station_data[\"date_delta\"]\n",
    "    #     )\n",
    "    # )\n",
    "\n",
    "    # fig.add_trace(\n",
    "    #     go.Scatter(\n",
    "    #         x=station_data[\"date_end\"],\n",
    "    #         y=station_data[\"sightings_delta\"]\n",
    "    #     )\n",
    "    # )\n",
    "\n",
    "    # fig.update_xaxes(title_text=\"Date End\")\n",
    "    # fig.update_yaxes(title_text=\"Count\")\n",
    "\n",
    "    fig.update_layout(\n",
    "        title_text=f\"30 Day Trail of Rat Sightings - {station_name}\",\n",
    "        yaxis=dict(\n",
    "            title=dict(text=\"Count\"),\n",
    "            side=\"left\",\n",
    "        ),\n",
    "        yaxis2=dict(\n",
    "            title=dict(text=\"%\"),\n",
    "            side=\"right\",\n",
    "            range=[0, 1],\n",
    "            overlaying=\"y\",\n",
    "            tickmode=\"sync\",\n",
    "        ),\n",
    "    )\n",
    "\n",
    "    return fig\n",
    "\n",
    "\n",
    "plot_per_day_delta(\"231 St\")\n"
   ]
  },
  {
   "cell_type": "code",
   "execution_count": 26,
   "id": "c07b7ac0-0c9f-447d-994e-3ebb6aee969c",
   "metadata": {},
   "outputs": [
    {
     "data": {
      "application/vnd.plotly.v1+json": {
       "config": {
        "plotlyServerURL": "https://plot.ly"
       },
       "data": [
        {
         "hovertemplate": "sighting_type=so_many<br>date_end=%{x}<br>value=%{y}<extra></extra>",
         "legendgroup": "so_many",
         "line": {
          "color": "#636efa",
          "dash": "solid"
         },
         "marker": {
          "symbol": "circle"
         },
         "mode": "lines+markers",
         "name": "so_many",
         "orientation": "v",
         "showlegend": true,
         "type": "scatter",
         "x": [
          "2023-11-05T00:00:00",
          "2023-11-06T00:00:00",
          "2023-11-07T00:00:00",
          "2023-11-09T00:00:00",
          "2023-11-10T00:00:00",
          "2023-11-11T00:00:00",
          "2023-11-12T00:00:00",
          "2023-11-13T00:00:00",
          "2023-11-14T00:00:00",
          "2023-11-15T00:00:00",
          "2023-11-19T00:00:00",
          "2023-11-20T00:00:00",
          "2023-11-21T00:00:00",
          "2023-11-22T00:00:00",
          "2023-11-23T00:00:00",
          "2023-11-24T00:00:00",
          "2023-11-25T00:00:00",
          "2023-11-26T00:00:00",
          "2023-11-27T00:00:00",
          "2023-11-28T00:00:00",
          "2023-11-29T00:00:00",
          "2023-11-30T00:00:00",
          "2023-12-01T00:00:00",
          "2023-12-02T00:00:00",
          "2023-12-03T00:00:00",
          "2023-12-04T00:00:00",
          "2023-12-05T00:00:00",
          "2023-12-06T00:00:00",
          "2023-12-07T00:00:00",
          "2023-12-08T00:00:00",
          "2023-12-09T00:00:00",
          "2023-12-10T00:00:00",
          "2023-12-11T00:00:00",
          "2023-12-12T00:00:00",
          "2023-12-13T00:00:00",
          "2023-12-14T00:00:00",
          "2023-12-15T00:00:00",
          "2023-12-16T00:00:00",
          "2023-12-17T00:00:00",
          "2023-12-18T00:00:00",
          "2023-12-19T00:00:00",
          "2023-12-20T00:00:00",
          "2023-12-21T00:00:00",
          "2023-12-22T00:00:00",
          "2023-12-23T00:00:00",
          "2023-12-24T00:00:00",
          "2023-12-25T00:00:00",
          "2023-12-26T00:00:00",
          "2023-12-27T00:00:00",
          "2023-12-28T00:00:00",
          "2023-12-29T00:00:00",
          "2023-12-30T00:00:00",
          "2023-12-31T00:00:00",
          "2024-01-01T00:00:00",
          "2024-01-02T00:00:00",
          "2024-01-03T00:00:00",
          "2024-01-04T00:00:00",
          "2024-01-05T00:00:00",
          "2024-01-06T00:00:00",
          "2024-01-07T00:00:00",
          "2024-01-08T00:00:00",
          "2024-01-09T00:00:00",
          "2024-01-10T00:00:00",
          "2024-01-11T00:00:00",
          "2024-01-12T00:00:00",
          "2024-01-13T00:00:00",
          "2024-01-14T00:00:00",
          "2024-01-15T00:00:00",
          "2024-01-16T00:00:00",
          "2024-01-17T00:00:00",
          "2024-01-18T00:00:00",
          "2024-01-19T00:00:00",
          "2024-01-20T00:00:00",
          "2024-01-21T00:00:00",
          "2024-01-22T00:00:00",
          "2024-01-23T00:00:00",
          "2024-01-24T00:00:00",
          "2024-01-25T00:00:00",
          "2024-01-26T00:00:00",
          "2024-01-27T00:00:00",
          "2024-01-28T00:00:00",
          "2024-01-29T00:00:00",
          "2024-01-30T00:00:00",
          "2024-01-31T00:00:00",
          "2024-02-01T00:00:00",
          "2024-02-02T00:00:00",
          "2024-02-03T00:00:00",
          "2024-02-04T00:00:00",
          "2024-02-05T00:00:00",
          "2024-02-06T00:00:00",
          "2024-02-07T00:00:00",
          "2024-02-08T00:00:00",
          "2024-02-09T00:00:00",
          "2024-02-10T00:00:00",
          "2024-02-11T00:00:00",
          "2024-02-12T00:00:00",
          "2024-02-13T00:00:00",
          "2024-02-14T00:00:00",
          "2024-02-15T00:00:00",
          "2024-02-16T00:00:00",
          "2024-02-17T00:00:00",
          "2024-02-18T00:00:00",
          "2024-02-19T00:00:00",
          "2024-02-20T00:00:00",
          "2024-02-21T00:00:00",
          "2024-02-22T00:00:00",
          "2024-02-23T00:00:00",
          "2024-02-24T00:00:00",
          "2024-02-25T00:00:00",
          "2024-02-26T00:00:00",
          "2024-02-27T00:00:00",
          "2024-02-28T00:00:00",
          "2024-02-29T00:00:00",
          "2024-03-01T00:00:00",
          "2024-03-02T00:00:00",
          "2024-03-03T00:00:00"
         ],
         "xaxis": "x",
         "y": [
          2805,
          2781,
          2801,
          2827,
          2809,
          2785,
          2731,
          2731,
          2715,
          2734,
          2688,
          2688,
          1701,
          2688,
          2703,
          2622,
          2589,
          2553,
          2533,
          2518,
          2494,
          2493,
          2475,
          2450,
          2419,
          2414,
          2418,
          2456,
          2430,
          2410,
          2406,
          2391,
          2398,
          2398,
          2419,
          2424,
          2409,
          2409,
          2371,
          2383,
          2370,
          2367,
          2383,
          2391,
          2364,
          2364,
          2366,
          2393,
          2426,
          2415,
          2405,
          2416,
          2390,
          2376,
          2402,
          2430,
          2416,
          2400,
          2400,
          2352,
          2369,
          2376,
          2388,
          2347,
          2330,
          2319,
          2287,
          2287,
          2238,
          2237,
          2223,
          2233,
          2233,
          2158,
          2150,
          2183,
          2185,
          2236,
          2241,
          2229,
          2220,
          2226,
          2235,
          2240,
          2257,
          2257,
          2265,
          2256,
          2256,
          2310,
          2361,
          2375,
          2385,
          2395,
          2395,
          2406,
          2408,
          2429,
          2455,
          2475,
          2486,
          2469,
          2451,
          2451,
          2503,
          2491,
          2471,
          2477,
          2451,
          2453,
          2453,
          2468,
          2479,
          2488,
          2491,
          2456
         ],
         "yaxis": "y"
        },
        {
         "hovertemplate": "sighting_type=one_or_two<br>date_end=%{x}<br>value=%{y}<extra></extra>",
         "legendgroup": "one_or_two",
         "line": {
          "color": "#EF553B",
          "dash": "solid"
         },
         "marker": {
          "symbol": "circle"
         },
         "mode": "lines+markers",
         "name": "one_or_two",
         "orientation": "v",
         "showlegend": true,
         "type": "scatter",
         "x": [
          "2023-11-05T00:00:00",
          "2023-11-06T00:00:00",
          "2023-11-07T00:00:00",
          "2023-11-09T00:00:00",
          "2023-11-10T00:00:00",
          "2023-11-11T00:00:00",
          "2023-11-12T00:00:00",
          "2023-11-13T00:00:00",
          "2023-11-14T00:00:00",
          "2023-11-15T00:00:00",
          "2023-11-19T00:00:00",
          "2023-11-20T00:00:00",
          "2023-11-21T00:00:00",
          "2023-11-22T00:00:00",
          "2023-11-23T00:00:00",
          "2023-11-24T00:00:00",
          "2023-11-25T00:00:00",
          "2023-11-26T00:00:00",
          "2023-11-27T00:00:00",
          "2023-11-28T00:00:00",
          "2023-11-29T00:00:00",
          "2023-11-30T00:00:00",
          "2023-12-01T00:00:00",
          "2023-12-02T00:00:00",
          "2023-12-03T00:00:00",
          "2023-12-04T00:00:00",
          "2023-12-05T00:00:00",
          "2023-12-06T00:00:00",
          "2023-12-07T00:00:00",
          "2023-12-08T00:00:00",
          "2023-12-09T00:00:00",
          "2023-12-10T00:00:00",
          "2023-12-11T00:00:00",
          "2023-12-12T00:00:00",
          "2023-12-13T00:00:00",
          "2023-12-14T00:00:00",
          "2023-12-15T00:00:00",
          "2023-12-16T00:00:00",
          "2023-12-17T00:00:00",
          "2023-12-18T00:00:00",
          "2023-12-19T00:00:00",
          "2023-12-20T00:00:00",
          "2023-12-21T00:00:00",
          "2023-12-22T00:00:00",
          "2023-12-23T00:00:00",
          "2023-12-24T00:00:00",
          "2023-12-25T00:00:00",
          "2023-12-26T00:00:00",
          "2023-12-27T00:00:00",
          "2023-12-28T00:00:00",
          "2023-12-29T00:00:00",
          "2023-12-30T00:00:00",
          "2023-12-31T00:00:00",
          "2024-01-01T00:00:00",
          "2024-01-02T00:00:00",
          "2024-01-03T00:00:00",
          "2024-01-04T00:00:00",
          "2024-01-05T00:00:00",
          "2024-01-06T00:00:00",
          "2024-01-07T00:00:00",
          "2024-01-08T00:00:00",
          "2024-01-09T00:00:00",
          "2024-01-10T00:00:00",
          "2024-01-11T00:00:00",
          "2024-01-12T00:00:00",
          "2024-01-13T00:00:00",
          "2024-01-14T00:00:00",
          "2024-01-15T00:00:00",
          "2024-01-16T00:00:00",
          "2024-01-17T00:00:00",
          "2024-01-18T00:00:00",
          "2024-01-19T00:00:00",
          "2024-01-20T00:00:00",
          "2024-01-21T00:00:00",
          "2024-01-22T00:00:00",
          "2024-01-23T00:00:00",
          "2024-01-24T00:00:00",
          "2024-01-25T00:00:00",
          "2024-01-26T00:00:00",
          "2024-01-27T00:00:00",
          "2024-01-28T00:00:00",
          "2024-01-29T00:00:00",
          "2024-01-30T00:00:00",
          "2024-01-31T00:00:00",
          "2024-02-01T00:00:00",
          "2024-02-02T00:00:00",
          "2024-02-03T00:00:00",
          "2024-02-04T00:00:00",
          "2024-02-05T00:00:00",
          "2024-02-06T00:00:00",
          "2024-02-07T00:00:00",
          "2024-02-08T00:00:00",
          "2024-02-09T00:00:00",
          "2024-02-10T00:00:00",
          "2024-02-11T00:00:00",
          "2024-02-12T00:00:00",
          "2024-02-13T00:00:00",
          "2024-02-14T00:00:00",
          "2024-02-15T00:00:00",
          "2024-02-16T00:00:00",
          "2024-02-17T00:00:00",
          "2024-02-18T00:00:00",
          "2024-02-19T00:00:00",
          "2024-02-20T00:00:00",
          "2024-02-21T00:00:00",
          "2024-02-22T00:00:00",
          "2024-02-23T00:00:00",
          "2024-02-24T00:00:00",
          "2024-02-25T00:00:00",
          "2024-02-26T00:00:00",
          "2024-02-27T00:00:00",
          "2024-02-28T00:00:00",
          "2024-02-29T00:00:00",
          "2024-03-01T00:00:00",
          "2024-03-02T00:00:00",
          "2024-03-03T00:00:00"
         ],
         "xaxis": "x",
         "y": [
          4198,
          4228,
          4253,
          4303,
          4294,
          4254,
          4195,
          4195,
          4187,
          4217,
          4104,
          4104,
          2506,
          4072,
          4096,
          3947,
          3888,
          3847,
          3826,
          3813,
          3837,
          3807,
          3767,
          3727,
          3644,
          3635,
          3642,
          3666,
          3643,
          3654,
          3659,
          3631,
          3647,
          3652,
          3682,
          3660,
          3651,
          3651,
          3678,
          3679,
          3684,
          3721,
          3744,
          3784,
          3757,
          3757,
          3729,
          3753,
          3792,
          3787,
          3774,
          3749,
          3754,
          3748,
          3783,
          3841,
          3845,
          3834,
          3834,
          3764,
          3754,
          3730,
          3756,
          3731,
          3737,
          3712,
          3661,
          3661,
          3582,
          3603,
          3610,
          3583,
          3583,
          3478,
          3486,
          3518,
          3571,
          3622,
          3638,
          3663,
          3619,
          3653,
          3679,
          3695,
          3728,
          3728,
          3691,
          3677,
          3677,
          3748,
          3764,
          3771,
          3811,
          3831,
          3831,
          3820,
          3839,
          3862,
          3919,
          3950,
          3949,
          3906,
          3917,
          3917,
          3988,
          3945,
          3934,
          3942,
          3957,
          3970,
          3970,
          4009,
          3975,
          4032,
          3980,
          3940
         ],
         "yaxis": "y"
        },
        {
         "hovertemplate": "sighting_type=none<br>date_end=%{x}<br>value=%{y}<extra></extra>",
         "legendgroup": "none",
         "line": {
          "color": "#00cc96",
          "dash": "solid"
         },
         "marker": {
          "symbol": "circle"
         },
         "mode": "lines+markers",
         "name": "none",
         "orientation": "v",
         "showlegend": true,
         "type": "scatter",
         "x": [
          "2023-11-05T00:00:00",
          "2023-11-06T00:00:00",
          "2023-11-07T00:00:00",
          "2023-11-09T00:00:00",
          "2023-11-10T00:00:00",
          "2023-11-11T00:00:00",
          "2023-11-12T00:00:00",
          "2023-11-13T00:00:00",
          "2023-11-14T00:00:00",
          "2023-11-15T00:00:00",
          "2023-11-19T00:00:00",
          "2023-11-20T00:00:00",
          "2023-11-21T00:00:00",
          "2023-11-22T00:00:00",
          "2023-11-23T00:00:00",
          "2023-11-24T00:00:00",
          "2023-11-25T00:00:00",
          "2023-11-26T00:00:00",
          "2023-11-27T00:00:00",
          "2023-11-28T00:00:00",
          "2023-11-29T00:00:00",
          "2023-11-30T00:00:00",
          "2023-12-01T00:00:00",
          "2023-12-02T00:00:00",
          "2023-12-03T00:00:00",
          "2023-12-04T00:00:00",
          "2023-12-05T00:00:00",
          "2023-12-06T00:00:00",
          "2023-12-07T00:00:00",
          "2023-12-08T00:00:00",
          "2023-12-09T00:00:00",
          "2023-12-10T00:00:00",
          "2023-12-11T00:00:00",
          "2023-12-12T00:00:00",
          "2023-12-13T00:00:00",
          "2023-12-14T00:00:00",
          "2023-12-15T00:00:00",
          "2023-12-16T00:00:00",
          "2023-12-17T00:00:00",
          "2023-12-18T00:00:00",
          "2023-12-19T00:00:00",
          "2023-12-20T00:00:00",
          "2023-12-21T00:00:00",
          "2023-12-22T00:00:00",
          "2023-12-23T00:00:00",
          "2023-12-24T00:00:00",
          "2023-12-25T00:00:00",
          "2023-12-26T00:00:00",
          "2023-12-27T00:00:00",
          "2023-12-28T00:00:00",
          "2023-12-29T00:00:00",
          "2023-12-30T00:00:00",
          "2023-12-31T00:00:00",
          "2024-01-01T00:00:00",
          "2024-01-02T00:00:00",
          "2024-01-03T00:00:00",
          "2024-01-04T00:00:00",
          "2024-01-05T00:00:00",
          "2024-01-06T00:00:00",
          "2024-01-07T00:00:00",
          "2024-01-08T00:00:00",
          "2024-01-09T00:00:00",
          "2024-01-10T00:00:00",
          "2024-01-11T00:00:00",
          "2024-01-12T00:00:00",
          "2024-01-13T00:00:00",
          "2024-01-14T00:00:00",
          "2024-01-15T00:00:00",
          "2024-01-16T00:00:00",
          "2024-01-17T00:00:00",
          "2024-01-18T00:00:00",
          "2024-01-19T00:00:00",
          "2024-01-20T00:00:00",
          "2024-01-21T00:00:00",
          "2024-01-22T00:00:00",
          "2024-01-23T00:00:00",
          "2024-01-24T00:00:00",
          "2024-01-25T00:00:00",
          "2024-01-26T00:00:00",
          "2024-01-27T00:00:00",
          "2024-01-28T00:00:00",
          "2024-01-29T00:00:00",
          "2024-01-30T00:00:00",
          "2024-01-31T00:00:00",
          "2024-02-01T00:00:00",
          "2024-02-02T00:00:00",
          "2024-02-03T00:00:00",
          "2024-02-04T00:00:00",
          "2024-02-05T00:00:00",
          "2024-02-06T00:00:00",
          "2024-02-07T00:00:00",
          "2024-02-08T00:00:00",
          "2024-02-09T00:00:00",
          "2024-02-10T00:00:00",
          "2024-02-11T00:00:00",
          "2024-02-12T00:00:00",
          "2024-02-13T00:00:00",
          "2024-02-14T00:00:00",
          "2024-02-15T00:00:00",
          "2024-02-16T00:00:00",
          "2024-02-17T00:00:00",
          "2024-02-18T00:00:00",
          "2024-02-19T00:00:00",
          "2024-02-20T00:00:00",
          "2024-02-21T00:00:00",
          "2024-02-22T00:00:00",
          "2024-02-23T00:00:00",
          "2024-02-24T00:00:00",
          "2024-02-25T00:00:00",
          "2024-02-26T00:00:00",
          "2024-02-27T00:00:00",
          "2024-02-28T00:00:00",
          "2024-02-29T00:00:00",
          "2024-03-01T00:00:00",
          "2024-03-02T00:00:00",
          "2024-03-03T00:00:00"
         ],
         "xaxis": "x",
         "y": [
          10567,
          10547,
          10552,
          10531,
          10416,
          10340,
          10211,
          10211,
          10221,
          10250,
          9810,
          9810,
          6406,
          9769,
          9726,
          9371,
          9241,
          9032,
          8989,
          8933,
          8913,
          8849,
          8748,
          8700,
          8558,
          8471,
          8447,
          8533,
          8430,
          8441,
          8500,
          8439,
          8423,
          8330,
          8399,
          8362,
          8373,
          8373,
          8374,
          8407,
          8452,
          8502,
          8496,
          8548,
          8531,
          8531,
          8426,
          8517,
          8590,
          8525,
          8549,
          8596,
          8478,
          8432,
          8428,
          8556,
          8576,
          8544,
          8544,
          8408,
          8425,
          8389,
          8436,
          8426,
          8414,
          8373,
          8264,
          8264,
          8021,
          8091,
          8041,
          7926,
          7926,
          7819,
          7798,
          7867,
          7930,
          8064,
          8047,
          8028,
          7902,
          7917,
          7961,
          8106,
          8163,
          8163,
          8145,
          8034,
          8034,
          8182,
          8267,
          8279,
          8313,
          8426,
          8426,
          8437,
          8459,
          8463,
          8473,
          8558,
          8553,
          8526,
          8530,
          8530,
          8664,
          8639,
          8612,
          8635,
          8580,
          8637,
          8637,
          8810,
          8742,
          8773,
          8711,
          8569
         ],
         "yaxis": "y"
        }
       ],
       "layout": {
        "legend": {
         "title": {
          "text": "sighting_type"
         },
         "tracegroupgap": 0
        },
        "margin": {
         "t": 60
        },
        "template": {
         "data": {
          "bar": [
           {
            "error_x": {
             "color": "#2a3f5f"
            },
            "error_y": {
             "color": "#2a3f5f"
            },
            "marker": {
             "line": {
              "color": "#E5ECF6",
              "width": 0.5
             },
             "pattern": {
              "fillmode": "overlay",
              "size": 10,
              "solidity": 0.2
             }
            },
            "type": "bar"
           }
          ],
          "barpolar": [
           {
            "marker": {
             "line": {
              "color": "#E5ECF6",
              "width": 0.5
             },
             "pattern": {
              "fillmode": "overlay",
              "size": 10,
              "solidity": 0.2
             }
            },
            "type": "barpolar"
           }
          ],
          "carpet": [
           {
            "aaxis": {
             "endlinecolor": "#2a3f5f",
             "gridcolor": "white",
             "linecolor": "white",
             "minorgridcolor": "white",
             "startlinecolor": "#2a3f5f"
            },
            "baxis": {
             "endlinecolor": "#2a3f5f",
             "gridcolor": "white",
             "linecolor": "white",
             "minorgridcolor": "white",
             "startlinecolor": "#2a3f5f"
            },
            "type": "carpet"
           }
          ],
          "choropleth": [
           {
            "colorbar": {
             "outlinewidth": 0,
             "ticks": ""
            },
            "type": "choropleth"
           }
          ],
          "contour": [
           {
            "colorbar": {
             "outlinewidth": 0,
             "ticks": ""
            },
            "colorscale": [
             [
              0,
              "#0d0887"
             ],
             [
              0.1111111111111111,
              "#46039f"
             ],
             [
              0.2222222222222222,
              "#7201a8"
             ],
             [
              0.3333333333333333,
              "#9c179e"
             ],
             [
              0.4444444444444444,
              "#bd3786"
             ],
             [
              0.5555555555555556,
              "#d8576b"
             ],
             [
              0.6666666666666666,
              "#ed7953"
             ],
             [
              0.7777777777777778,
              "#fb9f3a"
             ],
             [
              0.8888888888888888,
              "#fdca26"
             ],
             [
              1,
              "#f0f921"
             ]
            ],
            "type": "contour"
           }
          ],
          "contourcarpet": [
           {
            "colorbar": {
             "outlinewidth": 0,
             "ticks": ""
            },
            "type": "contourcarpet"
           }
          ],
          "heatmap": [
           {
            "colorbar": {
             "outlinewidth": 0,
             "ticks": ""
            },
            "colorscale": [
             [
              0,
              "#0d0887"
             ],
             [
              0.1111111111111111,
              "#46039f"
             ],
             [
              0.2222222222222222,
              "#7201a8"
             ],
             [
              0.3333333333333333,
              "#9c179e"
             ],
             [
              0.4444444444444444,
              "#bd3786"
             ],
             [
              0.5555555555555556,
              "#d8576b"
             ],
             [
              0.6666666666666666,
              "#ed7953"
             ],
             [
              0.7777777777777778,
              "#fb9f3a"
             ],
             [
              0.8888888888888888,
              "#fdca26"
             ],
             [
              1,
              "#f0f921"
             ]
            ],
            "type": "heatmap"
           }
          ],
          "heatmapgl": [
           {
            "colorbar": {
             "outlinewidth": 0,
             "ticks": ""
            },
            "colorscale": [
             [
              0,
              "#0d0887"
             ],
             [
              0.1111111111111111,
              "#46039f"
             ],
             [
              0.2222222222222222,
              "#7201a8"
             ],
             [
              0.3333333333333333,
              "#9c179e"
             ],
             [
              0.4444444444444444,
              "#bd3786"
             ],
             [
              0.5555555555555556,
              "#d8576b"
             ],
             [
              0.6666666666666666,
              "#ed7953"
             ],
             [
              0.7777777777777778,
              "#fb9f3a"
             ],
             [
              0.8888888888888888,
              "#fdca26"
             ],
             [
              1,
              "#f0f921"
             ]
            ],
            "type": "heatmapgl"
           }
          ],
          "histogram": [
           {
            "marker": {
             "pattern": {
              "fillmode": "overlay",
              "size": 10,
              "solidity": 0.2
             }
            },
            "type": "histogram"
           }
          ],
          "histogram2d": [
           {
            "colorbar": {
             "outlinewidth": 0,
             "ticks": ""
            },
            "colorscale": [
             [
              0,
              "#0d0887"
             ],
             [
              0.1111111111111111,
              "#46039f"
             ],
             [
              0.2222222222222222,
              "#7201a8"
             ],
             [
              0.3333333333333333,
              "#9c179e"
             ],
             [
              0.4444444444444444,
              "#bd3786"
             ],
             [
              0.5555555555555556,
              "#d8576b"
             ],
             [
              0.6666666666666666,
              "#ed7953"
             ],
             [
              0.7777777777777778,
              "#fb9f3a"
             ],
             [
              0.8888888888888888,
              "#fdca26"
             ],
             [
              1,
              "#f0f921"
             ]
            ],
            "type": "histogram2d"
           }
          ],
          "histogram2dcontour": [
           {
            "colorbar": {
             "outlinewidth": 0,
             "ticks": ""
            },
            "colorscale": [
             [
              0,
              "#0d0887"
             ],
             [
              0.1111111111111111,
              "#46039f"
             ],
             [
              0.2222222222222222,
              "#7201a8"
             ],
             [
              0.3333333333333333,
              "#9c179e"
             ],
             [
              0.4444444444444444,
              "#bd3786"
             ],
             [
              0.5555555555555556,
              "#d8576b"
             ],
             [
              0.6666666666666666,
              "#ed7953"
             ],
             [
              0.7777777777777778,
              "#fb9f3a"
             ],
             [
              0.8888888888888888,
              "#fdca26"
             ],
             [
              1,
              "#f0f921"
             ]
            ],
            "type": "histogram2dcontour"
           }
          ],
          "mesh3d": [
           {
            "colorbar": {
             "outlinewidth": 0,
             "ticks": ""
            },
            "type": "mesh3d"
           }
          ],
          "parcoords": [
           {
            "line": {
             "colorbar": {
              "outlinewidth": 0,
              "ticks": ""
             }
            },
            "type": "parcoords"
           }
          ],
          "pie": [
           {
            "automargin": true,
            "type": "pie"
           }
          ],
          "scatter": [
           {
            "fillpattern": {
             "fillmode": "overlay",
             "size": 10,
             "solidity": 0.2
            },
            "type": "scatter"
           }
          ],
          "scatter3d": [
           {
            "line": {
             "colorbar": {
              "outlinewidth": 0,
              "ticks": ""
             }
            },
            "marker": {
             "colorbar": {
              "outlinewidth": 0,
              "ticks": ""
             }
            },
            "type": "scatter3d"
           }
          ],
          "scattercarpet": [
           {
            "marker": {
             "colorbar": {
              "outlinewidth": 0,
              "ticks": ""
             }
            },
            "type": "scattercarpet"
           }
          ],
          "scattergeo": [
           {
            "marker": {
             "colorbar": {
              "outlinewidth": 0,
              "ticks": ""
             }
            },
            "type": "scattergeo"
           }
          ],
          "scattergl": [
           {
            "marker": {
             "colorbar": {
              "outlinewidth": 0,
              "ticks": ""
             }
            },
            "type": "scattergl"
           }
          ],
          "scattermapbox": [
           {
            "marker": {
             "colorbar": {
              "outlinewidth": 0,
              "ticks": ""
             }
            },
            "type": "scattermapbox"
           }
          ],
          "scatterpolar": [
           {
            "marker": {
             "colorbar": {
              "outlinewidth": 0,
              "ticks": ""
             }
            },
            "type": "scatterpolar"
           }
          ],
          "scatterpolargl": [
           {
            "marker": {
             "colorbar": {
              "outlinewidth": 0,
              "ticks": ""
             }
            },
            "type": "scatterpolargl"
           }
          ],
          "scatterternary": [
           {
            "marker": {
             "colorbar": {
              "outlinewidth": 0,
              "ticks": ""
             }
            },
            "type": "scatterternary"
           }
          ],
          "surface": [
           {
            "colorbar": {
             "outlinewidth": 0,
             "ticks": ""
            },
            "colorscale": [
             [
              0,
              "#0d0887"
             ],
             [
              0.1111111111111111,
              "#46039f"
             ],
             [
              0.2222222222222222,
              "#7201a8"
             ],
             [
              0.3333333333333333,
              "#9c179e"
             ],
             [
              0.4444444444444444,
              "#bd3786"
             ],
             [
              0.5555555555555556,
              "#d8576b"
             ],
             [
              0.6666666666666666,
              "#ed7953"
             ],
             [
              0.7777777777777778,
              "#fb9f3a"
             ],
             [
              0.8888888888888888,
              "#fdca26"
             ],
             [
              1,
              "#f0f921"
             ]
            ],
            "type": "surface"
           }
          ],
          "table": [
           {
            "cells": {
             "fill": {
              "color": "#EBF0F8"
             },
             "line": {
              "color": "white"
             }
            },
            "header": {
             "fill": {
              "color": "#C8D4E3"
             },
             "line": {
              "color": "white"
             }
            },
            "type": "table"
           }
          ]
         },
         "layout": {
          "annotationdefaults": {
           "arrowcolor": "#2a3f5f",
           "arrowhead": 0,
           "arrowwidth": 1
          },
          "autotypenumbers": "strict",
          "coloraxis": {
           "colorbar": {
            "outlinewidth": 0,
            "ticks": ""
           }
          },
          "colorscale": {
           "diverging": [
            [
             0,
             "#8e0152"
            ],
            [
             0.1,
             "#c51b7d"
            ],
            [
             0.2,
             "#de77ae"
            ],
            [
             0.3,
             "#f1b6da"
            ],
            [
             0.4,
             "#fde0ef"
            ],
            [
             0.5,
             "#f7f7f7"
            ],
            [
             0.6,
             "#e6f5d0"
            ],
            [
             0.7,
             "#b8e186"
            ],
            [
             0.8,
             "#7fbc41"
            ],
            [
             0.9,
             "#4d9221"
            ],
            [
             1,
             "#276419"
            ]
           ],
           "sequential": [
            [
             0,
             "#0d0887"
            ],
            [
             0.1111111111111111,
             "#46039f"
            ],
            [
             0.2222222222222222,
             "#7201a8"
            ],
            [
             0.3333333333333333,
             "#9c179e"
            ],
            [
             0.4444444444444444,
             "#bd3786"
            ],
            [
             0.5555555555555556,
             "#d8576b"
            ],
            [
             0.6666666666666666,
             "#ed7953"
            ],
            [
             0.7777777777777778,
             "#fb9f3a"
            ],
            [
             0.8888888888888888,
             "#fdca26"
            ],
            [
             1,
             "#f0f921"
            ]
           ],
           "sequentialminus": [
            [
             0,
             "#0d0887"
            ],
            [
             0.1111111111111111,
             "#46039f"
            ],
            [
             0.2222222222222222,
             "#7201a8"
            ],
            [
             0.3333333333333333,
             "#9c179e"
            ],
            [
             0.4444444444444444,
             "#bd3786"
            ],
            [
             0.5555555555555556,
             "#d8576b"
            ],
            [
             0.6666666666666666,
             "#ed7953"
            ],
            [
             0.7777777777777778,
             "#fb9f3a"
            ],
            [
             0.8888888888888888,
             "#fdca26"
            ],
            [
             1,
             "#f0f921"
            ]
           ]
          },
          "colorway": [
           "#636efa",
           "#EF553B",
           "#00cc96",
           "#ab63fa",
           "#FFA15A",
           "#19d3f3",
           "#FF6692",
           "#B6E880",
           "#FF97FF",
           "#FECB52"
          ],
          "font": {
           "color": "#2a3f5f"
          },
          "geo": {
           "bgcolor": "white",
           "lakecolor": "white",
           "landcolor": "#E5ECF6",
           "showlakes": true,
           "showland": true,
           "subunitcolor": "white"
          },
          "hoverlabel": {
           "align": "left"
          },
          "hovermode": "closest",
          "mapbox": {
           "style": "light"
          },
          "paper_bgcolor": "white",
          "plot_bgcolor": "#E5ECF6",
          "polar": {
           "angularaxis": {
            "gridcolor": "white",
            "linecolor": "white",
            "ticks": ""
           },
           "bgcolor": "#E5ECF6",
           "radialaxis": {
            "gridcolor": "white",
            "linecolor": "white",
            "ticks": ""
           }
          },
          "scene": {
           "xaxis": {
            "backgroundcolor": "#E5ECF6",
            "gridcolor": "white",
            "gridwidth": 2,
            "linecolor": "white",
            "showbackground": true,
            "ticks": "",
            "zerolinecolor": "white"
           },
           "yaxis": {
            "backgroundcolor": "#E5ECF6",
            "gridcolor": "white",
            "gridwidth": 2,
            "linecolor": "white",
            "showbackground": true,
            "ticks": "",
            "zerolinecolor": "white"
           },
           "zaxis": {
            "backgroundcolor": "#E5ECF6",
            "gridcolor": "white",
            "gridwidth": 2,
            "linecolor": "white",
            "showbackground": true,
            "ticks": "",
            "zerolinecolor": "white"
           }
          },
          "shapedefaults": {
           "line": {
            "color": "#2a3f5f"
           }
          },
          "ternary": {
           "aaxis": {
            "gridcolor": "white",
            "linecolor": "white",
            "ticks": ""
           },
           "baxis": {
            "gridcolor": "white",
            "linecolor": "white",
            "ticks": ""
           },
           "bgcolor": "#E5ECF6",
           "caxis": {
            "gridcolor": "white",
            "linecolor": "white",
            "ticks": ""
           }
          },
          "title": {
           "x": 0.05
          },
          "xaxis": {
           "automargin": true,
           "gridcolor": "white",
           "linecolor": "white",
           "ticks": "",
           "title": {
            "standoff": 15
           },
           "zerolinecolor": "white",
           "zerolinewidth": 2
          },
          "yaxis": {
           "automargin": true,
           "gridcolor": "white",
           "linecolor": "white",
           "ticks": "",
           "title": {
            "standoff": 15
           },
           "zerolinecolor": "white",
           "zerolinewidth": 2
          }
         }
        },
        "title": {
         "text": "30 day Trail of Total Rats Seen"
        },
        "xaxis": {
         "anchor": "y",
         "domain": [
          0,
          1
         ],
         "tickformat": "%d %B (%a)<br>%Y",
         "title": {
          "text": "date_end"
         }
        },
        "yaxis": {
         "anchor": "x",
         "domain": [
          0,
          1
         ],
         "title": {
          "text": "Sighting Count"
         }
        }
       }
      }
     },
     "metadata": {},
     "output_type": "display_data"
    }
   ],
   "source": [
    "def plot_summary():\n",
    "    nyc_total_sightings = (\n",
    "        sightings_df.groupby([\"date_start\", \"date_end\"])\n",
    "        .sum([\"so_many\", \"one_or_two\", \"none\"])\n",
    "        .drop(columns=\"station_id\")\n",
    "        .reset_index()\n",
    "    )\n",
    "    melted_data = nyc_total_sightings.melt(\n",
    "        [\"date_start\", \"date_end\"],\n",
    "        var_name=\"sighting_type\",\n",
    "        value_vars=[\"so_many\", \"one_or_two\", \"none\"],\n",
    "    )\n",
    "\n",
    "    fig = px.line(\n",
    "        melted_data, x=\"date_end\", y=\"value\", color=\"sighting_type\", markers=True\n",
    "    )\n",
    "    fig.update_layout(\n",
    "        title=\"30 day Trail of Total Rats Seen\",\n",
    "        xaxis_tickformat=\"%d %B (%a)<br>%Y\",\n",
    "        yaxis_title=\"Sighting Count\",\n",
    "    )\n",
    "    fig.show()\n",
    "\n",
    "\n",
    "plot_summary()"
   ]
  }
 ],
 "metadata": {
  "kernelspec": {
   "display_name": "Python 3 (ipykernel)",
   "language": "python",
   "name": "python3"
  },
  "language_info": {
   "codemirror_mode": {
    "name": "ipython",
    "version": 3
   },
   "file_extension": ".py",
   "mimetype": "text/x-python",
   "name": "python",
   "nbconvert_exporter": "python",
   "pygments_lexer": "ipython3",
   "version": "3.9.13"
  }
 },
 "nbformat": 4,
 "nbformat_minor": 5
}
